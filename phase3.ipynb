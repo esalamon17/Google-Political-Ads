{
 "cells": [
  {
   "cell_type": "markdown",
   "metadata": {},
   "source": [
    "# Info 2950 Phase III"
   ]
  },
  {
   "cell_type": "markdown",
   "metadata": {},
   "source": [
    "### Eliza Salamon, Melissa LaFountain, Laurel Prime"
   ]
  },
  {
   "cell_type": "markdown",
   "metadata": {},
   "source": [
    "##### Analysis 1:\n",
    "We will attempt to measure the relationships between gender, age, location and exposure. We will do so by coming up with dummy variables, and then a linear regression model to see how exposure is affected by each variable. The use of dummy variables is beneficial because it will let us put each variable into one regression model, rather than needing different ones for each variable category. Additionally, using a linear regression model is important because it will give us a way to predict future outcomes. One of our research questions is, “How do different targeting attributes (e.g. age, gender, geo-targeting) affect ad type and ad exposure?” By creating the linear regression model, we will be able to see the relationship between ad exposure and these targeting attributes."
   ]
  },
  {
   "cell_type": "markdown",
   "metadata": {},
   "source": [
    "##### Analysis 2:\n",
    "We will examine the relationship between geographic targeting and type of advertiser. The dataset provides different aspects of geographic targeting in the form of zipcodes, cities, counties, and states.  In order to visualize aspects, we will create a heat map of advertisements using geopandas. In order to assess relationships, we will use dummy variables to represent a distinct set of regions (such states or cities). Additionally, using campaign finance data (https://www.fec.gov/data/browse-data/?tab=candidates) we can add information about advertisements' political affiliations. From this, we can portray Democrats as 0 and Republicans as 1 in order to determine relationships between geographic targeting and political party using a logistic regression model.\n",
    "\n",
    "This analysis will allow us to gain more insight into how geographical targeting is distributed both by location and by party, one of our research questions. "
   ]
  },
  {
   "cell_type": "markdown",
   "metadata": {},
   "source": [
    "##### Analysis 3:\n",
    "We will look into the relationship between age targeting and impressions of the ads. We will do so by creating a linear regression model for the variables, with categorical variables represented by numerical values. The linear regression model allows for predictions to be made about future data, making it an important method to use to determine the relationship between geo-targeting in ads and their impressions, which is what one of our data questions aims to find the answer to. We will also complete a correlation analysis, which will tell us whether or not there is in fact a relationship between geo-targeting and ad impressions."
    ]
  },
  {
   "cell_type": "code",
   "execution_count": null,
   "metadata": {},
   "outputs": [],
   "source": []
  }
 ],
 "metadata": {
  "kernelspec": {
   "display_name": "Python 3",
   "language": "python",
   "name": "python3"
  },
  "language_info": {
   "codemirror_mode": {
    "name": "ipython",
    "version": 3
   },
   "file_extension": ".py",
   "mimetype": "text/x-python",
   "name": "python",
   "nbconvert_exporter": "python",
   "pygments_lexer": "ipython3",
   "version": "3.8.5"
  }
 },
 "nbformat": 4,
 "nbformat_minor": 4
}
