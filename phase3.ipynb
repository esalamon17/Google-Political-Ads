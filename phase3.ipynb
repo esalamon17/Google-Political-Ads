{
 "cells": [
  {
   "cell_type": "markdown",
   "metadata": {},
   "source": [
    "# Info 2950 Phase III"
   ]
  },
  {
   "cell_type": "markdown",
   "metadata": {},
   "source": [
    "### Eliza Salamon, Melissa LaFountain, Laurel Prime"
   ]
  },
  {
   "cell_type": "markdown",
   "metadata": {},
   "source": [
    "##### Analysis 1:\n",
    "We will examine the relationship between geographic targeting and type of advertiser. The dataset provides different aspects of geographic targeting in the form of zipcodes, cities, counties, and states.  In order to visualize aspects, we will create a heat map of advertisements using geopandas. In order to assess relationships, we will use dummy variables to represent a distinct set of regions (such states or cities). Additionally, using campaign finance data (https://www.fec.gov/data/browse-data/?tab=candidates) we can add information about advertisements' political affiliations. From this, we can portray Democrats as 0 and Republicans as 1 in order to determine relationships between geographic targeting and political party using a logistic regression model.\n",
    "\n",
    "This analysis will allow us to gain more insight into how geographical targeting is distributed both by location and by party, one of our research questions. Our hypothesis is that different politically afffiliated parties will spend money in different geographic areas, likely based on swing states or districts, although it will be interesting to see just how those differences present themselves."
   ]
  },
  {
   "cell_type": "markdown",
   "metadata": {},
   "source": [
    "##### Analysis 2:\n",
    "We will look into the relationship between age targeting and impressions of the ads. We will do so by creating a linear regression model for the variables, with categorical variables represented by numerical values. The linear regression model allows for predictions to be made about future data, making it an important method to use to determine the relationship between geo-targeting in ads and their impressions, which is what one of our data questions aims to find the answer to. We will also complete a correlation analysis, which will tell us whether or not there is in fact a relationship between geo-targeting and ad impressions."
    ]
  },
  {
    "cell_type": "markdown",
    "metadata": {},
    "source": [
    "##### Analysis 3:\n",
    "We recognize that dealing with wide-ranging data in certain columns as it stands is tricky, so we’re opting to keep the recorded ranges (e.g. for “impressions”, we’ll go with the bins of <10K, 10K-100K, etc.) as long as these reveal significant differences between the bins, which our Histogram of Ad Spending Counts implies. In addition, we will aim to take a deeper dive into one of the bins (e.g. for Histogram of Ad Spending) and use a bootstrapping test to see if impressions are statistically different between spending bins. For example, we will identify possible variations of data that occur in the 100K-1M “impressions” bin where an impression is the metric used to quantify the number of digital views or engagements that a certain political ad experiences. Using the “impressions” variable in  this analysis is important, because it’s among the key variables for which the Transparency Report’s data is segmented into wide-ranging bins. Exploring variations in “impressions” bins will help us zoom in to discern insightful trends on the count of different impression ranges and corresponding spend range minimums. In terms of our hypothesis for this preregistered analysis, I expect that the greatest count of impressions will fall within the 100K-1M range. These hypothetical results will contribute to our overall project by clarifying significant differences between “impressions” bins."
      },
  {
   "cell_type": "code",
   "execution_count": null,
   "metadata": {},
   "outputs": [],
   "source": []
  }
 ],
 "metadata": {
  "kernelspec": {
   "display_name": "Python 3",
   "language": "python",
   "name": "python3"
  },
  "language_info": {
   "codemirror_mode": {
    "name": "ipython",
    "version": 3
   },
   "file_extension": ".py",
   "mimetype": "text/x-python",
   "name": "python",
   "nbconvert_exporter": "python",
   "pygments_lexer": "ipython3",
   "version": "3.8.5"
  }
 },
 "nbformat": 4,
 "nbformat_minor": 4
}
