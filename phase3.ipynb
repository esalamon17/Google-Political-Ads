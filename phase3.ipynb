{
 "cells": [
  {
   "cell_type": "markdown",
   "metadata": {},
   "source": [
    "# Info 2950 Phase III"
   ]
  },
  {
   "cell_type": "markdown",
   "metadata": {},
   "source": [
    "### Eliza Salamon, Melissa LaFountain, Laurel Prime"
   ]
  },
  {
   "cell_type": "markdown",
   "metadata": {},
   "source": [
    "##### Analysis 1:\n",
    "We will examine the relationship between geographic targeting and type of advertiser. The dataset provides different aspects of geographic targeting in the form of zipcodes, cities, counties, and states.  In order to visualize aspects, we will create a heat map of advertisements using geopandas. In order to assess relationships, we will use dummy variables to represent a distinct set of regions (such states or cities). Additionally, using campaign finance data (https://www.fec.gov/data/browse-data/?tab=candidates) we can add information about advertisements' political affiliations. From this, we can portray Democrats as 0 and Republicans as 1 in order to determine relationships between geographic targeting and political party using a logistic regression model.\n",
    "\n",
    "This analysis will allow us to gain more insight into how geographical targeting is distributed both by location and by party, one of our research questions. Our hypothesis is that different politically afffiliated parties will spend money in different geographic areas, likely based on swing states or districts, although it will be interesting to see just how those differences present themselves."
   ]
  },
  {
   "cell_type": "markdown",
   "metadata": {},
   "source": [
    "##### Analysis 2:\n",
    "We will look into the relationship between age targeting and impressions of the ads. We will do so by creating a linear regression model for the variables, with categorical variables represented by numerical values. The linear regression model allows for predictions to be made about future data, making it an important method to use to determine the relationship between geo-targeting in ads and their impressions, which is what one of our data questions aims to find the answer to. We will also complete a correlation analysis, which will tell us whether or not there is in fact a relationship between geo-targeting and ad impressions."
    ]
  },
  {
    "cell_type": "markdown",
    "metadata": {},
    "source": [
    "##### Analysis 3:\n",
    "We will look into the relationship between age targeting and impressions of the ads. We will do so by creating a linear regression model for the variables, with categorical variables represented by numerical values. The linear regression model allows for predictions to be made about future data, making it an important method to use to determine the relationship between geo-targeting in ads and their impressions, which is what one of our data questions aims to find the answer to. We will also complete a correlation analysis, which will tell us whether or not there is in fact a relationship between geo-targeting and ad impressions."
    ]
      },
  {
   "cell_type": "code",
   "execution_count": null,
   "metadata": {},
   "outputs": [],
   "source": []
  }
 ],
 "metadata": {
  "kernelspec": {
   "display_name": "Python 3",
   "language": "python",
   "name": "python3"
  },
  "language_info": {
   "codemirror_mode": {
    "name": "ipython",
    "version": 3
   },
   "file_extension": ".py",
   "mimetype": "text/x-python",
   "name": "python",
   "nbconvert_exporter": "python",
   "pygments_lexer": "ipython3",
   "version": "3.8.5"
  }
 },
 "nbformat": 4,
 "nbformat_minor": 4
}
