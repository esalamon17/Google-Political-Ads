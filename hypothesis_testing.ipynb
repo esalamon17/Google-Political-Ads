{
 "cells": [
  {
   "cell_type": "code",
   "execution_count": 62,
   "id": "017e7ef6-ec47-47d6-9af2-196a365ae571",
   "metadata": {},
   "outputs": [],
   "source": [
    "import pandas as pd\n",
    "import numpy as np\n",
    "import scipy.stats.distributions as dist\n"
   ]
  },
  {
   "cell_type": "code",
   "execution_count": 26,
   "id": "fea3ce9b-fea6-4f8c-9944-004479e7480d",
   "metadata": {},
   "outputs": [
    {
     "data": {
      "text/html": [
       "<div>\n",
       "<style scoped>\n",
       "    .dataframe tbody tr th:only-of-type {\n",
       "        vertical-align: middle;\n",
       "    }\n",
       "\n",
       "    .dataframe tbody tr th {\n",
       "        vertical-align: top;\n",
       "    }\n",
       "\n",
       "    .dataframe thead th {\n",
       "        text-align: right;\n",
       "    }\n",
       "</style>\n",
       "<table border=\"1\" class=\"dataframe\">\n",
       "  <thead>\n",
       "    <tr style=\"text-align: right;\">\n",
       "      <th></th>\n",
       "      <th>Impressions</th>\n",
       "      <th>Spend_Range_Min_USD</th>\n",
       "    </tr>\n",
       "  </thead>\n",
       "  <tbody>\n",
       "    <tr>\n",
       "      <th>0</th>\n",
       "      <td>≤ 10k</td>\n",
       "      <td>1000.0</td>\n",
       "    </tr>\n",
       "    <tr>\n",
       "      <th>1</th>\n",
       "      <td>≤ 10k</td>\n",
       "      <td>1000.0</td>\n",
       "    </tr>\n",
       "    <tr>\n",
       "      <th>2</th>\n",
       "      <td>≤ 10k</td>\n",
       "      <td>1000.0</td>\n",
       "    </tr>\n",
       "    <tr>\n",
       "      <th>3</th>\n",
       "      <td>≤ 10k</td>\n",
       "      <td>1000.0</td>\n",
       "    </tr>\n",
       "    <tr>\n",
       "      <th>4</th>\n",
       "      <td>≤ 10k</td>\n",
       "      <td>1000.0</td>\n",
       "    </tr>\n",
       "  </tbody>\n",
       "</table>\n",
       "</div>"
      ],
      "text/plain": [
       "  Impressions  Spend_Range_Min_USD\n",
       "0       ≤ 10k               1000.0\n",
       "1       ≤ 10k               1000.0\n",
       "2       ≤ 10k               1000.0\n",
       "3       ≤ 10k               1000.0\n",
       "4       ≤ 10k               1000.0"
      ]
     },
     "execution_count": 26,
     "metadata": {},
     "output_type": "execute_result"
    }
   ],
   "source": [
    "df = pd.read_csv('final_dataframe.csv')\n",
    "df_subset = df[['Impressions', 'Spend_Range_Min_USD']]\n",
    "df_subset.head()"
   ]
  },
  {
   "cell_type": "code",
   "execution_count": 29,
   "id": "6197648c-926a-4567-810d-5f0487d96040",
   "metadata": {},
   "outputs": [],
   "source": [
    "props_over_million = {}\n",
    "#iterate through min spending \n",
    "for spending in df_subset['Spend_Range_Min_USD'].unique():\n",
    "    #subset by spending interval\n",
    "    spend_subset = df_subset.loc[df_subset['Spend_Range_Min_USD'] == spending]\n",
    "    #get number of impressions over 1 million\n",
    "    num_over_million = len(spend_subset.loc[(spend_subset['Impressions'] == '1M-10M') | (spend_subset['Impressions'] == '> 10M')])\n",
    "    #append proportion\n",
    "    props_over_million[spending] = num_over_million/len(spend_subset)\n",
    "                                            "
   ]
  },
  {
   "cell_type": "code",
   "execution_count": 25,
   "id": "88d31f4b-86bc-43c4-9fd5-ebfaf05aa7b2",
   "metadata": {},
   "outputs": [
    {
     "data": {
      "text/plain": [
       "{1000.0: 0.10324864113260018,\n",
       " 50000.0: 0.7216494845360825,\n",
       " 100000.0: 0.7771295215869312}"
      ]
     },
     "execution_count": 25,
     "metadata": {},
     "output_type": "execute_result"
    }
   ],
   "source": [
    "props_over_million"
   ]
  },
  {
   "cell_type": "markdown",
   "id": "ae4f2cac-6f51-4215-a961-57e61e136cf1",
   "metadata": {},
   "source": [
    "Perform a hypothesis test on whether spending has an impact on high impressions.\n",
    "\n",
    "Null Hypothesis: Spending has no impact on impression count, i.e. proportion of impressions over one million is equal for each of the 3 spending category minimums: \\\\$1,000, \\\\$50,000, and \\\\$100,000"
   ]
  },
  {
   "cell_type": "code",
   "execution_count": 66,
   "id": "cb96b63e-d89f-4317-9720-41623cc4a234",
   "metadata": {},
   "outputs": [],
   "source": [
    "#compute some necessary values\n",
    "df_1000 = df_subset.loc[df_subset['Spend_Range_Min_USD'] == 1000]\n",
    "df_50000 = df_subset.loc[df_subset['Spend_Range_Min_USD'] == 50000]\n",
    "df_100000 = df_subset.loc[df_subset['Spend_Range_Min_USD'] == 100000]\n",
    "\n",
    "num_1000 = len(df_1000.loc[(df_1000['Impressions'] == '1M-10M') | (df_1000['Impressions'] == '> 10M')])\n",
    "num_50000 = len(df_50000.loc[(df_50000['Impressions'] == '1M-10M') | (df_50000['Impressions'] == '> 10M')])\n",
    "num_100000 = len(df_100000.loc[(df_100000['Impressions'] == '1M-10M') | (df_100000['Impressions'] == '> 10M')])"
   ]
  },
  {
   "cell_type": "markdown",
   "id": "0037fa26-2a0f-4433-9101-cd85ce92fc78",
   "metadata": {
    "tags": []
   },
   "source": [
    "#### First, compare the proportions of the \\\\$1,000 spending minimum to the \\\\$50,000 one\n",
    "    "
   ]
  },
  {
   "cell_type": "code",
   "execution_count": 72,
   "id": "f5651ee9-3ec8-4217-8982-e622b58faf13",
   "metadata": {},
   "outputs": [
    {
     "name": "stdout",
     "output_type": "stream",
     "text": [
      "Sample Standard Error for 1,000 and 5,000:  0.011062051876451135\n"
     ]
    }
   ],
   "source": [
    "#Calculating standard error \n",
    "subset_1000_and_50000 = spend_subset = df_subset.loc[(df_subset['Spend_Range_Min_USD'] == 1000) | (df_subset['Spend_Range_Min_USD'] == 50000)]\n",
    "prop_1000_and_50000 = len(subset_1000_and_50000.loc[(subset_1000_and_50000['Impressions'] == '1M-10M') | \n",
    "                                                    (subset_1000_and_50000['Impressions'] == '> 10M')])/len(subset_1000_and_50000)\n",
    "\n",
    "variance = prop_1000_and_50000 * (1 - prop_1000_and_50000)\n",
    "standard_error = np.sqrt(variance * (1 / num_1000 + 1 / num_50000))\n",
    "print(\"Sample Standard Error for 1,000 and 5,000: \",standard_error)"
   ]
  },
  {
   "cell_type": "code",
   "execution_count": 73,
   "id": "3f27b069-2bde-42a2-aa9a-2c6befd89714",
   "metadata": {},
   "outputs": [
    {
     "name": "stdout",
     "output_type": "stream",
     "text": [
      "The best estimate of differences between proportions is:  0.6184008434034822\n",
      "Computed Test Statistic is 55.90290574571723\n"
     ]
    }
   ],
   "source": [
    "# Calculate the test statistic \n",
    "best_estimate = (num_50000/len(df_50000) - num_1000/len(df_1000))\n",
    "print(\"The best estimate of differences between proportions is: \",best_estimate)\n",
    "hypothesized_estimate = 0\n",
    "test_stat = (best_estimate-hypothesized_estimate) / standard_error\n",
    "print(\"Computed Test Statistic is\",test_stat)"
   ]
  },
  {
   "cell_type": "code",
   "execution_count": 74,
   "id": "436862bf-3761-4ccb-9ada-89116446b602",
   "metadata": {},
   "outputs": [
    {
     "name": "stdout",
     "output_type": "stream",
     "text": [
      "Computed P-value is 0.0\n"
     ]
    }
   ],
   "source": [
    "# Calculate the  p-value\n",
    "pvalue = 2*dist.norm.cdf(-np.abs(test_stat)) # Multiplied by two indicates a two tailed testing.\n",
    "print(\"Computed P-value is\", pvalue)"
   ]
  },
  {
   "cell_type": "markdown",
   "id": "83904e63-b303-43f9-a47a-bba346468bf1",
   "metadata": {
    "tags": []
   },
   "source": [
    "#### Then, compare the proportions of the \\\\$50,000 spending minimum to the \\\\$100,000 one\n",
    "    "
   ]
  },
  {
   "cell_type": "code",
   "execution_count": 78,
   "id": "e38fdb59-eb55-40e5-85a1-fd031b1c51b5",
   "metadata": {},
   "outputs": [
    {
     "name": "stdout",
     "output_type": "stream",
     "text": [
      "Sample Standard Error for 1,000 and 5,000:  0.0222521556915524\n"
     ]
    }
   ],
   "source": [
    "#Calculating standard error \n",
    "subset_50000_and_100000 = df_subset.loc[(df_subset['Spend_Range_Min_USD'] == 50000) | (df_subset['Spend_Range_Min_USD'] == 100000)]\n",
    "prop_50000_and_100000 = len(subset_50000_and_100000.loc[(subset_50000_and_100000['Impressions'] == '1M-10M') | \n",
    "                                                    (subset_50000_and_100000['Impressions'] == '> 10M')])/len(subset_50000_and_100000)\n",
    "\n",
    "variance = prop_50000_and_100000 * (1 - prop_50000_and_100000)\n",
    "standard_error = np.sqrt(variance * (1 / num_50000 + 1 / num_100000))\n",
    "print(\"Sample Standard Error for 1,000 and 5,000: \",standard_error)"
   ]
  },
  {
   "cell_type": "code",
   "execution_count": 79,
   "id": "3eb5837e-152b-40f0-9763-08551011d077",
   "metadata": {},
   "outputs": [
    {
     "name": "stdout",
     "output_type": "stream",
     "text": [
      "The best estimate of differences between proportions is 0.055480037050848696\n",
      "Computed Test Statistic is 2.4932432533676105\n"
     ]
    }
   ],
   "source": [
    "# Calculate the test statistic \n",
    "best_estimate = (num_100000/len(df_100000) - num_50000/len(df_50000))\n",
    "print(\"The best estimate of differences between proportions is\",best_estimate)\n",
    "hypothesized_estimate = 0\n",
    "test_stat = (best_estimate-hypothesized_estimate) / standard_error\n",
    "print(\"Computed Test Statistic is\",test_stat)"
   ]
  },
  {
   "cell_type": "code",
   "execution_count": 77,
   "id": "653074fa-2afd-4bf4-a90a-fb03a0a63317",
   "metadata": {},
   "outputs": [
    {
     "name": "stdout",
     "output_type": "stream",
     "text": [
      "Computed P-value is 0.012658209285286692\n"
     ]
    }
   ],
   "source": [
    "# Calculate the  p-value\n",
    "pvalue = 2*dist.norm.cdf(-np.abs(test_stat)) # Multiplied by two indicates a two tailed testing.\n",
    "print(\"Computed P-value is\", pvalue)"
   ]
  },
  {
   "cell_type": "markdown",
   "id": "b2b35dc9-1154-46ca-aa69-0d9ffaaaef51",
   "metadata": {
    "tags": []
   },
   "source": [
    "#### Finally, compare the proportions of the \\\\$1,000 spending minimum to the \\\\$100,000 one\n",
    "    "
   ]
  },
  {
   "cell_type": "code",
   "execution_count": 80,
   "id": "39f5321f-4e47-4e9e-bbc8-06b2babc04c9",
   "metadata": {},
   "outputs": [
    {
     "name": "stdout",
     "output_type": "stream",
     "text": [
      "Sample Standard Error for 1,000 and 5,000:  0.012632437984371081\n"
     ]
    }
   ],
   "source": [
    "#Calculating standard error \n",
    "subset_1000_and_100000 = df_subset.loc[(df_subset['Spend_Range_Min_USD'] == 1000) | (df_subset['Spend_Range_Min_USD'] == 100000)]\n",
    "prop_1000_and_100000 = len(subset_1000_and_100000.loc[(subset_1000_and_100000['Impressions'] == '1M-10M') | \n",
    "                                                    (subset_1000_and_100000['Impressions'] == '> 10M')])/len(subset_1000_and_100000)\n",
    "\n",
    "variance = prop_1000_and_100000 * (1 - prop_1000_and_100000)\n",
    "standard_error = np.sqrt(variance * (1 / num_1000 + 1 / num_100000))\n",
    "print(\"Sample Standard Error for 1,000 and 5,000: \",standard_error)"
   ]
  },
  {
   "cell_type": "code",
   "execution_count": 82,
   "id": "6e84e5e0-fa1a-478f-8d0f-19312ed3c519",
   "metadata": {},
   "outputs": [
    {
     "name": "stdout",
     "output_type": "stream",
     "text": [
      "The best estimate of differences between proportions is 0.673880880454331\n",
      "Computed Test Statistic is 53.345275178715305\n"
     ]
    }
   ],
   "source": [
    "# Calculate the test statistic \n",
    "best_estimate = (num_100000/len(df_100000) - num_1000/len(df_1000))\n",
    "print(\"The best estimate of differences between proportions is\",best_estimate)\n",
    "hypothesized_estimate = 0\n",
    "test_stat = (best_estimate-hypothesized_estimate) / standard_error\n",
    "print(\"Computed Test Statistic is\",test_stat)"
   ]
  },
  {
   "cell_type": "code",
   "execution_count": 83,
   "id": "72fd651a-c4d7-4cbe-97dd-437ca3496925",
   "metadata": {},
   "outputs": [
    {
     "name": "stdout",
     "output_type": "stream",
     "text": [
      "Computed P-value is 0.0\n"
     ]
    }
   ],
   "source": [
    "# Calculate the  p-value\n",
    "pvalue = 2*dist.norm.cdf(-np.abs(test_stat)) # Multiplied by two indicates a two tailed testing.\n",
    "print(\"Computed P-value is\", pvalue)"
   ]
  },
  {
   "cell_type": "code",
   "execution_count": null,
   "id": "3c7d590a-1af1-40f5-b404-bf71a3b12d69",
   "metadata": {},
   "outputs": [],
   "source": []
  }
 ],
 "metadata": {
  "kernelspec": {
   "display_name": "Python 3 (ipykernel)",
   "language": "python",
   "name": "python3"
  },
  "language_info": {
   "codemirror_mode": {
    "name": "ipython",
    "version": 3
   },
   "file_extension": ".py",
   "mimetype": "text/x-python",
   "name": "python",
   "nbconvert_exporter": "python",
   "pygments_lexer": "ipython3",
   "version": "3.8.2"
  }
 },
 "nbformat": 4,
 "nbformat_minor": 5
}
