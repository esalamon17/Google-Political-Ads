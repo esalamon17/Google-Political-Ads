{
 "cells": [
  {
   "cell_type": "code",
   "execution_count": 17,
   "id": "5ea75382-f852-4712-b0cc-c97ee986a66a",
   "metadata": {},
   "outputs": [],
   "source": [
    "import pandas as pd\n",
    "import numpy as np\n",
    "import matplotlib.pyplot as plt\n",
    "import seaborn as sns\n",
    "from  sklearn.linear_model import LinearRegression"
   ]
  },
  {
   "cell_type": "code",
   "execution_count": 3,
   "id": "9c79deb9-fc2e-4428-9333-b954989242a0",
   "metadata": {},
   "outputs": [
    {
     "data": {
      "text/html": [
       "<div>\n",
       "<style scoped>\n",
       "    .dataframe tbody tr th:only-of-type {\n",
       "        vertical-align: middle;\n",
       "    }\n",
       "\n",
       "    .dataframe tbody tr th {\n",
       "        vertical-align: top;\n",
       "    }\n",
       "\n",
       "    .dataframe thead th {\n",
       "        text-align: right;\n",
       "    }\n",
       "</style>\n",
       "<table border=\"1\" class=\"dataframe\">\n",
       "  <thead>\n",
       "    <tr style=\"text-align: right;\">\n",
       "      <th></th>\n",
       "      <th>Ad_Type</th>\n",
       "      <th>Regions</th>\n",
       "      <th>Advertiser_Name</th>\n",
       "      <th>Date_Range_Start</th>\n",
       "      <th>Date_Range_End</th>\n",
       "      <th>Num_of_Days</th>\n",
       "      <th>Impressions</th>\n",
       "      <th>Spend_USD</th>\n",
       "      <th>Age_Targeting</th>\n",
       "      <th>Gender_Targeting</th>\n",
       "      <th>Geo_Targeting_Included</th>\n",
       "      <th>Geo_Targeting_Excluded</th>\n",
       "      <th>Spend_Range_Min_USD</th>\n",
       "      <th>Spend_Range_Max_USD</th>\n",
       "      <th>Areas_Targeted</th>\n",
       "      <th>Ad_Type_Code</th>\n",
       "      <th>Impression_Type</th>\n",
       "    </tr>\n",
       "  </thead>\n",
       "  <tbody>\n",
       "    <tr>\n",
       "      <th>0</th>\n",
       "      <td>Text</td>\n",
       "      <td>US</td>\n",
       "      <td>ALEX FOR AZ</td>\n",
       "      <td>2020-07-08</td>\n",
       "      <td>2020-08-04</td>\n",
       "      <td>28.0</td>\n",
       "      <td>≤ 10k</td>\n",
       "      <td>1k-50k</td>\n",
       "      <td>Not targeted</td>\n",
       "      <td>Not targeted</td>\n",
       "      <td>85054, 85207, 85215, 85250, 85251, 85253, 8525...</td>\n",
       "      <td>Not targeted</td>\n",
       "      <td>1000.0</td>\n",
       "      <td>50000.0</td>\n",
       "      <td>{'Cave creek', 'Phoenix', 'Fort mcdowell', 'Sc...</td>\n",
       "      <td>2</td>\n",
       "      <td>1</td>\n",
       "    </tr>\n",
       "    <tr>\n",
       "      <th>1</th>\n",
       "      <td>Text</td>\n",
       "      <td>US</td>\n",
       "      <td>ALEX FOR AZ</td>\n",
       "      <td>2020-07-07</td>\n",
       "      <td>2020-08-04</td>\n",
       "      <td>29.0</td>\n",
       "      <td>≤ 10k</td>\n",
       "      <td>1k-50k</td>\n",
       "      <td>Not targeted</td>\n",
       "      <td>Not targeted</td>\n",
       "      <td>85054, 85207, 85215, 85250, 85251, 85253, 8525...</td>\n",
       "      <td>Not targeted</td>\n",
       "      <td>1000.0</td>\n",
       "      <td>50000.0</td>\n",
       "      <td>{'Cave creek', 'Phoenix', 'Fort mcdowell', 'Sc...</td>\n",
       "      <td>2</td>\n",
       "      <td>1</td>\n",
       "    </tr>\n",
       "    <tr>\n",
       "      <th>2</th>\n",
       "      <td>Text</td>\n",
       "      <td>US</td>\n",
       "      <td>PETE FOR AMERICA, INC.</td>\n",
       "      <td>2020-02-22</td>\n",
       "      <td>2020-02-22</td>\n",
       "      <td>1.0</td>\n",
       "      <td>≤ 10k</td>\n",
       "      <td>1k-50k</td>\n",
       "      <td>Not targeted</td>\n",
       "      <td>Not targeted</td>\n",
       "      <td>Nevada</td>\n",
       "      <td>Not targeted</td>\n",
       "      <td>1000.0</td>\n",
       "      <td>50000.0</td>\n",
       "      <td>{'Nevada'}</td>\n",
       "      <td>2</td>\n",
       "      <td>1</td>\n",
       "    </tr>\n",
       "    <tr>\n",
       "      <th>3</th>\n",
       "      <td>Text</td>\n",
       "      <td>US</td>\n",
       "      <td>PETE FOR AMERICA, INC.</td>\n",
       "      <td>2019-08-14</td>\n",
       "      <td>2019-10-15</td>\n",
       "      <td>62.0</td>\n",
       "      <td>≤ 10k</td>\n",
       "      <td>1k-50k</td>\n",
       "      <td>Not targeted</td>\n",
       "      <td>Not targeted</td>\n",
       "      <td>New Hampshire</td>\n",
       "      <td>Not targeted</td>\n",
       "      <td>1000.0</td>\n",
       "      <td>50000.0</td>\n",
       "      <td>{'New Hampshire'}</td>\n",
       "      <td>2</td>\n",
       "      <td>1</td>\n",
       "    </tr>\n",
       "    <tr>\n",
       "      <th>4</th>\n",
       "      <td>Text</td>\n",
       "      <td>US</td>\n",
       "      <td>PETE FOR AMERICA, INC.</td>\n",
       "      <td>2020-02-27</td>\n",
       "      <td>2020-02-29</td>\n",
       "      <td>3.0</td>\n",
       "      <td>≤ 10k</td>\n",
       "      <td>1k-50k</td>\n",
       "      <td>Not targeted</td>\n",
       "      <td>Not targeted</td>\n",
       "      <td>South Carolina</td>\n",
       "      <td>Not targeted</td>\n",
       "      <td>1000.0</td>\n",
       "      <td>50000.0</td>\n",
       "      <td>{'South Carolina'}</td>\n",
       "      <td>2</td>\n",
       "      <td>1</td>\n",
       "    </tr>\n",
       "  </tbody>\n",
       "</table>\n",
       "</div>"
      ],
      "text/plain": [
       "  Ad_Type Regions         Advertiser_Name Date_Range_Start Date_Range_End  \\\n",
       "0    Text      US             ALEX FOR AZ       2020-07-08     2020-08-04   \n",
       "1    Text      US             ALEX FOR AZ       2020-07-07     2020-08-04   \n",
       "2    Text      US  PETE FOR AMERICA, INC.       2020-02-22     2020-02-22   \n",
       "3    Text      US  PETE FOR AMERICA, INC.       2019-08-14     2019-10-15   \n",
       "4    Text      US  PETE FOR AMERICA, INC.       2020-02-27     2020-02-29   \n",
       "\n",
       "   Num_of_Days Impressions Spend_USD Age_Targeting Gender_Targeting  \\\n",
       "0         28.0       ≤ 10k    1k-50k  Not targeted     Not targeted   \n",
       "1         29.0       ≤ 10k    1k-50k  Not targeted     Not targeted   \n",
       "2          1.0       ≤ 10k    1k-50k  Not targeted     Not targeted   \n",
       "3         62.0       ≤ 10k    1k-50k  Not targeted     Not targeted   \n",
       "4          3.0       ≤ 10k    1k-50k  Not targeted     Not targeted   \n",
       "\n",
       "                              Geo_Targeting_Included Geo_Targeting_Excluded  \\\n",
       "0  85054, 85207, 85215, 85250, 85251, 85253, 8525...           Not targeted   \n",
       "1  85054, 85207, 85215, 85250, 85251, 85253, 8525...           Not targeted   \n",
       "2                                             Nevada           Not targeted   \n",
       "3                                      New Hampshire           Not targeted   \n",
       "4                                     South Carolina           Not targeted   \n",
       "\n",
       "   Spend_Range_Min_USD  Spend_Range_Max_USD  \\\n",
       "0               1000.0              50000.0   \n",
       "1               1000.0              50000.0   \n",
       "2               1000.0              50000.0   \n",
       "3               1000.0              50000.0   \n",
       "4               1000.0              50000.0   \n",
       "\n",
       "                                      Areas_Targeted  Ad_Type_Code  \\\n",
       "0  {'Cave creek', 'Phoenix', 'Fort mcdowell', 'Sc...             2   \n",
       "1  {'Cave creek', 'Phoenix', 'Fort mcdowell', 'Sc...             2   \n",
       "2                                         {'Nevada'}             2   \n",
       "3                                  {'New Hampshire'}             2   \n",
       "4                                 {'South Carolina'}             2   \n",
       "\n",
       "   Impression_Type  \n",
       "0                1  \n",
       "1                1  \n",
       "2                1  \n",
       "3                1  \n",
       "4                1  "
      ]
     },
     "execution_count": 3,
     "metadata": {},
     "output_type": "execute_result"
    }
   ],
   "source": [
    "data = pd.read_csv('final_dataframe.csv')\n",
    "data.head()"
   ]
  },
  {
   "cell_type": "code",
   "execution_count": 4,
   "id": "41488abd-c2c6-4dce-9c2d-b9d5d3351240",
   "metadata": {},
   "outputs": [
    {
     "data": {
      "text/html": [
       "<div>\n",
       "<style scoped>\n",
       "    .dataframe tbody tr th:only-of-type {\n",
       "        vertical-align: middle;\n",
       "    }\n",
       "\n",
       "    .dataframe tbody tr th {\n",
       "        vertical-align: top;\n",
       "    }\n",
       "\n",
       "    .dataframe thead th {\n",
       "        text-align: right;\n",
       "    }\n",
       "</style>\n",
       "<table border=\"1\" class=\"dataframe\">\n",
       "  <thead>\n",
       "    <tr style=\"text-align: right;\">\n",
       "      <th></th>\n",
       "      <th>Age_Targeting</th>\n",
       "      <th>Impressions</th>\n",
       "      <th>Impression_Type</th>\n",
       "    </tr>\n",
       "  </thead>\n",
       "  <tbody>\n",
       "    <tr>\n",
       "      <th>0</th>\n",
       "      <td>18-24, 25-34, 35-44, 45-54, 55-64, ≥65, Unknow...</td>\n",
       "      <td>≤ 10k</td>\n",
       "      <td>1</td>\n",
       "    </tr>\n",
       "    <tr>\n",
       "      <th>1</th>\n",
       "      <td>18-24, 25-34, 35-44, 45-54, 55-64, ≥65, Unknow...</td>\n",
       "      <td>≤ 10k</td>\n",
       "      <td>1</td>\n",
       "    </tr>\n",
       "    <tr>\n",
       "      <th>2</th>\n",
       "      <td>18-24, 25-34, 35-44, 45-54, 55-64, ≥65, Unknow...</td>\n",
       "      <td>≤ 10k</td>\n",
       "      <td>1</td>\n",
       "    </tr>\n",
       "    <tr>\n",
       "      <th>3</th>\n",
       "      <td>18-24, 25-34, 35-44, 45-54, 55-64, ≥65, Unknow...</td>\n",
       "      <td>≤ 10k</td>\n",
       "      <td>1</td>\n",
       "    </tr>\n",
       "    <tr>\n",
       "      <th>4</th>\n",
       "      <td>18-24, 25-34, 35-44, 45-54, 55-64, ≥65, Unknow...</td>\n",
       "      <td>≤ 10k</td>\n",
       "      <td>1</td>\n",
       "    </tr>\n",
       "    <tr>\n",
       "      <th>...</th>\n",
       "      <td>...</td>\n",
       "      <td>...</td>\n",
       "      <td>...</td>\n",
       "    </tr>\n",
       "    <tr>\n",
       "      <th>44988</th>\n",
       "      <td>18-24, 25-34, 35-44, 45-54, 55-64, ≥65, Unknow...</td>\n",
       "      <td>&gt; 10M</td>\n",
       "      <td>5</td>\n",
       "    </tr>\n",
       "    <tr>\n",
       "      <th>44989</th>\n",
       "      <td>18-24, 25-34, 35-44, 45-54, 55-64, ≥65, Unknow...</td>\n",
       "      <td>&gt; 10M</td>\n",
       "      <td>5</td>\n",
       "    </tr>\n",
       "    <tr>\n",
       "      <th>44990</th>\n",
       "      <td>18-24, 25-34, 35-44, 45-54, 55-64, ≥65, Unknow...</td>\n",
       "      <td>&gt; 10M</td>\n",
       "      <td>5</td>\n",
       "    </tr>\n",
       "    <tr>\n",
       "      <th>44991</th>\n",
       "      <td>18-24, 25-34, 35-44, 45-54, 55-64, ≥65, Unknow...</td>\n",
       "      <td>&gt; 10M</td>\n",
       "      <td>5</td>\n",
       "    </tr>\n",
       "    <tr>\n",
       "      <th>44992</th>\n",
       "      <td>18-24, 25-34, 35-44, 45-54, 55-64, ≥65, Unknow...</td>\n",
       "      <td>&gt; 10M</td>\n",
       "      <td>5</td>\n",
       "    </tr>\n",
       "  </tbody>\n",
       "</table>\n",
       "<p>44993 rows × 3 columns</p>\n",
       "</div>"
      ],
      "text/plain": [
       "                                           Age_Targeting Impressions  \\\n",
       "0      18-24, 25-34, 35-44, 45-54, 55-64, ≥65, Unknow...       ≤ 10k   \n",
       "1      18-24, 25-34, 35-44, 45-54, 55-64, ≥65, Unknow...       ≤ 10k   \n",
       "2      18-24, 25-34, 35-44, 45-54, 55-64, ≥65, Unknow...       ≤ 10k   \n",
       "3      18-24, 25-34, 35-44, 45-54, 55-64, ≥65, Unknow...       ≤ 10k   \n",
       "4      18-24, 25-34, 35-44, 45-54, 55-64, ≥65, Unknow...       ≤ 10k   \n",
       "...                                                  ...         ...   \n",
       "44988  18-24, 25-34, 35-44, 45-54, 55-64, ≥65, Unknow...       > 10M   \n",
       "44989  18-24, 25-34, 35-44, 45-54, 55-64, ≥65, Unknow...       > 10M   \n",
       "44990  18-24, 25-34, 35-44, 45-54, 55-64, ≥65, Unknow...       > 10M   \n",
       "44991  18-24, 25-34, 35-44, 45-54, 55-64, ≥65, Unknow...       > 10M   \n",
       "44992  18-24, 25-34, 35-44, 45-54, 55-64, ≥65, Unknow...       > 10M   \n",
       "\n",
       "       Impression_Type  \n",
       "0                    1  \n",
       "1                    1  \n",
       "2                    1  \n",
       "3                    1  \n",
       "4                    1  \n",
       "...                ...  \n",
       "44988                5  \n",
       "44989                5  \n",
       "44990                5  \n",
       "44991                5  \n",
       "44992                5  \n",
       "\n",
       "[44993 rows x 3 columns]"
      ]
     },
     "execution_count": 4,
     "metadata": {},
     "output_type": "execute_result"
    }
   ],
   "source": [
    "#reducing to only necessary columns, getting rid of ads that aren't age targeted\n",
    "age_df = data[['Age_Targeting', 'Impressions', 'Impression_Type']]\n",
    "age_df = age_df.loc[data['Age_Targeting'] != 'Not targeted']\n",
    "age_df.reset_index(drop = True)"
   ]
  },
  {
   "cell_type": "code",
   "execution_count": 5,
   "id": "b8b4cb34-50fa-4736-b0da-7aeba91930b4",
   "metadata": {},
   "outputs": [],
   "source": [
    "#make age targeting column into list\n",
    "age_list = [x.split(', ') for x in age_df['Age_Targeting']]"
   ]
  },
  {
   "cell_type": "code",
   "execution_count": 6,
   "id": "1ee4018b-116f-41b7-ba3e-4ee23912428b",
   "metadata": {},
   "outputs": [],
   "source": [
    "age_df['Age_Targeting_List'] = age_list"
   ]
  },
  {
   "cell_type": "code",
   "execution_count": 7,
   "id": "0b55d64f-9d2f-4eed-883a-95eaa682dabc",
   "metadata": {},
   "outputs": [
    {
     "name": "stderr",
     "output_type": "stream",
     "text": [
      "/var/folders/ng/n22ngf7s1rb1986lmpbmtnh40000gn/T/ipykernel_25677/1774886150.py:2: FutureWarning: Using the level keyword in DataFrame and Series aggregations is deprecated and will be removed in a future version. Use groupby instead. df.sum(level=1) should use df.groupby(level=1).sum().\n",
      "  age_dummies = pd.get_dummies(age_df['Age_Targeting_List'].explode()).sum(level=0)\n"
     ]
    },
    {
     "data": {
      "text/html": [
       "<div>\n",
       "<style scoped>\n",
       "    .dataframe tbody tr th:only-of-type {\n",
       "        vertical-align: middle;\n",
       "    }\n",
       "\n",
       "    .dataframe tbody tr th {\n",
       "        vertical-align: top;\n",
       "    }\n",
       "\n",
       "    .dataframe thead th {\n",
       "        text-align: right;\n",
       "    }\n",
       "</style>\n",
       "<table border=\"1\" class=\"dataframe\">\n",
       "  <thead>\n",
       "    <tr style=\"text-align: right;\">\n",
       "      <th></th>\n",
       "      <th>18-24</th>\n",
       "      <th>25-34</th>\n",
       "      <th>35-44</th>\n",
       "      <th>45-54</th>\n",
       "      <th>55-64</th>\n",
       "      <th>Unknown age</th>\n",
       "      <th>≤18</th>\n",
       "      <th>≥65</th>\n",
       "      <th>Impression_Type</th>\n",
       "    </tr>\n",
       "  </thead>\n",
       "  <tbody>\n",
       "    <tr>\n",
       "      <th>77</th>\n",
       "      <td>1</td>\n",
       "      <td>1</td>\n",
       "      <td>1</td>\n",
       "      <td>1</td>\n",
       "      <td>1</td>\n",
       "      <td>1</td>\n",
       "      <td>1</td>\n",
       "      <td>1</td>\n",
       "      <td>1</td>\n",
       "    </tr>\n",
       "    <tr>\n",
       "      <th>94</th>\n",
       "      <td>1</td>\n",
       "      <td>1</td>\n",
       "      <td>1</td>\n",
       "      <td>1</td>\n",
       "      <td>1</td>\n",
       "      <td>1</td>\n",
       "      <td>0</td>\n",
       "      <td>1</td>\n",
       "      <td>1</td>\n",
       "    </tr>\n",
       "    <tr>\n",
       "      <th>96</th>\n",
       "      <td>1</td>\n",
       "      <td>1</td>\n",
       "      <td>1</td>\n",
       "      <td>1</td>\n",
       "      <td>1</td>\n",
       "      <td>1</td>\n",
       "      <td>0</td>\n",
       "      <td>1</td>\n",
       "      <td>1</td>\n",
       "    </tr>\n",
       "    <tr>\n",
       "      <th>97</th>\n",
       "      <td>1</td>\n",
       "      <td>1</td>\n",
       "      <td>1</td>\n",
       "      <td>1</td>\n",
       "      <td>1</td>\n",
       "      <td>1</td>\n",
       "      <td>0</td>\n",
       "      <td>1</td>\n",
       "      <td>1</td>\n",
       "    </tr>\n",
       "    <tr>\n",
       "      <th>98</th>\n",
       "      <td>1</td>\n",
       "      <td>1</td>\n",
       "      <td>1</td>\n",
       "      <td>1</td>\n",
       "      <td>1</td>\n",
       "      <td>1</td>\n",
       "      <td>0</td>\n",
       "      <td>1</td>\n",
       "      <td>1</td>\n",
       "    </tr>\n",
       "  </tbody>\n",
       "</table>\n",
       "</div>"
      ],
      "text/plain": [
       "    18-24  25-34  35-44  45-54  55-64  Unknown age  ≤18  ≥65  Impression_Type\n",
       "77      1      1      1      1      1            1    1    1                1\n",
       "94      1      1      1      1      1            1    0    1                1\n",
       "96      1      1      1      1      1            1    0    1                1\n",
       "97      1      1      1      1      1            1    0    1                1\n",
       "98      1      1      1      1      1            1    0    1                1"
      ]
     },
     "execution_count": 7,
     "metadata": {},
     "output_type": "execute_result"
    }
   ],
   "source": [
    "#create dummy variables for each age range\n",
    "age_dummies = pd.get_dummies(age_df['Age_Targeting_List'].explode()).sum(level=0)\n",
    "age_dummies['Impression_Type'] = age_df['Impression_Type']\n",
    "age_dummies.reset_index(drop = True)\n",
    "age_dummies.head()"
   ]
  },
  {
   "cell_type": "code",
   "execution_count": 8,
   "id": "cf669def-b563-406b-970d-eeaee200034a",
   "metadata": {},
   "outputs": [],
   "source": [
    "#delete unknown age\n",
    "age_dummies.drop(columns = ['Unknown age'], inplace = True)"
   ]
  },
  {
   "cell_type": "code",
   "execution_count": 9,
   "id": "10070430-7fe8-489e-8f87-c3f1be6c6fbd",
   "metadata": {},
   "outputs": [
    {
     "name": "stdout",
     "output_type": "stream",
     "text": [
      "18-24    42673\n",
      "25-34    42994\n",
      "35-44    44151\n",
      "45-54    44210\n",
      "55-64    44055\n",
      "≤18      19333\n",
      "≥65      43991\n",
      "dtype: int64\n"
     ]
    }
   ],
   "source": [
    "#create series of column sums\n",
    "arr = age_dummies.drop(columns = ['Impression_Type']).sum(axis = 0)\n",
    "print(arr)"
   ]
  },
  {
   "cell_type": "code",
   "execution_count": 12,
   "id": "f90b06ff-f5a1-4e89-bdd3-5156ac6a519d",
   "metadata": {},
   "outputs": [
    {
     "data": {
      "image/png": "[encoded data removed]",
      "text/plain": [
       "<Figure size 432x288 with 1 Axes>"
      ]
     },
     "metadata": {
      "needs_background": "light"
     },
     "output_type": "display_data"
    }
   ],
   "source": [
    "#plot column sums\n",
    "arr.plot(kind = 'bar');\n",
    "plt.xlabel('Age Targeting Bracket');\n",
    "plt.ylabel('Number of Ads Targeted');"
   ]
  },
  {
   "cell_type": "markdown",
   "id": "3b8e85e1-d731-41a6-868e-93a26cdc0040",
   "metadata": {},
   "source": [
    "All age brackets seem to have a pretty uniform distribution, except for <18 which makes sense because that age bracket can't vote!"
   ]
  },
  {
   "cell_type": "code",
   "execution_count": 14,
   "id": "43f1939d-d7de-4578-a180-53d794decee1",
   "metadata": {},
   "outputs": [],
   "source": [
    "predictors_ages = list(age_dummies.columns)\n",
    "predictors_ages.remove('Impression_Type')\n",
    "#create linear regression model\n",
    "lin_model = LinearRegression().fit(age_dummies[predictors_ages], age_dummies['Impression_Type'])"
   ]
  },
  {
   "cell_type": "code",
   "execution_count": 15,
   "id": "4cb7a9d6-22c6-41a7-9606-e8e03100dd3f",
   "metadata": {},
   "outputs": [
    {
     "data": {
      "text/plain": [
       "0.0009268657310729234"
      ]
     },
     "execution_count": 15,
     "metadata": {},
     "output_type": "execute_result"
    }
   ],
   "source": [
    "lin_model.score(age_dummies[predictors_ages], age_dummies['Impression_Type'])"
   ]
  },
  {
   "cell_type": "markdown",
   "id": "9879eecf-6009-409b-8ea1-3e29d2ac7d9b",
   "metadata": {},
   "source": [
    "So, this is clearly a terrible model, age targeting is not particuarly indicative of how many impressions an ad will recieve"
   ]
  },
  {
   "cell_type": "code",
   "execution_count": 24,
   "id": "8308da03-e0b0-446e-82a3-b5b271f52744",
   "metadata": {},
   "outputs": [
    {
     "name": "stdout",
     "output_type": "stream",
     "text": [
      "18-24    4901\n",
      "25-34    4913\n",
      "35-44    5026\n",
      "45-54    5040\n",
      "55-64    5051\n",
      "≤18      2353\n",
      "≥65      5047\n",
      "dtype: int64\n"
     ]
    }
   ],
   "source": [
    "#try filtering by impressions over 1 million -- impression type 4 or 5\n",
    "impressions_filtered = age_dummies.loc[(age_dummies['Impression_Type'] == 4) | (age_dummies['Impression_Type'] == 5)]\n",
    "#create sum array again\n",
    "arr_filtered = impressions_filtered.drop(columns = ['Impression_Type']).sum(axis = 0)\n",
    "print(arr_filtered)"
   ]
  },
  {
   "cell_type": "code",
   "execution_count": 26,
   "id": "30cd9007-d441-448f-acf9-188b1c4ac08b",
   "metadata": {},
   "outputs": [
    {
     "data": {
      "image/png": "[encoded data removed]",
      "text/plain": [
       "<Figure size 432x288 with 1 Axes>"
      ]
     },
     "metadata": {
      "needs_background": "light"
     },
     "output_type": "display_data"
    }
   ],
   "source": [
    "arr_filtered.plot(kind = 'bar');\n",
    "plt.xlabel('Age Targeting Bracket');\n",
    "plt.ylabel('Number of Ads Targeted with over 1 million impressions');"
   ]
  },
  {
   "cell_type": "markdown",
   "id": "084599c5-ad6f-4b51-95f8-099768a8c751",
   "metadata": {},
   "source": [
    "It appears that our original preregistered hypothesis was rejected; there is no indication that age group targeting has a impact on the number of impressions the advertisement recieves. The linear regression model proved to be a poor measure of prediction, likely because of the discrete nature of both the predictor and response variables. Additionally, bar plots of the number of ads targed to each age group have a pretty uniform distribution, with one exception. The age group of <18 was targeted at a much lower rate, which makes sense becasue they are unable to vote and are thus less important to political interests. Even when the data was filtered to just include ads with over a million impressions, there was still a pretty uniform distribtion (except for <18, again.)\n",
    "\n",
    "Based on thte way the Google dataset was formatted, many advertisements target all or many age groups. Because there is not breakdown between how many impressions there were for each age group in these cases, we lost out on a lot of potential insight. Additionally, because impressions were binned to large intervals, the linear regression model was less successful. It is still possible that age targeting leads to different amounts of ad impressions; maybe younger age groups lead to more impressions because they spend more time on Google. However, based on teh data available to us, we were unable to find a correlation.\n",
    "\n",
    "<b>Big Picture:</b> Google advertisements are only one portion of all political advertising. Age is an important factor that political groups must take into consideration as some age blocs vote at higher rates or are more important in certain areas. The location in which ads are placed on Google is an outside influence on number of Impressions, a variable based on many factors. So, although we did not find that age targeting was an indictor of number of impressions, it is likely a very complex mechanism. Our barplots show an even distribution across ages except for the <18 bracket. Although this difference makes sense, there were still thousands of advertisents targeted to people who are unable to vote. Further analysis and research could look into what ads targeting the <18 bracket look like and what political groups are hoping to accomplish by targeting them."
   ]
  },
  {
   "cell_type": "code",
   "execution_count": null,
   "id": "ce747dde-8330-41c5-8a04-7651fb83b4a2",
   "metadata": {},
   "outputs": [],
   "source": []
  }
 ],
 "metadata": {
  "kernelspec": {
   "display_name": "Python 3 (ipykernel)",
   "language": "python",
   "name": "python3"
  },
  "language_info": {
   "codemirror_mode": {
    "name": "ipython",
    "version": 3
   },
   "file_extension": ".py",
   "mimetype": "text/x-python",
   "name": "python",
   "nbconvert_exporter": "python",
   "pygments_lexer": "ipython3",
   "version": "3.8.2"
  }
 },
 "nbformat": 4,
 "nbformat_minor": 5
}
