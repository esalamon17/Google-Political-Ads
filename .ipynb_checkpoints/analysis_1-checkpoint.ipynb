{
 "cells": [
  {
   "cell_type": "code",
   "execution_count": 3,
   "metadata": {},
   "outputs": [],
   "source": [
    "import pandas as pd\n",
    "import numpy as np\n",
    "import matplotlib.pyplot as plt\n",
    "from  sklearn.linear_model import LogisticRegression"
   ]
  },
  {
   "cell_type": "code",
   "execution_count": 4,
   "metadata": {},
   "outputs": [
    {
     "data": {
      "text/html": [
       "<div>\n",
       "<style scoped>\n",
       "    .dataframe tbody tr th:only-of-type {\n",
       "        vertical-align: middle;\n",
       "    }\n",
       "\n",
       "    .dataframe tbody tr th {\n",
       "        vertical-align: top;\n",
       "    }\n",
       "\n",
       "    .dataframe thead th {\n",
       "        text-align: right;\n",
       "    }\n",
       "</style>\n",
       "<table border=\"1\" class=\"dataframe\">\n",
       "  <thead>\n",
       "    <tr style=\"text-align: right;\">\n",
       "      <th></th>\n",
       "      <th>AK</th>\n",
       "      <th>AL</th>\n",
       "      <th>AR</th>\n",
       "      <th>AS</th>\n",
       "      <th>AZ</th>\n",
       "      <th>CA</th>\n",
       "      <th>CO</th>\n",
       "      <th>CT</th>\n",
       "      <th>DC</th>\n",
       "      <th>DE</th>\n",
       "      <th>...</th>\n",
       "      <th>TX</th>\n",
       "      <th>UT</th>\n",
       "      <th>VA</th>\n",
       "      <th>VI</th>\n",
       "      <th>VT</th>\n",
       "      <th>WA</th>\n",
       "      <th>WI</th>\n",
       "      <th>WV</th>\n",
       "      <th>WY</th>\n",
       "      <th>Party</th>\n",
       "    </tr>\n",
       "  </thead>\n",
       "  <tbody>\n",
       "    <tr>\n",
       "      <th>0</th>\n",
       "      <td>0</td>\n",
       "      <td>0</td>\n",
       "      <td>0</td>\n",
       "      <td>0</td>\n",
       "      <td>0</td>\n",
       "      <td>0</td>\n",
       "      <td>0</td>\n",
       "      <td>0</td>\n",
       "      <td>0</td>\n",
       "      <td>0</td>\n",
       "      <td>...</td>\n",
       "      <td>0</td>\n",
       "      <td>0</td>\n",
       "      <td>0</td>\n",
       "      <td>0</td>\n",
       "      <td>0</td>\n",
       "      <td>0</td>\n",
       "      <td>0</td>\n",
       "      <td>0</td>\n",
       "      <td>0</td>\n",
       "      <td>0.0</td>\n",
       "    </tr>\n",
       "    <tr>\n",
       "      <th>1</th>\n",
       "      <td>0</td>\n",
       "      <td>0</td>\n",
       "      <td>0</td>\n",
       "      <td>0</td>\n",
       "      <td>0</td>\n",
       "      <td>0</td>\n",
       "      <td>0</td>\n",
       "      <td>0</td>\n",
       "      <td>0</td>\n",
       "      <td>0</td>\n",
       "      <td>...</td>\n",
       "      <td>0</td>\n",
       "      <td>0</td>\n",
       "      <td>0</td>\n",
       "      <td>0</td>\n",
       "      <td>0</td>\n",
       "      <td>0</td>\n",
       "      <td>0</td>\n",
       "      <td>0</td>\n",
       "      <td>0</td>\n",
       "      <td>0.0</td>\n",
       "    </tr>\n",
       "    <tr>\n",
       "      <th>2</th>\n",
       "      <td>0</td>\n",
       "      <td>0</td>\n",
       "      <td>0</td>\n",
       "      <td>0</td>\n",
       "      <td>0</td>\n",
       "      <td>0</td>\n",
       "      <td>0</td>\n",
       "      <td>0</td>\n",
       "      <td>0</td>\n",
       "      <td>0</td>\n",
       "      <td>...</td>\n",
       "      <td>0</td>\n",
       "      <td>0</td>\n",
       "      <td>0</td>\n",
       "      <td>0</td>\n",
       "      <td>0</td>\n",
       "      <td>0</td>\n",
       "      <td>0</td>\n",
       "      <td>0</td>\n",
       "      <td>0</td>\n",
       "      <td>0.0</td>\n",
       "    </tr>\n",
       "    <tr>\n",
       "      <th>3</th>\n",
       "      <td>0</td>\n",
       "      <td>0</td>\n",
       "      <td>0</td>\n",
       "      <td>0</td>\n",
       "      <td>0</td>\n",
       "      <td>0</td>\n",
       "      <td>0</td>\n",
       "      <td>0</td>\n",
       "      <td>0</td>\n",
       "      <td>0</td>\n",
       "      <td>...</td>\n",
       "      <td>0</td>\n",
       "      <td>0</td>\n",
       "      <td>0</td>\n",
       "      <td>0</td>\n",
       "      <td>0</td>\n",
       "      <td>0</td>\n",
       "      <td>0</td>\n",
       "      <td>0</td>\n",
       "      <td>0</td>\n",
       "      <td>0.0</td>\n",
       "    </tr>\n",
       "    <tr>\n",
       "      <th>4</th>\n",
       "      <td>0</td>\n",
       "      <td>0</td>\n",
       "      <td>0</td>\n",
       "      <td>0</td>\n",
       "      <td>0</td>\n",
       "      <td>0</td>\n",
       "      <td>0</td>\n",
       "      <td>0</td>\n",
       "      <td>0</td>\n",
       "      <td>0</td>\n",
       "      <td>...</td>\n",
       "      <td>0</td>\n",
       "      <td>0</td>\n",
       "      <td>0</td>\n",
       "      <td>0</td>\n",
       "      <td>0</td>\n",
       "      <td>0</td>\n",
       "      <td>0</td>\n",
       "      <td>0</td>\n",
       "      <td>0</td>\n",
       "      <td>0.0</td>\n",
       "    </tr>\n",
       "  </tbody>\n",
       "</table>\n",
       "<p>5 rows × 56 columns</p>\n",
       "</div>"
      ],
      "text/plain": [
       "   AK  AL  AR  AS  AZ  CA  CO  CT  DC  DE  ...  TX  UT  VA  VI  VT  WA  WI  \\\n",
       "0   0   0   0   0   0   0   0   0   0   0  ...   0   0   0   0   0   0   0   \n",
       "1   0   0   0   0   0   0   0   0   0   0  ...   0   0   0   0   0   0   0   \n",
       "2   0   0   0   0   0   0   0   0   0   0  ...   0   0   0   0   0   0   0   \n",
       "3   0   0   0   0   0   0   0   0   0   0  ...   0   0   0   0   0   0   0   \n",
       "4   0   0   0   0   0   0   0   0   0   0  ...   0   0   0   0   0   0   0   \n",
       "\n",
       "   WV  WY  Party  \n",
       "0   0   0    0.0  \n",
       "1   0   0    0.0  \n",
       "2   0   0    0.0  \n",
       "3   0   0    0.0  \n",
       "4   0   0    0.0  \n",
       "\n",
       "[5 rows x 56 columns]"
      ]
     },
     "execution_count": 4,
     "metadata": {},
     "output_type": "execute_result"
    }
   ],
   "source": [
    "#read data that has been filtered to find state targeting\n",
    "states_df = pd.read_csv('party_dataframe.csv')\n",
    "states_df.head()"
   ]
  },
  {
   "cell_type": "code",
   "execution_count": 5,
   "metadata": {},
   "outputs": [
    {
     "name": "stdout",
     "output_type": "stream",
     "text": [
      "1.0    23181\n",
      "0.0    13248\n",
      "Name: Party, dtype: int64\n"
     ]
    }
   ],
   "source": [
    "print(states_df['Party'].value_counts())"
   ]
  },
  {
   "cell_type": "code",
   "execution_count": 6,
   "metadata": {},
   "outputs": [],
   "source": [
    "predictors = list(states_df.columns)\n",
    "predictors.remove('Party')\n",
    "#create logistic regression model\n",
    "log_model = LogisticRegression(max_iter=1000).fit(states_df[predictors].values, states_df['Party'])"
   ]
  },
  {
   "cell_type": "code",
   "execution_count": 7,
   "metadata": {},
   "outputs": [
    {
     "data": {
      "text/plain": [
       "0.6728156139339537"
      ]
     },
     "execution_count": 7,
     "metadata": {},
     "output_type": "execute_result"
    }
   ],
   "source": [
    "log_model.score(states_df[predictors].values, states_df['Party'])"
   ]
  },
  {
   "cell_type": "markdown",
   "metadata": {},
   "source": [
    "Find Baseline Score\n",
    "--1 is Democrat, 0 is Republican"
   ]
  },
  {
   "cell_type": "code",
   "execution_count": 8,
   "metadata": {},
   "outputs": [
    {
     "name": "stdout",
     "output_type": "stream",
     "text": [
      "Baseline score: 0.64\n"
     ]
    }
   ],
   "source": [
    "print('Baseline score: {:.2f}'.format(states_df['Party'].sum()/len(states_df)))"
   ]
  },
  {
   "cell_type": "markdown",
   "metadata": {},
   "source": [
    "So, there isn't a huge improvement over the baseline score from the logistic regression model"
   ]
  },
  {
   "cell_type": "code",
   "execution_count": 31,
   "metadata": {},
   "outputs": [],
   "source": [
    "#create list of traditional swing states\n",
    "target_swing_states = np.zeros(55)\n",
    "swing_states = ['AZ', 'FL', 'GA', 'MI','NV', 'NC', 'OH', 'PA', 'WI']\n",
    "for p in predictors:\n",
    "    if p in swing_states:\n",
    "        index = states_df.columns.get_loc(p)\n",
    "        target_swing_states[index] = 1"
   ]
  },
  {
   "cell_type": "code",
   "execution_count": 32,
   "metadata": {},
   "outputs": [
    {
     "data": {
      "text/plain": [
       "array([0., 0., 0., 0., 1., 0., 0., 0., 0., 0., 1., 1., 0., 0., 0., 0., 0.,\n",
       "       0., 0., 0., 0., 0., 0., 0., 1., 0., 0., 0., 0., 1., 0., 0., 0., 0.,\n",
       "       0., 1., 0., 1., 0., 0., 1., 0., 0., 0., 0., 0., 0., 0., 0., 0., 0.,\n",
       "       0., 1., 0., 0.])"
      ]
     },
     "execution_count": 32,
     "metadata": {},
     "output_type": "execute_result"
    }
   ],
   "source": [
    "target_swing_states"
   ]
  },
  {
   "cell_type": "code",
   "execution_count": 33,
   "metadata": {},
   "outputs": [
    {
     "name": "stdout",
     "output_type": "stream",
     "text": [
      "Republican: 0.025, Democrat: 0.975\n"
     ]
    }
   ],
   "source": [
    "#predict advertiser for swing state targeting\n",
    "probs_swing = log_model.predict_proba([target_swing_states])\n",
    "print('Republican: {:.3f}, Democrat: {:.3f}'.format(probs_swing[0][0], probs_swing[0][1]))"
   ]
  },
  {
   "cell_type": "code",
   "execution_count": 13,
   "metadata": {},
   "outputs": [],
   "source": [
    "target_dem_states = np.zeros(55)\n",
    "dem_states = ['CA', 'NY', 'CT', 'HI', 'NJ']\n",
    "for p in predictors:\n",
    "    if p in dem_states:\n",
    "        index = states_df.columns.get_loc(p)\n",
    "        target_dem_states[index] = 1"
   ]
  },
  {
   "cell_type": "code",
   "execution_count": 14,
   "metadata": {},
   "outputs": [
    {
     "name": "stdout",
     "output_type": "stream",
     "text": [
      "Republican: 0.001, Democrat: 0.999\n"
     ]
    }
   ],
   "source": [
    "probs_dem = log_model.predict_proba([target_dem_states])\n",
    "print('Republican: {:.3f}, Democrat: {:.3f}'.format(probs_dem[0][0], probs_dem[0][1]))"
   ]
  },
  {
   "cell_type": "code",
   "execution_count": 15,
   "metadata": {},
   "outputs": [],
   "source": [
    "target_rep_states = np.zeros(55)\n",
    "rep_states = ['TX', 'WV', 'MS', 'MO', 'ND']\n",
    "for p in predictors:\n",
    "    if p in rep_states:\n",
    "        index = states_df.columns.get_loc(p)\n",
    "        target_rep_states[index] = 1"
   ]
  },
  {
   "cell_type": "code",
   "execution_count": 16,
   "metadata": {},
   "outputs": [
    {
     "name": "stdout",
     "output_type": "stream",
     "text": [
      "Republican: 0.976, Democrat: 0.024\n"
     ]
    }
   ],
   "source": [
    "probs_rep = log_model.predict_proba([target_rep_states])\n",
    "print('Republican: {:.3f}, Democrat: {:.3f}'.format(probs_rep[0][0], probs_rep[0][1]))"
   ]
  },
  {
   "cell_type": "code",
   "execution_count": 23,
   "metadata": {},
   "outputs": [
    {
     "data": {
      "image/png": "[encoded data removed]",
      "text/plain": [
       "<Figure size 432x288 with 2 Axes>"
      ]
     },
     "metadata": {
      "needs_background": "light"
     },
     "output_type": "display_data"
    }
   ],
   "source": [
    "from sklearn.metrics import confusion_matrix, classification_report, ConfusionMatrixDisplay\n",
    "\n",
    "y_true = states_df['Party']\n",
    "y_pred = log_model.predict(states_df[predictors].values)\n",
    "\n",
    "disp = ConfusionMatrixDisplay(confusion_matrix(y_true, y_pred), display_labels=log_model.classes_);\n",
    "disp.plot();"
   ]
  },
  {
   "cell_type": "code",
   "execution_count": 24,
   "metadata": {},
   "outputs": [
    {
     "name": "stdout",
     "output_type": "stream",
     "text": [
      "              precision    recall  f1-score   support\n",
      "\n",
      "         0.0       0.63      0.24      0.34     13248\n",
      "         1.0       0.68      0.92      0.78     23181\n",
      "\n",
      "    accuracy                           0.67     36429\n",
      "   macro avg       0.66      0.58      0.56     36429\n",
      "weighted avg       0.66      0.67      0.62     36429\n",
      "\n"
     ]
    }
   ],
   "source": [
    "print(classification_report(y_true, y_pred))"
   ]
  },
  {
   "cell_type": "markdown",
   "metadata": {},
   "source": [
    "Overall, there does seem to be a moderate amount of insight into political party that can be gained from what states advertisers target. The logistic regression model to preduct party from state targeting had about a 67% accuracy which isn't terrible. However, the baseline accuracy of simply predicting Democrat 100% of the time (since the data has a majority Democratic advertisers), was 64%, so there is only a slight increase in accuracy between the model and a naive baseline guess. \n",
    "\n",
    "This leads to the largest limitation of this analysis — the imbalance between Democratic and Republican advertisers. First, the FEC political campaign spending data which we used to obtain political party affiliation was not perfectly matched with our Google dataset, so the merged data had only 36,429 entries as compared to the original 81,228. Out of those 36,429, 23,181 were Democrats and 13,248 were Republicans. This large discrepancy between parties led to the high baseline accuracy seen in this report. \n",
    "\n",
    "This difference is also shown in the precision and recall scores for the model. Precision scores were moderate for both parties, whereas recall was terrible for Republicans and great for Democrats. This is another reflection of the high number of false negatives when predicting Republican advertisers.\n",
    "\n",
    "Creating potential groupus of geographic targeting provided some interesting resultst. Using the model to predict the political party of an advertiser who targeted a group of swing states in 2020, it predicts that the advertiser is over 97% likely to be Democratic. Using a group of all heavily Democratic states resulted in an almost 100% likelihood of being Democratic. However when a group of heavily Republican states was passed to the model, it predicted a Republican advertiser with likelihood 97.6%. So, although the data was skewed heavily Democratic, thet model was still able to pick up on distinctions between party and geo targeting.\n",
    "\n",
    "Another limitation was the lack of cohesion between the FEC data and the Google data. Because the two were not able to be merged flawlessly, we lost a lot of data about political party affiliation that may have made the model much more accurate. \n",
    "\n",
    "<b>Big Picture:</b> \n",
    "Advertising is an essential part of running political campaigns. Choosing which locations to advertise to is based on many factors, one of those being state polling. And although those polls are calculated by much better data scientists than us, they are still wrong a lot of the time! It is interesting to look at what areas of the country seem heavily targeted, and it does appear at a glance to be areas with swing counties. \n",
    "    \n",
    "Just as our data became skewed towards Democratic advetisers due to the data we chose, the scope of advertising that an individual sees is highly dependent on their personal choices. Factors such as what tv channels one watches, what newspaper one reads, who ones friends are on Facebook, and what ads the Google algorithm reccomends are different from person to person. \n"
   ]
  },
  {
   "cell_type": "code",
   "execution_count": null,
   "metadata": {},
   "outputs": [],
   "source": []
  }
 ],
 "metadata": {
  "kernelspec": {
   "display_name": "Python 3 (ipykernel)",
   "language": "python",
   "name": "python3"
  },
  "language_info": {
   "codemirror_mode": {
    "name": "ipython",
    "version": 3
   },
   "file_extension": ".py",
   "mimetype": "text/x-python",
   "name": "python",
   "nbconvert_exporter": "python",
   "pygments_lexer": "ipython3",
   "version": "3.8.2"
  }
 },
 "nbformat": 4,
 "nbformat_minor": 4
}
