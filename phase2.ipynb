{
 "cells": [
  {
   "cell_type": "markdown",
   "metadata": {},
   "source": [
    "# Info 2950 Project Phase II\n",
    "## Google Political Advertising"
   ]
  },
  {
   "cell_type": "markdown",
   "metadata": {},
   "source": [
    "### Eliza Salamon, Laurel Prime, Melissa LaFountain\n",
    "***"
   ]
  },
  {
   "cell_type": "markdown",
   "metadata": {},
   "source": [
    "## Research Questions"
   ]
  },
  {
   "cell_type": "markdown",
   "metadata": {},
   "source": [
    " - How do different targeting attributes (e.g. age, gender, geo-targeting) affect ad type and ad exposure?\n",
    " - How are ads distributed geographically across the country?\n",
    " - How does ad spend affect impressions generated?\n",
    " ***"
   ]
  },
  {
   "cell_type": "markdown",
   "metadata": {},
   "source": [
    "## Data Collection and Cleaning"
   ]
  },
  {
   "cell_type": "code",
   "execution_count": 3,
   "metadata": {},
   "outputs": [],
   "source": [
    "import pandas as pd\n",
    "import numpy as np\n",
    "import matplotlib.pyplot as plt\n",
    "import datetime"
   ]
  },
  {
   "cell_type": "code",
   "execution_count": 2,
   "metadata": {},
   "outputs": [
    {
     "name": "stderr",
     "output_type": "stream",
     "text": [
      "/opt/anaconda3/lib/python3.8/site-packages/IPython/core/interactiveshell.py:3146: DtypeWarning: Columns (11) have mixed types.Specify dtype option on import or set low_memory=False.\n",
      "  has_raised = await self.run_ast_nodes(code_ast.body, cell_name,\n"
     ]
    },
    {
     "data": {
      "text/html": [
       "<div>\n",
       "<style scoped>\n",
       "    .dataframe tbody tr th:only-of-type {\n",
       "        vertical-align: middle;\n",
       "    }\n",
       "\n",
       "    .dataframe tbody tr th {\n",
       "        vertical-align: top;\n",
       "    }\n",
       "\n",
       "    .dataframe thead th {\n",
       "        text-align: right;\n",
       "    }\n",
       "</style>\n",
       "<table border=\"1\" class=\"dataframe\">\n",
       "  <thead>\n",
       "    <tr style=\"text-align: right;\">\n",
       "      <th></th>\n",
       "      <th>Ad_ID</th>\n",
       "      <th>Ad_URL</th>\n",
       "      <th>Ad_Type</th>\n",
       "      <th>Regions</th>\n",
       "      <th>Advertiser_ID</th>\n",
       "      <th>Advertiser_Name</th>\n",
       "      <th>Ad_Campaigns_List</th>\n",
       "      <th>Date_Range_Start</th>\n",
       "      <th>Date_Range_End</th>\n",
       "      <th>Num_of_Days</th>\n",
       "      <th>...</th>\n",
       "      <th>Spend_Range_Min_GBP</th>\n",
       "      <th>Spend_Range_Max_GBP</th>\n",
       "      <th>Spend_Range_Min_ILS</th>\n",
       "      <th>Spend_Range_Max_ILS</th>\n",
       "      <th>Spend_Range_Min_NZD</th>\n",
       "      <th>Spend_Range_Max_NZD</th>\n",
       "      <th>Spend_Range_Min_TWD</th>\n",
       "      <th>Spend_Range_Max_TWD</th>\n",
       "      <th>Spend_Range_Min_AUD</th>\n",
       "      <th>Spend_Range_Max_AUD</th>\n",
       "    </tr>\n",
       "  </thead>\n",
       "  <tbody>\n",
       "    <tr>\n",
       "      <th>0</th>\n",
       "      <td>CR104193501419274240</td>\n",
       "      <td>https://transparencyreport.google.com/politica...</td>\n",
       "      <td>Image</td>\n",
       "      <td>EU, IT</td>\n",
       "      <td>AR100125170957549568</td>\n",
       "      <td>Azione</td>\n",
       "      <td>NaN</td>\n",
       "      <td>2020-10-26</td>\n",
       "      <td>2020-11-25</td>\n",
       "      <td>31</td>\n",
       "      <td>...</td>\n",
       "      <td>0</td>\n",
       "      <td>50.0</td>\n",
       "      <td>0</td>\n",
       "      <td>250.0</td>\n",
       "      <td>0</td>\n",
       "      <td>200.0</td>\n",
       "      <td>0</td>\n",
       "      <td>3000.0</td>\n",
       "      <td>0</td>\n",
       "      <td>150.0</td>\n",
       "    </tr>\n",
       "    <tr>\n",
       "      <th>1</th>\n",
       "      <td>CR109957691127889920</td>\n",
       "      <td>https://transparencyreport.google.com/politica...</td>\n",
       "      <td>Video</td>\n",
       "      <td>EU, IT</td>\n",
       "      <td>AR100125170957549568</td>\n",
       "      <td>Azione</td>\n",
       "      <td>NaN</td>\n",
       "      <td>2020-12-02</td>\n",
       "      <td>2020-12-03</td>\n",
       "      <td>2</td>\n",
       "      <td>...</td>\n",
       "      <td>0</td>\n",
       "      <td>50.0</td>\n",
       "      <td>0</td>\n",
       "      <td>250.0</td>\n",
       "      <td>0</td>\n",
       "      <td>200.0</td>\n",
       "      <td>0</td>\n",
       "      <td>3000.0</td>\n",
       "      <td>0</td>\n",
       "      <td>150.0</td>\n",
       "    </tr>\n",
       "    <tr>\n",
       "      <th>2</th>\n",
       "      <td>CR111129083328331776</td>\n",
       "      <td>https://transparencyreport.google.com/politica...</td>\n",
       "      <td>Image</td>\n",
       "      <td>EU, IT</td>\n",
       "      <td>AR100125170957549568</td>\n",
       "      <td>Azione</td>\n",
       "      <td>NaN</td>\n",
       "      <td>2020-06-28</td>\n",
       "      <td>2020-09-03</td>\n",
       "      <td>35</td>\n",
       "      <td>...</td>\n",
       "      <td>500</td>\n",
       "      <td>25000.0</td>\n",
       "      <td>2500</td>\n",
       "      <td>125000.0</td>\n",
       "      <td>1500</td>\n",
       "      <td>75000.0</td>\n",
       "      <td>30000</td>\n",
       "      <td>1500000.0</td>\n",
       "      <td>1500</td>\n",
       "      <td>50000.0</td>\n",
       "    </tr>\n",
       "    <tr>\n",
       "      <th>3</th>\n",
       "      <td>CR112145169511350272</td>\n",
       "      <td>https://transparencyreport.google.com/politica...</td>\n",
       "      <td>Image</td>\n",
       "      <td>EU, IT</td>\n",
       "      <td>AR100125170957549568</td>\n",
       "      <td>Azione</td>\n",
       "      <td>NaN</td>\n",
       "      <td>2020-10-26</td>\n",
       "      <td>2020-11-02</td>\n",
       "      <td>8</td>\n",
       "      <td>...</td>\n",
       "      <td>0</td>\n",
       "      <td>50.0</td>\n",
       "      <td>0</td>\n",
       "      <td>250.0</td>\n",
       "      <td>0</td>\n",
       "      <td>200.0</td>\n",
       "      <td>0</td>\n",
       "      <td>3000.0</td>\n",
       "      <td>0</td>\n",
       "      <td>150.0</td>\n",
       "    </tr>\n",
       "    <tr>\n",
       "      <th>4</th>\n",
       "      <td>CR112255773509156864</td>\n",
       "      <td>https://transparencyreport.google.com/politica...</td>\n",
       "      <td>Image</td>\n",
       "      <td>EU, IT</td>\n",
       "      <td>AR100125170957549568</td>\n",
       "      <td>Azione</td>\n",
       "      <td>NaN</td>\n",
       "      <td>2021-01-28</td>\n",
       "      <td>2021-02-04</td>\n",
       "      <td>8</td>\n",
       "      <td>...</td>\n",
       "      <td>50</td>\n",
       "      <td>500.0</td>\n",
       "      <td>250</td>\n",
       "      <td>2500.0</td>\n",
       "      <td>200</td>\n",
       "      <td>1500.0</td>\n",
       "      <td>3000</td>\n",
       "      <td>30000.0</td>\n",
       "      <td>150</td>\n",
       "      <td>1500.0</td>\n",
       "    </tr>\n",
       "  </tbody>\n",
       "</table>\n",
       "<p>5 rows × 50 columns</p>\n",
       "</div>"
      ],
      "text/plain": [
       "                  Ad_ID                                             Ad_URL  \\\n",
       "0  CR104193501419274240  https://transparencyreport.google.com/politica...   \n",
       "1  CR109957691127889920  https://transparencyreport.google.com/politica...   \n",
       "2  CR111129083328331776  https://transparencyreport.google.com/politica...   \n",
       "3  CR112145169511350272  https://transparencyreport.google.com/politica...   \n",
       "4  CR112255773509156864  https://transparencyreport.google.com/politica...   \n",
       "\n",
       "  Ad_Type Regions         Advertiser_ID Advertiser_Name  Ad_Campaigns_List  \\\n",
       "0   Image  EU, IT  AR100125170957549568          Azione                NaN   \n",
       "1   Video  EU, IT  AR100125170957549568          Azione                NaN   \n",
       "2   Image  EU, IT  AR100125170957549568          Azione                NaN   \n",
       "3   Image  EU, IT  AR100125170957549568          Azione                NaN   \n",
       "4   Image  EU, IT  AR100125170957549568          Azione                NaN   \n",
       "\n",
       "  Date_Range_Start Date_Range_End  Num_of_Days  ... Spend_Range_Min_GBP  \\\n",
       "0       2020-10-26     2020-11-25           31  ...                   0   \n",
       "1       2020-12-02     2020-12-03            2  ...                   0   \n",
       "2       2020-06-28     2020-09-03           35  ...                 500   \n",
       "3       2020-10-26     2020-11-02            8  ...                   0   \n",
       "4       2021-01-28     2021-02-04            8  ...                  50   \n",
       "\n",
       "  Spend_Range_Max_GBP Spend_Range_Min_ILS Spend_Range_Max_ILS  \\\n",
       "0                50.0                   0               250.0   \n",
       "1                50.0                   0               250.0   \n",
       "2             25000.0                2500            125000.0   \n",
       "3                50.0                   0               250.0   \n",
       "4               500.0                 250              2500.0   \n",
       "\n",
       "  Spend_Range_Min_NZD Spend_Range_Max_NZD Spend_Range_Min_TWD  \\\n",
       "0                   0               200.0                   0   \n",
       "1                   0               200.0                   0   \n",
       "2                1500             75000.0               30000   \n",
       "3                   0               200.0                   0   \n",
       "4                 200              1500.0                3000   \n",
       "\n",
       "  Spend_Range_Max_TWD  Spend_Range_Min_AUD  Spend_Range_Max_AUD  \n",
       "0              3000.0                    0                150.0  \n",
       "1              3000.0                    0                150.0  \n",
       "2           1500000.0                 1500              50000.0  \n",
       "3              3000.0                    0                150.0  \n",
       "4             30000.0                  150               1500.0  \n",
       "\n",
       "[5 rows x 50 columns]"
      ]
     },
     "execution_count": 2,
     "metadata": {},
     "output_type": "execute_result"
    }
   ],
   "source": [
    "raw_data = pd.read_csv('google-political-ads-creative-stats.csv')\n",
    "raw_data.head()"
   ]
  },
  {
   "cell_type": "code",
   "execution_count": 3,
   "metadata": {},
   "outputs": [
    {
     "data": {
      "text/plain": [
       "Index(['Ad_ID', 'Ad_URL', 'Ad_Type', 'Regions', 'Advertiser_ID',\n",
       "       'Advertiser_Name', 'Ad_Campaigns_List', 'Date_Range_Start',\n",
       "       'Date_Range_End', 'Num_of_Days', 'Impressions', 'Spend_USD',\n",
       "       'First_Served_Timestamp', 'Last_Served_Timestamp', 'Age_Targeting',\n",
       "       'Gender_Targeting', 'Geo_Targeting_Included', 'Geo_Targeting_Excluded',\n",
       "       'Spend_Range_Min_USD', 'Spend_Range_Max_USD', 'Spend_Range_Min_EUR',\n",
       "       'Spend_Range_Max_EUR', 'Spend_Range_Min_INR', 'Spend_Range_Max_INR',\n",
       "       'Spend_Range_Min_BGN', 'Spend_Range_Max_BGN', 'Spend_Range_Min_HRK',\n",
       "       'Spend_Range_Max_HRK', 'Spend_Range_Min_CZK', 'Spend_Range_Max_CZK',\n",
       "       'Spend_Range_Min_DKK', 'Spend_Range_Max_DKK', 'Spend_Range_Min_HUF',\n",
       "       'Spend_Range_Max_HUF', 'Spend_Range_Min_PLN', 'Spend_Range_Max_PLN',\n",
       "       'Spend_Range_Min_RON', 'Spend_Range_Max_RON', 'Spend_Range_Min_SEK',\n",
       "       'Spend_Range_Max_SEK', 'Spend_Range_Min_GBP', 'Spend_Range_Max_GBP',\n",
       "       'Spend_Range_Min_ILS', 'Spend_Range_Max_ILS', 'Spend_Range_Min_NZD',\n",
       "       'Spend_Range_Max_NZD', 'Spend_Range_Min_TWD', 'Spend_Range_Max_TWD',\n",
       "       'Spend_Range_Min_AUD', 'Spend_Range_Max_AUD'],\n",
       "      dtype='object')"
      ]
     },
     "execution_count": 3,
     "metadata": {},
     "output_type": "execute_result"
    }
   ],
   "source": [
    "raw_data.columns"
   ]
  },
  {
   "cell_type": "code",
   "execution_count": null,
   "metadata": {},
   "outputs": [],
   "source": [
    "raw_data.dtypes"
   ]
  },
  {
   "cell_type": "code",
   "execution_count": 5,
   "metadata": {},
   "outputs": [
    {
     "data": {
      "text/plain": [
       "array([nan])"
      ]
     },
     "execution_count": 5,
     "metadata": {},
     "output_type": "execute_result"
    }
   ],
   "source": [
    "raw_data['Ad_Campaigns_List'].unique()"
   ]
  },
  {
   "cell_type": "markdown",
   "metadata": {},
   "source": [
    "Remove non US spending ranges, Ad_Id, Ad_URL, Advertiser_ID (not useful to us), specific timestamps (already has number of days with dates), and Ad_Campaigns_List. Additionally, limit regions of ads to only the United States."
   ]
  },
  {
   "cell_type": "code",
   "execution_count": 6,
   "metadata": {},
   "outputs": [],
   "source": [
    "columns_of_interest = ['Ad_Type', 'Regions', 'Advertiser_Name', 'Date_Range_Start',\n",
    "       'Date_Range_End', 'Num_of_Days', 'Impressions', 'Spend_USD','Age_Targeting',\n",
    "       'Gender_Targeting', 'Geo_Targeting_Included', 'Geo_Targeting_Excluded',\n",
    "       'Spend_Range_Min_USD', 'Spend_Range_Max_USD']\n",
    "\n",
    "raw_data = raw_data[columns_of_interest]\n",
    "raw_data = raw_data.loc[raw_data['Regions'] == 'US']"
   ]
  },
  {
   "cell_type": "markdown",
   "metadata": {},
   "source": [
    "Select ads that have a minimum cost of $1,000 so as to filter the data to more expensive and likely more impactful  ads"
   ]
  },
  {
   "cell_type": "code",
   "execution_count": 7,
   "metadata": {},
   "outputs": [
    {
     "name": "stdout",
     "output_type": "stream",
     "text": [
      "0         392518\n",
      "100       131844\n",
      "1000       79110\n",
      "50000       1261\n",
      "100000       857\n",
      "Name: Spend_Range_Min_USD, dtype: int64\n"
     ]
    }
   ],
   "source": [
    "print(raw_data['Spend_Range_Min_USD'].value_counts())\n",
    "raw_data = raw_data.loc[raw_data['Spend_Range_Min_USD'] >= 1000]"
   ]
  },
  {
   "cell_type": "code",
   "execution_count": null,
   "metadata": {},
   "outputs": [],
   "source": [
    "#Change to datetime\n",
    "raw_data.loc[:, 'Date_Range_Start'] = pd.to_datetime(raw_data['Date_Range_Start'])\n",
    "raw_data.loc[:, 'Date_Range_End'] = pd.to_datetime(raw_data['Date_Range_End'])"
   ]
  },
  {
   "cell_type": "code",
   "execution_count": 9,
   "metadata": {},
   "outputs": [],
   "source": [
    "raw_data.to_csv('export_dataframe.csv', index = False, header=True)"
   ]
  },
  {
   "cell_type": "code",
   "execution_count": 129,
   "metadata": {},
   "outputs": [
    {
     "data": {
      "text/html": [
       "<div>\n",
       "<style scoped>\n",
       "    .dataframe tbody tr th:only-of-type {\n",
       "        vertical-align: middle;\n",
       "    }\n",
       "\n",
       "    .dataframe tbody tr th {\n",
       "        vertical-align: top;\n",
       "    }\n",
       "\n",
       "    .dataframe thead th {\n",
       "        text-align: right;\n",
       "    }\n",
       "</style>\n",
       "<table border=\"1\" class=\"dataframe\">\n",
       "  <thead>\n",
       "    <tr style=\"text-align: right;\">\n",
       "      <th></th>\n",
       "      <th>Ad_Type</th>\n",
       "      <th>Regions</th>\n",
       "      <th>Advertiser_Name</th>\n",
       "      <th>Date_Range_Start</th>\n",
       "      <th>Date_Range_End</th>\n",
       "      <th>Num_of_Days</th>\n",
       "      <th>Impressions</th>\n",
       "      <th>Spend_USD</th>\n",
       "      <th>Age_Targeting</th>\n",
       "      <th>Gender_Targeting</th>\n",
       "      <th>Geo_Targeting_Included</th>\n",
       "      <th>Geo_Targeting_Excluded</th>\n",
       "      <th>Spend_Range_Min_USD</th>\n",
       "      <th>Spend_Range_Max_USD</th>\n",
       "    </tr>\n",
       "  </thead>\n",
       "  <tbody>\n",
       "    <tr>\n",
       "      <th>0</th>\n",
       "      <td>Text</td>\n",
       "      <td>US</td>\n",
       "      <td>ALEX FOR AZ</td>\n",
       "      <td>2020-07-08</td>\n",
       "      <td>2020-08-04</td>\n",
       "      <td>28</td>\n",
       "      <td>≤ 10k</td>\n",
       "      <td>1k-50k</td>\n",
       "      <td>Not targeted</td>\n",
       "      <td>Not targeted</td>\n",
       "      <td>85054, 85207, 85215, 85250, 85251, 85253, 8525...</td>\n",
       "      <td>Not targeted</td>\n",
       "      <td>1000</td>\n",
       "      <td>50000.0</td>\n",
       "    </tr>\n",
       "    <tr>\n",
       "      <th>1</th>\n",
       "      <td>Text</td>\n",
       "      <td>US</td>\n",
       "      <td>ALEX FOR AZ</td>\n",
       "      <td>2020-07-07</td>\n",
       "      <td>2020-08-04</td>\n",
       "      <td>29</td>\n",
       "      <td>≤ 10k</td>\n",
       "      <td>1k-50k</td>\n",
       "      <td>Not targeted</td>\n",
       "      <td>Not targeted</td>\n",
       "      <td>85054, 85207, 85215, 85250, 85251, 85253, 8525...</td>\n",
       "      <td>Not targeted</td>\n",
       "      <td>1000</td>\n",
       "      <td>50000.0</td>\n",
       "    </tr>\n",
       "    <tr>\n",
       "      <th>2</th>\n",
       "      <td>Text</td>\n",
       "      <td>US</td>\n",
       "      <td>CITIZENS FOR JD WOOTEN</td>\n",
       "      <td>2020-08-28</td>\n",
       "      <td>2020-11-03</td>\n",
       "      <td>64</td>\n",
       "      <td>10k-100k</td>\n",
       "      <td>1k-50k</td>\n",
       "      <td>Not targeted</td>\n",
       "      <td>Not targeted</td>\n",
       "      <td>27215, 27217, 27233, 27244, 27249, 27253, 2725...</td>\n",
       "      <td>Not targeted</td>\n",
       "      <td>1000</td>\n",
       "      <td>50000.0</td>\n",
       "    </tr>\n",
       "    <tr>\n",
       "      <th>3</th>\n",
       "      <td>Video</td>\n",
       "      <td>US</td>\n",
       "      <td>CITIZENS FOR JD WOOTEN</td>\n",
       "      <td>2020-10-28</td>\n",
       "      <td>2020-11-03</td>\n",
       "      <td>7</td>\n",
       "      <td>100k-1M</td>\n",
       "      <td>1k-50k</td>\n",
       "      <td>18-24, 25-34, 35-44, 45-54, 55-64, ≥65, Unknow...</td>\n",
       "      <td>Male, Female, Unknown gender</td>\n",
       "      <td>27215, 27217, 27233, 27244, 27249, 27253, 2725...</td>\n",
       "      <td>Not targeted</td>\n",
       "      <td>1000</td>\n",
       "      <td>50000.0</td>\n",
       "    </tr>\n",
       "    <tr>\n",
       "      <th>4</th>\n",
       "      <td>Video</td>\n",
       "      <td>US</td>\n",
       "      <td>CITIZENS FOR JD WOOTEN</td>\n",
       "      <td>2020-10-26</td>\n",
       "      <td>2020-11-03</td>\n",
       "      <td>9</td>\n",
       "      <td>10k-100k</td>\n",
       "      <td>1k-50k</td>\n",
       "      <td>18-24, 25-34, 35-44, 45-54, 55-64, ≥65, Unknow...</td>\n",
       "      <td>Male, Female, Unknown gender</td>\n",
       "      <td>27215, 27217, 27233, 27244, 27249, 27253, 2725...</td>\n",
       "      <td>Not targeted</td>\n",
       "      <td>1000</td>\n",
       "      <td>50000.0</td>\n",
       "    </tr>\n",
       "  </tbody>\n",
       "</table>\n",
       "</div>"
      ],
      "text/plain": [
       "  Ad_Type Regions         Advertiser_Name Date_Range_Start Date_Range_End  \\\n",
       "0    Text      US             ALEX FOR AZ       2020-07-08     2020-08-04   \n",
       "1    Text      US             ALEX FOR AZ       2020-07-07     2020-08-04   \n",
       "2    Text      US  CITIZENS FOR JD WOOTEN       2020-08-28     2020-11-03   \n",
       "3   Video      US  CITIZENS FOR JD WOOTEN       2020-10-28     2020-11-03   \n",
       "4   Video      US  CITIZENS FOR JD WOOTEN       2020-10-26     2020-11-03   \n",
       "\n",
       "   Num_of_Days Impressions Spend_USD  \\\n",
       "0           28       ≤ 10k    1k-50k   \n",
       "1           29       ≤ 10k    1k-50k   \n",
       "2           64    10k-100k    1k-50k   \n",
       "3            7     100k-1M    1k-50k   \n",
       "4            9    10k-100k    1k-50k   \n",
       "\n",
       "                                       Age_Targeting  \\\n",
       "0                                       Not targeted   \n",
       "1                                       Not targeted   \n",
       "2                                       Not targeted   \n",
       "3  18-24, 25-34, 35-44, 45-54, 55-64, ≥65, Unknow...   \n",
       "4  18-24, 25-34, 35-44, 45-54, 55-64, ≥65, Unknow...   \n",
       "\n",
       "               Gender_Targeting  \\\n",
       "0                  Not targeted   \n",
       "1                  Not targeted   \n",
       "2                  Not targeted   \n",
       "3  Male, Female, Unknown gender   \n",
       "4  Male, Female, Unknown gender   \n",
       "\n",
       "                              Geo_Targeting_Included Geo_Targeting_Excluded  \\\n",
       "0  85054, 85207, 85215, 85250, 85251, 85253, 8525...           Not targeted   \n",
       "1  85054, 85207, 85215, 85250, 85251, 85253, 8525...           Not targeted   \n",
       "2  27215, 27217, 27233, 27244, 27249, 27253, 2725...           Not targeted   \n",
       "3  27215, 27217, 27233, 27244, 27249, 27253, 2725...           Not targeted   \n",
       "4  27215, 27217, 27233, 27244, 27249, 27253, 2725...           Not targeted   \n",
       "\n",
       "   Spend_Range_Min_USD  Spend_Range_Max_USD  \n",
       "0                 1000              50000.0  \n",
       "1                 1000              50000.0  \n",
       "2                 1000              50000.0  \n",
       "3                 1000              50000.0  \n",
       "4                 1000              50000.0  "
      ]
     },
     "execution_count": 129,
     "metadata": {},
     "output_type": "execute_result"
    }
   ],
   "source": [
    "clean_data = pd.read_csv('export_dataframe.csv')\n",
    "clean_data.head()"
   ]
  },
  {
   "cell_type": "code",
   "execution_count": 84,
   "metadata": {},
   "outputs": [
    {
     "data": {
      "text/html": [
       "<div>\n",
       "<style scoped>\n",
       "    .dataframe tbody tr th:only-of-type {\n",
       "        vertical-align: middle;\n",
       "    }\n",
       "\n",
       "    .dataframe tbody tr th {\n",
       "        vertical-align: top;\n",
       "    }\n",
       "\n",
       "    .dataframe thead th {\n",
       "        text-align: right;\n",
       "    }\n",
       "</style>\n",
       "<table border=\"1\" class=\"dataframe\">\n",
       "  <thead>\n",
       "    <tr style=\"text-align: right;\">\n",
       "      <th></th>\n",
       "      <th>Zipcode</th>\n",
       "      <th>ZipCodeType</th>\n",
       "      <th>City</th>\n",
       "      <th>State</th>\n",
       "      <th>LocationType</th>\n",
       "      <th>Lat</th>\n",
       "      <th>Long</th>\n",
       "      <th>Location</th>\n",
       "      <th>Decommisioned</th>\n",
       "      <th>TaxReturnsFiled</th>\n",
       "      <th>EstimatedPopulation</th>\n",
       "      <th>TotalWages</th>\n",
       "    </tr>\n",
       "  </thead>\n",
       "  <tbody>\n",
       "    <tr>\n",
       "      <th>0</th>\n",
       "      <td>705</td>\n",
       "      <td>STANDARD</td>\n",
       "      <td>AIBONITO</td>\n",
       "      <td>PR</td>\n",
       "      <td>PRIMARY</td>\n",
       "      <td>18.14</td>\n",
       "      <td>-66.26</td>\n",
       "      <td>NA-US-PR-AIBONITO</td>\n",
       "      <td>False</td>\n",
       "      <td>NaN</td>\n",
       "      <td>NaN</td>\n",
       "      <td>NaN</td>\n",
       "    </tr>\n",
       "    <tr>\n",
       "      <th>1</th>\n",
       "      <td>610</td>\n",
       "      <td>STANDARD</td>\n",
       "      <td>ANASCO</td>\n",
       "      <td>PR</td>\n",
       "      <td>PRIMARY</td>\n",
       "      <td>18.28</td>\n",
       "      <td>-67.14</td>\n",
       "      <td>NA-US-PR-ANASCO</td>\n",
       "      <td>False</td>\n",
       "      <td>NaN</td>\n",
       "      <td>NaN</td>\n",
       "      <td>NaN</td>\n",
       "    </tr>\n",
       "    <tr>\n",
       "      <th>2</th>\n",
       "      <td>611</td>\n",
       "      <td>PO BOX</td>\n",
       "      <td>ANGELES</td>\n",
       "      <td>PR</td>\n",
       "      <td>PRIMARY</td>\n",
       "      <td>18.28</td>\n",
       "      <td>-66.79</td>\n",
       "      <td>NA-US-PR-ANGELES</td>\n",
       "      <td>False</td>\n",
       "      <td>NaN</td>\n",
       "      <td>NaN</td>\n",
       "      <td>NaN</td>\n",
       "    </tr>\n",
       "    <tr>\n",
       "      <th>3</th>\n",
       "      <td>612</td>\n",
       "      <td>STANDARD</td>\n",
       "      <td>ARECIBO</td>\n",
       "      <td>PR</td>\n",
       "      <td>PRIMARY</td>\n",
       "      <td>18.45</td>\n",
       "      <td>-66.73</td>\n",
       "      <td>NA-US-PR-ARECIBO</td>\n",
       "      <td>False</td>\n",
       "      <td>NaN</td>\n",
       "      <td>NaN</td>\n",
       "      <td>NaN</td>\n",
       "    </tr>\n",
       "    <tr>\n",
       "      <th>4</th>\n",
       "      <td>601</td>\n",
       "      <td>STANDARD</td>\n",
       "      <td>ADJUNTAS</td>\n",
       "      <td>PR</td>\n",
       "      <td>PRIMARY</td>\n",
       "      <td>18.16</td>\n",
       "      <td>-66.72</td>\n",
       "      <td>NA-US-PR-ADJUNTAS</td>\n",
       "      <td>False</td>\n",
       "      <td>NaN</td>\n",
       "      <td>NaN</td>\n",
       "      <td>NaN</td>\n",
       "    </tr>\n",
       "  </tbody>\n",
       "</table>\n",
       "</div>"
      ],
      "text/plain": [
       "   Zipcode ZipCodeType      City State LocationType    Lat   Long  \\\n",
       "0      705    STANDARD  AIBONITO    PR      PRIMARY  18.14 -66.26   \n",
       "1      610    STANDARD    ANASCO    PR      PRIMARY  18.28 -67.14   \n",
       "2      611      PO BOX   ANGELES    PR      PRIMARY  18.28 -66.79   \n",
       "3      612    STANDARD   ARECIBO    PR      PRIMARY  18.45 -66.73   \n",
       "4      601    STANDARD  ADJUNTAS    PR      PRIMARY  18.16 -66.72   \n",
       "\n",
       "            Location  Decommisioned  TaxReturnsFiled  EstimatedPopulation  \\\n",
       "0  NA-US-PR-AIBONITO          False              NaN                  NaN   \n",
       "1    NA-US-PR-ANASCO          False              NaN                  NaN   \n",
       "2   NA-US-PR-ANGELES          False              NaN                  NaN   \n",
       "3   NA-US-PR-ARECIBO          False              NaN                  NaN   \n",
       "4  NA-US-PR-ADJUNTAS          False              NaN                  NaN   \n",
       "\n",
       "   TotalWages  \n",
       "0         NaN  \n",
       "1         NaN  \n",
       "2         NaN  \n",
       "3         NaN  \n",
       "4         NaN  "
      ]
     },
     "execution_count": 84,
     "metadata": {},
     "output_type": "execute_result"
    }
   ],
   "source": [
    "zips =  pd.read_csv('free-zipcode-database-Primary.csv')\n",
    "zips.head()"
   ]
  },
  {
   "cell_type": "code",
   "execution_count": 12,
   "metadata": {},
   "outputs": [
    {
     "data": {
      "text/plain": [
       "array(['PR', 'NJ', 'NY', 'AE', 'VI', 'MA', 'ME', 'NH', 'VT', 'CT', 'RI',\n",
       "       'DE', 'PA', 'WV', 'KY', 'TN', 'VA', 'GA', 'IN', 'OH', 'IL', 'IA',\n",
       "       'MN', 'WI', 'MT', 'ND', 'SD', 'KS', 'MO', 'NE', 'CO', 'WY', 'ID',\n",
       "       'UT', 'AZ', 'NM', 'TX', 'CA', 'NV', 'OR', 'WA', 'AK', 'GU', 'HI',\n",
       "       'AS', 'PW', 'FM', 'MP', 'MH', 'FL', 'SC', 'AL', 'MS', 'LA', 'AR',\n",
       "       'OK', 'MI', 'DC', 'MD', 'NC', 'AA', 'AP'], dtype=object)"
      ]
     },
     "execution_count": 12,
     "metadata": {},
     "output_type": "execute_result"
    }
   ],
   "source": [
    "zips['State'].unique()"
   ]
  },
  {
   "cell_type": "code",
   "execution_count": 13,
   "metadata": {},
   "outputs": [
    {
     "data": {
      "text/plain": [
       "str"
      ]
     },
     "execution_count": 13,
     "metadata": {},
     "output_type": "execute_result"
    }
   ],
   "source": [
    "type(clean_data.loc[0, 'Geo_Targeting_Included'])"
   ]
  },
  {
   "cell_type": "code",
   "execution_count": 14,
   "metadata": {},
   "outputs": [],
   "source": [
    "list_zips = [item.split(', ') for item in clean_data['Geo_Targeting_Included']]"
   ]
  },
  {
   "cell_type": "code",
   "execution_count": null,
   "metadata": {},
   "outputs": [],
   "source": [
    "#list for new column\n",
    "zip_column = []\n",
    "#loop through geographic targetings\n",
    "for x in range(len(list_zips)):\n",
    "    if(x%5000 == 0):\n",
    "        #track loop progress\n",
    "        print(x)\n",
    "    list_of_zips = []\n",
    "    for zip in list_zips[x]:\n",
    "        if zip.isdigit():\n",
    "            #find numeric zip codes from the zipcode database, and save to nested list\n",
    "            int_zip = int(zip)\n",
    "            zips_item = zips.loc[zips['Zipcode'] == int_zip]\n",
    "            if(len(zips_item) == 1):\n",
    "                list_of_zips.append(zips_item['City'].item().capitalize())\n",
    "        else:\n",
    "            list_of_zips.append(zip)\n",
    "    #append list to column list\n",
    "    zip_column.append(set(list_of_zips))"
   ]
  },
  {
   "cell_type": "code",
   "execution_count": 24,
   "metadata": {},
   "outputs": [
    {
     "data": {
      "text/html": [
       "<div>\n",
       "<style scoped>\n",
       "    .dataframe tbody tr th:only-of-type {\n",
       "        vertical-align: middle;\n",
       "    }\n",
       "\n",
       "    .dataframe tbody tr th {\n",
       "        vertical-align: top;\n",
       "    }\n",
       "\n",
       "    .dataframe thead th {\n",
       "        text-align: right;\n",
       "    }\n",
       "</style>\n",
       "<table border=\"1\" class=\"dataframe\">\n",
       "  <thead>\n",
       "    <tr style=\"text-align: right;\">\n",
       "      <th></th>\n",
       "      <th>Ad_Type</th>\n",
       "      <th>Regions</th>\n",
       "      <th>Advertiser_Name</th>\n",
       "      <th>Date_Range_Start</th>\n",
       "      <th>Date_Range_End</th>\n",
       "      <th>Num_of_Days</th>\n",
       "      <th>Impressions</th>\n",
       "      <th>Spend_USD</th>\n",
       "      <th>Age_Targeting</th>\n",
       "      <th>Gender_Targeting</th>\n",
       "      <th>Geo_Targeting_Included</th>\n",
       "      <th>Geo_Targeting_Excluded</th>\n",
       "      <th>Spend_Range_Min_USD</th>\n",
       "      <th>Spend_Range_Max_USD</th>\n",
       "      <th>Areas_Targeted</th>\n",
       "    </tr>\n",
       "  </thead>\n",
       "  <tbody>\n",
       "    <tr>\n",
       "      <th>0</th>\n",
       "      <td>Text</td>\n",
       "      <td>US</td>\n",
       "      <td>ALEX FOR AZ</td>\n",
       "      <td>2020-07-08</td>\n",
       "      <td>2020-08-04</td>\n",
       "      <td>28</td>\n",
       "      <td>≤ 10k</td>\n",
       "      <td>1k-50k</td>\n",
       "      <td>Not targeted</td>\n",
       "      <td>Not targeted</td>\n",
       "      <td>85054, 85207, 85215, 85250, 85251, 85253, 8525...</td>\n",
       "      <td>Not targeted</td>\n",
       "      <td>1000</td>\n",
       "      <td>50000.0</td>\n",
       "      <td>{Cave creek, Phoenix, Fort mcdowell, Scottsdal...</td>\n",
       "    </tr>\n",
       "    <tr>\n",
       "      <th>1</th>\n",
       "      <td>Text</td>\n",
       "      <td>US</td>\n",
       "      <td>ALEX FOR AZ</td>\n",
       "      <td>2020-07-07</td>\n",
       "      <td>2020-08-04</td>\n",
       "      <td>29</td>\n",
       "      <td>≤ 10k</td>\n",
       "      <td>1k-50k</td>\n",
       "      <td>Not targeted</td>\n",
       "      <td>Not targeted</td>\n",
       "      <td>85054, 85207, 85215, 85250, 85251, 85253, 8525...</td>\n",
       "      <td>Not targeted</td>\n",
       "      <td>1000</td>\n",
       "      <td>50000.0</td>\n",
       "      <td>{Cave creek, Phoenix, Fort mcdowell, Scottsdal...</td>\n",
       "    </tr>\n",
       "    <tr>\n",
       "      <th>2</th>\n",
       "      <td>Text</td>\n",
       "      <td>US</td>\n",
       "      <td>CITIZENS FOR JD WOOTEN</td>\n",
       "      <td>2020-08-28</td>\n",
       "      <td>2020-11-03</td>\n",
       "      <td>64</td>\n",
       "      <td>10k-100k</td>\n",
       "      <td>1k-50k</td>\n",
       "      <td>Not targeted</td>\n",
       "      <td>Not targeted</td>\n",
       "      <td>27215, 27217, 27233, 27244, 27249, 27253, 2725...</td>\n",
       "      <td>Not targeted</td>\n",
       "      <td>1000</td>\n",
       "      <td>50000.0</td>\n",
       "      <td>{Julian, Snow camp, Greensboro, Graham, Climax...</td>\n",
       "    </tr>\n",
       "    <tr>\n",
       "      <th>3</th>\n",
       "      <td>Video</td>\n",
       "      <td>US</td>\n",
       "      <td>CITIZENS FOR JD WOOTEN</td>\n",
       "      <td>2020-10-28</td>\n",
       "      <td>2020-11-03</td>\n",
       "      <td>7</td>\n",
       "      <td>100k-1M</td>\n",
       "      <td>1k-50k</td>\n",
       "      <td>18-24, 25-34, 35-44, 45-54, 55-64, ≥65, Unknow...</td>\n",
       "      <td>Male, Female, Unknown gender</td>\n",
       "      <td>27215, 27217, 27233, 27244, 27249, 27253, 2725...</td>\n",
       "      <td>Not targeted</td>\n",
       "      <td>1000</td>\n",
       "      <td>50000.0</td>\n",
       "      <td>{Julian, Snow camp, Greensboro, Graham, Climax...</td>\n",
       "    </tr>\n",
       "    <tr>\n",
       "      <th>4</th>\n",
       "      <td>Video</td>\n",
       "      <td>US</td>\n",
       "      <td>CITIZENS FOR JD WOOTEN</td>\n",
       "      <td>2020-10-26</td>\n",
       "      <td>2020-11-03</td>\n",
       "      <td>9</td>\n",
       "      <td>10k-100k</td>\n",
       "      <td>1k-50k</td>\n",
       "      <td>18-24, 25-34, 35-44, 45-54, 55-64, ≥65, Unknow...</td>\n",
       "      <td>Male, Female, Unknown gender</td>\n",
       "      <td>27215, 27217, 27233, 27244, 27249, 27253, 2725...</td>\n",
       "      <td>Not targeted</td>\n",
       "      <td>1000</td>\n",
       "      <td>50000.0</td>\n",
       "      <td>{Julian, Snow camp, Greensboro, Graham, Climax...</td>\n",
       "    </tr>\n",
       "  </tbody>\n",
       "</table>\n",
       "</div>"
      ],
      "text/plain": [
       "  Ad_Type Regions         Advertiser_Name Date_Range_Start Date_Range_End  \\\n",
       "0    Text      US             ALEX FOR AZ       2020-07-08     2020-08-04   \n",
       "1    Text      US             ALEX FOR AZ       2020-07-07     2020-08-04   \n",
       "2    Text      US  CITIZENS FOR JD WOOTEN       2020-08-28     2020-11-03   \n",
       "3   Video      US  CITIZENS FOR JD WOOTEN       2020-10-28     2020-11-03   \n",
       "4   Video      US  CITIZENS FOR JD WOOTEN       2020-10-26     2020-11-03   \n",
       "\n",
       "   Num_of_Days Impressions Spend_USD  \\\n",
       "0           28       ≤ 10k    1k-50k   \n",
       "1           29       ≤ 10k    1k-50k   \n",
       "2           64    10k-100k    1k-50k   \n",
       "3            7     100k-1M    1k-50k   \n",
       "4            9    10k-100k    1k-50k   \n",
       "\n",
       "                                       Age_Targeting  \\\n",
       "0                                       Not targeted   \n",
       "1                                       Not targeted   \n",
       "2                                       Not targeted   \n",
       "3  18-24, 25-34, 35-44, 45-54, 55-64, ≥65, Unknow...   \n",
       "4  18-24, 25-34, 35-44, 45-54, 55-64, ≥65, Unknow...   \n",
       "\n",
       "               Gender_Targeting  \\\n",
       "0                  Not targeted   \n",
       "1                  Not targeted   \n",
       "2                  Not targeted   \n",
       "3  Male, Female, Unknown gender   \n",
       "4  Male, Female, Unknown gender   \n",
       "\n",
       "                              Geo_Targeting_Included Geo_Targeting_Excluded  \\\n",
       "0  85054, 85207, 85215, 85250, 85251, 85253, 8525...           Not targeted   \n",
       "1  85054, 85207, 85215, 85250, 85251, 85253, 8525...           Not targeted   \n",
       "2  27215, 27217, 27233, 27244, 27249, 27253, 2725...           Not targeted   \n",
       "3  27215, 27217, 27233, 27244, 27249, 27253, 2725...           Not targeted   \n",
       "4  27215, 27217, 27233, 27244, 27249, 27253, 2725...           Not targeted   \n",
       "\n",
       "   Spend_Range_Min_USD  Spend_Range_Max_USD  \\\n",
       "0                 1000              50000.0   \n",
       "1                 1000              50000.0   \n",
       "2                 1000              50000.0   \n",
       "3                 1000              50000.0   \n",
       "4                 1000              50000.0   \n",
       "\n",
       "                                      Areas_Targeted  \n",
       "0  {Cave creek, Phoenix, Fort mcdowell, Scottsdal...  \n",
       "1  {Cave creek, Phoenix, Fort mcdowell, Scottsdal...  \n",
       "2  {Julian, Snow camp, Greensboro, Graham, Climax...  \n",
       "3  {Julian, Snow camp, Greensboro, Graham, Climax...  \n",
       "4  {Julian, Snow camp, Greensboro, Graham, Climax...  "
      ]
     },
     "execution_count": 24,
     "metadata": {},
     "output_type": "execute_result"
    }
   ],
   "source": [
    "clean_data['Areas_Targeted'] = zip_column\n",
    "clean_data.head()"
   ]
  },
  {
   "cell_type": "code",
   "execution_count": 44,
   "metadata": {},
   "outputs": [
    {
     "name": "stdout",
     "output_type": "stream",
     "text": [
      "Video    55847\n",
      "Text     16602\n",
      "Image     8779\n",
      "Name: Ad_Type, dtype: int64\n",
      "\n",
      "\n",
      "Not targeted                                                36235\n",
      "18-24, 25-34, 35-44, 45-54, 55-64, ≥65, Unknown age         19822\n",
      "18-24, 25-34, 35-44, 45-54, 55-64, ≥65, Unknown age, ≤18    19333\n",
      "18-24, 25-34, 35-44, 45-54, 55-64, ≥65                       2775\n",
      "35-44, 45-54, 55-64, ≥65                                     1181\n",
      "18-24, 25-34                                                  279\n",
      "45-54, 55-64, ≥65                                             236\n",
      "35-44, 45-54, 55-64, ≥65, Unknown age                         230\n",
      "25-34, 35-44, 45-54, 55-64, ≥65                               211\n",
      "18-24, 25-34, 35-44, 45-54                                    183\n",
      "18-24, 25-34, 35-44                                           121\n",
      "35-44                                                         102\n",
      "25-34                                                          81\n",
      "18-24, 25-34, 55-64, ≥65, Unknown age                          60\n",
      "55-64, ≥65                                                     54\n",
      "25-34, 35-44, 45-54                                            40\n",
      "35-44, 45-54                                                   37\n",
      "1                                                              35\n",
      "18-24, 25-34, 35-44, 45-54, 55-64                              31\n",
      "18-24, 25-34, 35-44, 45-54, Unknown age                        28\n",
      "35-44, 45-54, 55-64                                            27\n",
      "≥65                                                            24\n",
      "45-54, 55-64, ≥65, Unknown age                                 23\n",
      "Unknown age                                                    21\n",
      "18-24, 35-44, 45-54, 55-64, ≥65, Unknown age                   17\n",
      "55-64, ≥65, Unknown age                                        15\n",
      "55-64                                                          13\n",
      "45-54, 55-64                                                   11\n",
      "18-24, 25-34, 45-54                                             9\n",
      "18-24, 25-34, 45-54, 55-64, ≥65, Unknown age                    7\n",
      "18-24                                                           6\n",
      "25-34, 35-44, 45-54, 55-64                                      5\n",
      "25-34, 35-44                                                    4\n",
      "25-34, 35-44, 45-54, 55-64, ≥65, Unknown age                    3\n",
      "18-24, Unknown age                                              1\n",
      "18-24, 25-34, 35-44, Unknown age                                1\n",
      "45-54, 55-64, Unknown age                                       1\n",
      "25-34, Unknown age                                              1\n",
      "Name: Age_Targeting, dtype: int64\n",
      "\n",
      "\n",
      "Not targeted                    43915\n",
      "Male, Female, Unknown gender    35481\n",
      "Male, Female                      886\n",
      "Female                            704\n",
      "Male                              143\n",
      "Female, Unknown gender             53\n",
      "Male, Unknown gender               45\n",
      "Unknown gender                      1\n",
      "Name: Gender_Targeting, dtype: int64\n"
     ]
    }
   ],
   "source": [
    "print(clean_data['Ad_Type'].value_counts())\n",
    "print('\\n')\n",
    "print(clean_data['Age_Targeting'].value_counts())\n",
    "print('\\n')\n",
    "print(clean_data['Gender_Targeting'].value_counts())"
   ]
  },
  {
   "cell_type": "code",
   "execution_count": 62,
   "metadata": {},
   "outputs": [
    {
     "data": {
      "text/html": [
       "<div>\n",
       "<style scoped>\n",
       "    .dataframe tbody tr th:only-of-type {\n",
       "        vertical-align: middle;\n",
       "    }\n",
       "\n",
       "    .dataframe tbody tr th {\n",
       "        vertical-align: top;\n",
       "    }\n",
       "\n",
       "    .dataframe thead th {\n",
       "        text-align: right;\n",
       "    }\n",
       "</style>\n",
       "<table border=\"1\" class=\"dataframe\">\n",
       "  <thead>\n",
       "    <tr style=\"text-align: right;\">\n",
       "      <th></th>\n",
       "      <th>Ad_Type_Code</th>\n",
       "      <th>Ad_Type</th>\n",
       "    </tr>\n",
       "  </thead>\n",
       "  <tbody>\n",
       "    <tr>\n",
       "      <th>0</th>\n",
       "      <td>1</td>\n",
       "      <td>Video</td>\n",
       "    </tr>\n",
       "    <tr>\n",
       "      <th>1</th>\n",
       "      <td>2</td>\n",
       "      <td>Text</td>\n",
       "    </tr>\n",
       "    <tr>\n",
       "      <th>2</th>\n",
       "      <td>3</td>\n",
       "      <td>Image</td>\n",
       "    </tr>\n",
       "  </tbody>\n",
       "</table>\n",
       "</div>"
      ],
      "text/plain": [
       "   Ad_Type_Code Ad_Type\n",
       "0             1   Video\n",
       "1             2    Text\n",
       "2             3   Image"
      ]
     },
     "execution_count": 62,
     "metadata": {},
     "output_type": "execute_result"
    }
   ],
   "source": [
    "ad_types = pd.DataFrame({'Ad_Type_Code' : [1, 2, 3], 'Ad_Type' : ['Video', 'Text', 'Image']})\n",
    "ad_types.head()"
   ]
  },
  {
   "cell_type": "code",
   "execution_count": 63,
   "metadata": {},
   "outputs": [],
   "source": [
    "google_data = pd.merge(clean_data, ad_types, on = 'Ad_Type')"
   ]
  },
  {
   "cell_type": "code",
   "execution_count": 64,
   "metadata": {},
   "outputs": [
    {
     "data": {
      "text/plain": [
       "array(['≤ 10k', '10k-100k', '100k-1M', '1M-10M', '> 10M'], dtype=object)"
      ]
     },
     "execution_count": 64,
     "metadata": {},
     "output_type": "execute_result"
    }
   ],
   "source": [
    "google_data['Impressions'].unique()"
   ]
  },
  {
   "cell_type": "code",
   "execution_count": null,
   "metadata": {},
   "outputs": [],
   "source": [
    "impression_types = pd.DataFrame({'Impression_Type' : [1, 2, 3, 4, 5], 'Impressions' : ['≤ 10k', '10k-100k', '100k-1M', '1M-10M', '> 10M']})\n",
    "google_data2 = pd.merge(google_data, impression_types, on = 'Impressions')"
   ]
  },
  {
   "cell_type": "code",
   "execution_count": 66,
   "metadata": {},
   "outputs": [],
   "source": [
    "google_data2.to_csv('final_dataframe.csv', index = False, header=True)"
   ]
  },
  {
   "cell_type": "markdown",
   "metadata": {},
   "source": [
    "## Data Description"
   ]
  },
  {
   "cell_type": "markdown",
   "metadata": {},
   "source": [
    "##### What are the observations (rows) and the attributes (columns)?\n",
    "\n",
    "The observations of the Google data are different political ads. The attributes are the kind of advertisement (text, video, or image),  the region the ad is from, the name of the advertiser, the range of dates and number of days that the ad was released, the amount of impressions the ad had, spending range for the ad, target age, target gender, any locations targeted or avoided by the advertisement, and the maximum and minimum amounts of money spent for each ad. \n",
    "\n",
    "The observations of the zipcode data are different zipcodes in the United States and territories. The columns are zipcode, zipcode type, city, state, latitude, longitude, whether the zip code is still in use, the population, tax returns, and total wages. The columns we used to add to the google dataset were the city and zipcode.\n",
    "\n",
    "##### Why was this dataset created?\n",
    "\n",
    "The dataset was created in order to provide greater transparency in political advertising on Google, YouTube, and partner properties. \n",
    "\n",
    "##### Who funded the creation of the dataset?\n",
    "\n",
    "Google and their “Transparency Report” team funded the creation of this dataset.\n",
    "\n",
    "##### What processes might have influenced what data was observed and recorded and what was not?\n",
    "\n",
    "To run election ads, Google requires advertisers to be verified, and observe its policies and applicable laws. Election ads in this report feature a current officeholder or candidate for an elected federal or state office, federal or state political party, or state ballot measure, initiative, or proposition that qualifies for the ballot in a state. The report also includes all ads from advertisers that completed the express notification process related to California candidates for elected office or California ballot measures.\n",
    "\n",
    "##### What preprocessing was done, and how did the data come to be in the form that you are using?\n",
    "\n",
    "Preprocessing steps taken by Google’s data originators are not described on the “Transparency Report” website. As a team, we completed our own independent preprocessing in order to narrow down the raw data to items of interest based on our \n",
    "research questions. The data was filtered to include only Google Ads targeting the United States, and we deleted some columns present in the raw data which were redundant or not applicable to the US. In order to isolate ads likely to be more influential, we filtered the data to include only ad campaigns with a minimum spending value of $1,000. Additionally, we used a set of US zip code data in order to add information to the raw data about what cities and counties were being targeted by the ads. Finally, some integer columns were added in order to provide a numerical representation of finite categorical variables represented in preexisting data.\n",
    "\n",
    "##### If people are involved, were they aware of the data collection and if so, what purpose did they expect the data to be used for?\n",
    "\n",
    "People were aware of their data being collected, because websites requested that they put extensions on their browsers. The extensions gathered data about the ads on users’ Facebook pages. \n",
    "\n",
    "##### Cleaned data is hosted in the Cornell Box: https://cornell.box.com/s/2m5uwulla3pfca5qt395ngdonpnx0g9d \n",
    "\n",
    "The raw source data is found in the Google Transparency Report on US political ads: \n",
    "https://transparencyreport.google.com/political-ads/region/US\n",
    "The specific file used is google-political-ads-creative-stats.csv\n",
    "\n",
    "Zip Code data was downlaoded from http://federalgovernmentzipcodes.us/download.html\n",
    "\n",
    "##### Over what timeframe was the data collected?\n",
    "The time frame is based on the launch date of the Transparency Report for a country or region. For the United States, data has been collected since May 31, 2018, and the data site is updated daily. We downloaded the data from Google on October 7th, 2021.\n",
    "\n",
    "##### Are there any errors, sources of noise, or redundancies in the dataset?\n",
    "There are range redundancies for ad observations in certain columns like Impressions, Spend_USD, Age_Targeting, and Geo_Targeting_Included. As an example, several ads have impression ranges of 10K-100K.\n",
    "\n",
    "\n",
    "##### Does the data set identify any subpopulations?\n",
    "The data set includes information about gender targeted ads; specifically, it identifies female, male, and unknown gender subpopulations. In addition, the data set includes information about ads’ target audience ages, grouping people by increments of 10 from ages 18-65. As a final example, the data set includes information about geographic subpopulations, indicating specific zip codes, counties, and states targeted by the different ads.  \n",
    "\n",
    "***"
   ]
  },
  {
   "cell_type": "markdown",
   "metadata": {},
   "source": [
    "## Data Limitations"
   ]
  },
  {
   "cell_type": "markdown",
   "metadata": {},
   "source": [
    "There are a few different aspects of the data set that could be problematic. In some of the columns (Impressions and Spend_USD) the data is given in very wide ranges. For example, one advertisement is reported to have reached between one hundred thousand and one million people. Having such wide ranges can negatively affect accuracy of data and make it more difficult to make predictions based on the data, since we don’t know how many impressions were made by the ads with more specificity. Additionally, according to the Transparency Report, data was collected by requesting that people use a browser extension that records political ads that they view. This method of data collection excludes individuals who opted out of using the extension, and since we don’t know how many people that was, we may not be getting the most accurate data results.\n",
    "\n",
    "Geographic Targeting is an important variable which we hope to leverage in futher analysis, however the way it is grouped here may become problamtic. In cleaning the data, I used zip code data to add a new column with city names instead of zip codes where applicable. However, the geographic targeting column still includes a mix of zip codes, states, and counties, which are obviously not the same measurements or types. This could cause confusion later on.\n",
    "***"
   ]
  },
  {
   "cell_type": "markdown",
   "metadata": {},
   "source": [
    "## Exploratory Data Analysis"
   ]
  },
  {
   "cell_type": "code",
   "execution_count": 4,
   "metadata": {},
   "outputs": [
    {
     "data": {
      "text/html": [
       "<div>\n",
       "<style scoped>\n",
       "    .dataframe tbody tr th:only-of-type {\n",
       "        vertical-align: middle;\n",
       "    }\n",
       "\n",
       "    .dataframe tbody tr th {\n",
       "        vertical-align: top;\n",
       "    }\n",
       "\n",
       "    .dataframe thead th {\n",
       "        text-align: right;\n",
       "    }\n",
       "</style>\n",
       "<table border=\"1\" class=\"dataframe\">\n",
       "  <thead>\n",
       "    <tr style=\"text-align: right;\">\n",
       "      <th></th>\n",
       "      <th>Ad_Type</th>\n",
       "      <th>Regions</th>\n",
       "      <th>Advertiser_Name</th>\n",
       "      <th>Date_Range_Start</th>\n",
       "      <th>Date_Range_End</th>\n",
       "      <th>Num_of_Days</th>\n",
       "      <th>Impressions</th>\n",
       "      <th>Spend_USD</th>\n",
       "      <th>Age_Targeting</th>\n",
       "      <th>Gender_Targeting</th>\n",
       "      <th>Geo_Targeting_Included</th>\n",
       "      <th>Geo_Targeting_Excluded</th>\n",
       "      <th>Spend_Range_Min_USD</th>\n",
       "      <th>Spend_Range_Max_USD</th>\n",
       "      <th>Areas_Targeted</th>\n",
       "      <th>Ad_Type_Code</th>\n",
       "      <th>Impression_Type</th>\n",
       "    </tr>\n",
       "  </thead>\n",
       "  <tbody>\n",
       "    <tr>\n",
       "      <th>0</th>\n",
       "      <td>Text</td>\n",
       "      <td>US</td>\n",
       "      <td>ALEX FOR AZ</td>\n",
       "      <td>2020-07-08</td>\n",
       "      <td>2020-08-04</td>\n",
       "      <td>28.0</td>\n",
       "      <td>≤ 10k</td>\n",
       "      <td>1k-50k</td>\n",
       "      <td>Not targeted</td>\n",
       "      <td>Not targeted</td>\n",
       "      <td>85054, 85207, 85215, 85250, 85251, 85253, 8525...</td>\n",
       "      <td>Not targeted</td>\n",
       "      <td>1000.0</td>\n",
       "      <td>50000.0</td>\n",
       "      <td>{'Cave creek', 'Phoenix', 'Fort mcdowell', 'Sc...</td>\n",
       "      <td>2</td>\n",
       "      <td>1</td>\n",
       "    </tr>\n",
       "    <tr>\n",
       "      <th>1</th>\n",
       "      <td>Text</td>\n",
       "      <td>US</td>\n",
       "      <td>ALEX FOR AZ</td>\n",
       "      <td>2020-07-07</td>\n",
       "      <td>2020-08-04</td>\n",
       "      <td>29.0</td>\n",
       "      <td>≤ 10k</td>\n",
       "      <td>1k-50k</td>\n",
       "      <td>Not targeted</td>\n",
       "      <td>Not targeted</td>\n",
       "      <td>85054, 85207, 85215, 85250, 85251, 85253, 8525...</td>\n",
       "      <td>Not targeted</td>\n",
       "      <td>1000.0</td>\n",
       "      <td>50000.0</td>\n",
       "      <td>{'Cave creek', 'Phoenix', 'Fort mcdowell', 'Sc...</td>\n",
       "      <td>2</td>\n",
       "      <td>1</td>\n",
       "    </tr>\n",
       "    <tr>\n",
       "      <th>2</th>\n",
       "      <td>Text</td>\n",
       "      <td>US</td>\n",
       "      <td>PETE FOR AMERICA, INC.</td>\n",
       "      <td>2020-02-22</td>\n",
       "      <td>2020-02-22</td>\n",
       "      <td>1.0</td>\n",
       "      <td>≤ 10k</td>\n",
       "      <td>1k-50k</td>\n",
       "      <td>Not targeted</td>\n",
       "      <td>Not targeted</td>\n",
       "      <td>Nevada</td>\n",
       "      <td>Not targeted</td>\n",
       "      <td>1000.0</td>\n",
       "      <td>50000.0</td>\n",
       "      <td>{'Nevada'}</td>\n",
       "      <td>2</td>\n",
       "      <td>1</td>\n",
       "    </tr>\n",
       "    <tr>\n",
       "      <th>3</th>\n",
       "      <td>Text</td>\n",
       "      <td>US</td>\n",
       "      <td>PETE FOR AMERICA, INC.</td>\n",
       "      <td>2019-08-14</td>\n",
       "      <td>2019-10-15</td>\n",
       "      <td>62.0</td>\n",
       "      <td>≤ 10k</td>\n",
       "      <td>1k-50k</td>\n",
       "      <td>Not targeted</td>\n",
       "      <td>Not targeted</td>\n",
       "      <td>New Hampshire</td>\n",
       "      <td>Not targeted</td>\n",
       "      <td>1000.0</td>\n",
       "      <td>50000.0</td>\n",
       "      <td>{'New Hampshire'}</td>\n",
       "      <td>2</td>\n",
       "      <td>1</td>\n",
       "    </tr>\n",
       "    <tr>\n",
       "      <th>4</th>\n",
       "      <td>Text</td>\n",
       "      <td>US</td>\n",
       "      <td>PETE FOR AMERICA, INC.</td>\n",
       "      <td>2020-02-27</td>\n",
       "      <td>2020-02-29</td>\n",
       "      <td>3.0</td>\n",
       "      <td>≤ 10k</td>\n",
       "      <td>1k-50k</td>\n",
       "      <td>Not targeted</td>\n",
       "      <td>Not targeted</td>\n",
       "      <td>South Carolina</td>\n",
       "      <td>Not targeted</td>\n",
       "      <td>1000.0</td>\n",
       "      <td>50000.0</td>\n",
       "      <td>{'South Carolina'}</td>\n",
       "      <td>2</td>\n",
       "      <td>1</td>\n",
       "    </tr>\n",
       "  </tbody>\n",
       "</table>\n",
       "</div>"
      ],
      "text/plain": [
       "  Ad_Type Regions         Advertiser_Name Date_Range_Start Date_Range_End  \\\n",
       "0    Text      US             ALEX FOR AZ       2020-07-08     2020-08-04   \n",
       "1    Text      US             ALEX FOR AZ       2020-07-07     2020-08-04   \n",
       "2    Text      US  PETE FOR AMERICA, INC.       2020-02-22     2020-02-22   \n",
       "3    Text      US  PETE FOR AMERICA, INC.       2019-08-14     2019-10-15   \n",
       "4    Text      US  PETE FOR AMERICA, INC.       2020-02-27     2020-02-29   \n",
       "\n",
       "   Num_of_Days Impressions Spend_USD Age_Targeting Gender_Targeting  \\\n",
       "0         28.0       ≤ 10k    1k-50k  Not targeted     Not targeted   \n",
       "1         29.0       ≤ 10k    1k-50k  Not targeted     Not targeted   \n",
       "2          1.0       ≤ 10k    1k-50k  Not targeted     Not targeted   \n",
       "3         62.0       ≤ 10k    1k-50k  Not targeted     Not targeted   \n",
       "4          3.0       ≤ 10k    1k-50k  Not targeted     Not targeted   \n",
       "\n",
       "                              Geo_Targeting_Included Geo_Targeting_Excluded  \\\n",
       "0  85054, 85207, 85215, 85250, 85251, 85253, 8525...           Not targeted   \n",
       "1  85054, 85207, 85215, 85250, 85251, 85253, 8525...           Not targeted   \n",
       "2                                             Nevada           Not targeted   \n",
       "3                                      New Hampshire           Not targeted   \n",
       "4                                     South Carolina           Not targeted   \n",
       "\n",
       "   Spend_Range_Min_USD  Spend_Range_Max_USD  \\\n",
       "0               1000.0              50000.0   \n",
       "1               1000.0              50000.0   \n",
       "2               1000.0              50000.0   \n",
       "3               1000.0              50000.0   \n",
       "4               1000.0              50000.0   \n",
       "\n",
       "                                      Areas_Targeted  Ad_Type_Code  \\\n",
       "0  {'Cave creek', 'Phoenix', 'Fort mcdowell', 'Sc...             2   \n",
       "1  {'Cave creek', 'Phoenix', 'Fort mcdowell', 'Sc...             2   \n",
       "2                                         {'Nevada'}             2   \n",
       "3                                  {'New Hampshire'}             2   \n",
       "4                                 {'South Carolina'}             2   \n",
       "\n",
       "   Impression_Type  \n",
       "0                1  \n",
       "1                1  \n",
       "2                1  \n",
       "3                1  \n",
       "4                1  "
      ]
     },
     "execution_count": 4,
     "metadata": {},
     "output_type": "execute_result"
    }
   ],
   "source": [
    "import seaborn as sns\n",
    "sns.set(rc = {'figure.figsize':(15,8)})\n",
    "data = pd.read_csv('final_dataframe.csv')\n",
    "data.head()"
   ]
  },
  {
   "cell_type": "code",
   "execution_count": 5,
   "metadata": {},
   "outputs": [
    {
     "data": {
      "text/html": [
       "<div>\n",
       "<style scoped>\n",
       "    .dataframe tbody tr th:only-of-type {\n",
       "        vertical-align: middle;\n",
       "    }\n",
       "\n",
       "    .dataframe tbody tr th {\n",
       "        vertical-align: top;\n",
       "    }\n",
       "\n",
       "    .dataframe thead th {\n",
       "        text-align: right;\n",
       "    }\n",
       "</style>\n",
       "<table border=\"1\" class=\"dataframe\">\n",
       "  <thead>\n",
       "    <tr style=\"text-align: right;\">\n",
       "      <th></th>\n",
       "      <th>Num_of_Days</th>\n",
       "      <th>Spend_Range_Min_USD</th>\n",
       "      <th>Spend_Range_Max_USD</th>\n",
       "    </tr>\n",
       "  </thead>\n",
       "  <tbody>\n",
       "    <tr>\n",
       "      <th>count</th>\n",
       "      <td>81228.000000</td>\n",
       "      <td>81228.000000</td>\n",
       "      <td>80371.000000</td>\n",
       "    </tr>\n",
       "    <tr>\n",
       "      <th>mean</th>\n",
       "      <td>27.739228</td>\n",
       "      <td>2805.190328</td>\n",
       "      <td>50784.486942</td>\n",
       "    </tr>\n",
       "    <tr>\n",
       "      <th>std</th>\n",
       "      <td>53.011938</td>\n",
       "      <td>11722.735333</td>\n",
       "      <td>6213.646894</td>\n",
       "    </tr>\n",
       "    <tr>\n",
       "      <th>min</th>\n",
       "      <td>1.000000</td>\n",
       "      <td>1000.000000</td>\n",
       "      <td>50000.000000</td>\n",
       "    </tr>\n",
       "    <tr>\n",
       "      <th>25%</th>\n",
       "      <td>6.000000</td>\n",
       "      <td>1000.000000</td>\n",
       "      <td>50000.000000</td>\n",
       "    </tr>\n",
       "    <tr>\n",
       "      <th>50%</th>\n",
       "      <td>12.000000</td>\n",
       "      <td>1000.000000</td>\n",
       "      <td>50000.000000</td>\n",
       "    </tr>\n",
       "    <tr>\n",
       "      <th>75%</th>\n",
       "      <td>24.000000</td>\n",
       "      <td>1000.000000</td>\n",
       "      <td>50000.000000</td>\n",
       "    </tr>\n",
       "    <tr>\n",
       "      <th>max</th>\n",
       "      <td>1042.000000</td>\n",
       "      <td>100000.000000</td>\n",
       "      <td>100000.000000</td>\n",
       "    </tr>\n",
       "  </tbody>\n",
       "</table>\n",
       "</div>"
      ],
      "text/plain": [
       "        Num_of_Days  Spend_Range_Min_USD  Spend_Range_Max_USD\n",
       "count  81228.000000         81228.000000         80371.000000\n",
       "mean      27.739228          2805.190328         50784.486942\n",
       "std       53.011938         11722.735333          6213.646894\n",
       "min        1.000000          1000.000000         50000.000000\n",
       "25%        6.000000          1000.000000         50000.000000\n",
       "50%       12.000000          1000.000000         50000.000000\n",
       "75%       24.000000          1000.000000         50000.000000\n",
       "max     1042.000000        100000.000000        100000.000000"
      ]
     },
     "execution_count": 5,
     "metadata": {},
     "output_type": "execute_result"
    }
   ],
   "source": [
    "data[['Num_of_Days', 'Spend_Range_Min_USD', 'Spend_Range_Max_USD']].describe()"
   ]
  },
  {
   "cell_type": "code",
   "execution_count": 6,
   "metadata": {},
   "outputs": [
    {
     "name": "stdout",
     "output_type": "stream",
     "text": [
      "Number of Days and Ad Type Correlation 0.37\n",
      "Ranked Number of Days and Ad Type Correlation 0.37\n"
     ]
    }
   ],
   "source": [
    "print('Number of Days and Ad Type Correlation {:.2f}'.format(data['Num_of_Days'].corr(data['Ad_Type_Code'], method = 'spearman')))\n",
    "print('Ranked Number of Days and Ad Type Correlation {:.2f}'.format(data['Num_of_Days'].rank().corr(data['Ad_Type_Code'], method = 'spearman')))"
   ]
  },
  {
   "cell_type": "code",
   "execution_count": 7,
   "metadata": {},
   "outputs": [
    {
     "data": {
      "image/png": "[encoded data removed]",
      "text/plain": [
       "<Figure size 430.225x360 with 1 Axes>"
      ]
     },
     "metadata": {},
     "output_type": "display_data"
    }
   ],
   "source": [
    "p = sns.displot(x = 'Num_of_Days', data = data, binwidth = 30, hue = 'Ad_Type');\n",
    "plt.xlabel('Number of Days Ad Was Run');\n",
    "p._legend.set_title('Ad Type');\n",
    "plt.title('Histogram of Days Ads Were Run');"
   ]
  },
  {
   "cell_type": "markdown",
   "metadata": {},
   "source": [
    "#### There are some large outliers, so just take up to the 90th percentile of values"
   ]
  },
  {
   "cell_type": "code",
   "execution_count": 8,
   "metadata": {},
   "outputs": [
    {
     "data": {
      "image/png": "[encoded data removed]",
      "text/plain": [
       "<Figure size 430.225x360 with 1 Axes>"
      ]
     },
     "metadata": {},
     "output_type": "display_data"
    }
   ],
   "source": [
    "p = sns.displot(x = 'Num_of_Days', data = data, binwidth = 5, hue = 'Ad_Type');\n",
    "plt.xlabel('Number of Days Ad Was Run');\n",
    "plt.xlim([0, np.percentile(data['Num_of_Days'], 90)]);\n",
    "p._legend.set_title('Ad Type');\n",
    "plt.title('Histogram of Days Ads Were Run');"
   ]
  },
  {
   "cell_type": "code",
   "execution_count": 9,
   "metadata": {},
   "outputs": [
    {
     "data": {
      "image/png": "[encoded data removed]",
      "text/plain": [
       "<Figure size 1080x576 with 1 Axes>"
      ]
     },
     "metadata": {},
     "output_type": "display_data"
    }
   ],
   "source": [
    "male_or_female = data.loc[(data['Gender_Targeting'] == 'Female') | (data['Gender_Targeting'] == 'Male')]\n",
    "sns.boxplot(x = male_or_female['Gender_Targeting'], y = 'Num_of_Days', data = data);\n",
    "plt.ylabel('Number of Days Ad was Run');\n",
    "plt.xlabel('Gender Targeting');\n",
    "plt.title('Boxplot of Days Ads Were Run By Gender');"
   ]
  },
  {
   "cell_type": "code",
   "execution_count": 10,
   "metadata": {},
   "outputs": [],
   "source": [
    "data.loc[:, 'Date_Range_Start'] = pd.to_datetime(data['Date_Range_Start'])\n",
    "data.loc[:, 'Date_Range_End'] = pd.to_datetime(data['Date_Range_End'])\n",
    "data['Weekday'] = data['Date_Range_Start'].dt.weekday"
   ]
  },
  {
   "cell_type": "code",
   "execution_count": 11,
   "metadata": {},
   "outputs": [
    {
     "data": {
      "image/png": "[encoded data removed]",
      "text/plain": [
       "<Figure size 1080x576 with 1 Axes>"
      ]
     },
     "metadata": {},
     "output_type": "display_data"
    }
   ],
   "source": [
    "sns.countplot(x='Weekday', data=data);\n",
    "plt.xticks(np.arange(0, 7), ('Monday', 'Tuesday', 'Wednesday', 'Thursday', 'Friday', 'Saturday', 'Sunday'));\n",
    "plt.title('Number of Ad Campaigns Started on Days of the Week');"
   ]
  },
  {
   "cell_type": "code",
   "execution_count": 12,
   "metadata": {},
   "outputs": [
    {
     "data": {
      "image/png": "[encoded data removed]",
      "text/plain": [
       "<Figure size 1080x576 with 1 Axes>"
      ]
     },
     "metadata": {},
     "output_type": "display_data"
    }
   ],
   "source": [
    "sns.histplot(x = 'Spend_Range_Min_USD', hue = 'Impressions', data = data, multiple = 'stack')\n",
    "plt.xlabel('Spend Range Minimum');\n",
    "plt.title('Histogram of Ad Spending Counts');"
   ]
  },
  {
   "cell_type": "code",
   "execution_count": 13,
   "metadata": {},
   "outputs": [
    {
     "data": {
      "image/png": "[encoded data removed]",
      "text/plain": [
       "<Figure size 1080x576 with 1 Axes>"
      ]
     },
     "metadata": {},
     "output_type": "display_data"
    }
   ],
   "source": [
    "plt.scatter(data['Ad_Type_Code'], data['Num_of_Days']);\n",
    "plt.xticks(np.arange(1,4), ('Video', 'Text', 'Image'));\n",
    "plt.ylabel('Number of Days Ad was Shown');\n",
    "plt.xlabel('Ad Type');\n",
    "plt.ylim(0, 1200, 50);\n",
    "plt.title('Days Ad Was Run by Ad Type');"
   ]
  },
  {
   "cell_type": "code",
   "execution_count": 14,
   "metadata": {},
   "outputs": [
    {
     "name": "stdout",
     "output_type": "stream",
     "text": [
      "Ads Date from 2018-05-31 00:00:00 to 2021-10-04 00:00:00\n"
     ]
    }
   ],
   "source": [
    "min = data['Date_Range_Start'].min()\n",
    "max = data['Date_Range_End'].max()\n",
    "print('Ads Date from {} to {}'.format(min, max))"
   ]
  },
  {
   "cell_type": "code",
   "execution_count": 15,
   "metadata": {},
   "outputs": [
    {
     "data": {
      "text/html": [
       "<div>\n",
       "<style scoped>\n",
       "    .dataframe tbody tr th:only-of-type {\n",
       "        vertical-align: middle;\n",
       "    }\n",
       "\n",
       "    .dataframe tbody tr th {\n",
       "        vertical-align: top;\n",
       "    }\n",
       "\n",
       "    .dataframe thead th {\n",
       "        text-align: right;\n",
       "    }\n",
       "</style>\n",
       "<table border=\"1\" class=\"dataframe\">\n",
       "  <thead>\n",
       "    <tr style=\"text-align: right;\">\n",
       "      <th></th>\n",
       "      <th>Advertiser</th>\n",
       "      <th>Count</th>\n",
       "      <th>2018_count</th>\n",
       "      <th>2019_count</th>\n",
       "      <th>2020_count</th>\n",
       "      <th>2021_count</th>\n",
       "    </tr>\n",
       "  </thead>\n",
       "  <tbody>\n",
       "    <tr>\n",
       "      <th>0</th>\n",
       "      <td>BIDEN FOR PRESIDENT</td>\n",
       "      <td>10708</td>\n",
       "      <td>0</td>\n",
       "      <td>125</td>\n",
       "      <td>10583</td>\n",
       "      <td>0</td>\n",
       "    </tr>\n",
       "    <tr>\n",
       "      <th>1</th>\n",
       "      <td>MIKE BLOOMBERG 2020 INC</td>\n",
       "      <td>7996</td>\n",
       "      <td>0</td>\n",
       "      <td>965</td>\n",
       "      <td>7031</td>\n",
       "      <td>0</td>\n",
       "    </tr>\n",
       "    <tr>\n",
       "      <th>2</th>\n",
       "      <td>DONALD J. TRUMP FOR PRESIDENT, INC.</td>\n",
       "      <td>4884</td>\n",
       "      <td>66</td>\n",
       "      <td>289</td>\n",
       "      <td>4529</td>\n",
       "      <td>0</td>\n",
       "    </tr>\n",
       "    <tr>\n",
       "      <th>3</th>\n",
       "      <td>TRUMP MAKE AMERICA GREAT AGAIN COMMITTEE</td>\n",
       "      <td>3504</td>\n",
       "      <td>482</td>\n",
       "      <td>1007</td>\n",
       "      <td>2015</td>\n",
       "      <td>0</td>\n",
       "    </tr>\n",
       "    <tr>\n",
       "      <th>4</th>\n",
       "      <td>NRSC</td>\n",
       "      <td>1826</td>\n",
       "      <td>386</td>\n",
       "      <td>6</td>\n",
       "      <td>1225</td>\n",
       "      <td>209</td>\n",
       "    </tr>\n",
       "    <tr>\n",
       "      <th>5</th>\n",
       "      <td>REPUBLICAN NATIONAL COMMITTEE</td>\n",
       "      <td>1508</td>\n",
       "      <td>458</td>\n",
       "      <td>96</td>\n",
       "      <td>825</td>\n",
       "      <td>129</td>\n",
       "    </tr>\n",
       "    <tr>\n",
       "      <th>6</th>\n",
       "      <td>NRCC</td>\n",
       "      <td>1370</td>\n",
       "      <td>528</td>\n",
       "      <td>135</td>\n",
       "      <td>665</td>\n",
       "      <td>42</td>\n",
       "    </tr>\n",
       "    <tr>\n",
       "      <th>7</th>\n",
       "      <td>SENATE LEADERSHIP FUND</td>\n",
       "      <td>1297</td>\n",
       "      <td>651</td>\n",
       "      <td>0</td>\n",
       "      <td>646</td>\n",
       "      <td>0</td>\n",
       "    </tr>\n",
       "    <tr>\n",
       "      <th>8</th>\n",
       "      <td>CONGRESSIONAL LEADERSHIP FUND</td>\n",
       "      <td>1279</td>\n",
       "      <td>566</td>\n",
       "      <td>32</td>\n",
       "      <td>679</td>\n",
       "      <td>2</td>\n",
       "    </tr>\n",
       "    <tr>\n",
       "      <th>9</th>\n",
       "      <td>DNC SERVICES CORP / DEMOCRATIC NATIONAL COMMITTEE</td>\n",
       "      <td>1272</td>\n",
       "      <td>71</td>\n",
       "      <td>112</td>\n",
       "      <td>1026</td>\n",
       "      <td>63</td>\n",
       "    </tr>\n",
       "  </tbody>\n",
       "</table>\n",
       "</div>"
      ],
      "text/plain": [
       "                                          Advertiser  Count  2018_count  \\\n",
       "0                                BIDEN FOR PRESIDENT  10708           0   \n",
       "1                            MIKE BLOOMBERG 2020 INC   7996           0   \n",
       "2                DONALD J. TRUMP FOR PRESIDENT, INC.   4884          66   \n",
       "3           TRUMP MAKE AMERICA GREAT AGAIN COMMITTEE   3504         482   \n",
       "4                                               NRSC   1826         386   \n",
       "5                      REPUBLICAN NATIONAL COMMITTEE   1508         458   \n",
       "6                                               NRCC   1370         528   \n",
       "7                             SENATE LEADERSHIP FUND   1297         651   \n",
       "8                      CONGRESSIONAL LEADERSHIP FUND   1279         566   \n",
       "9  DNC SERVICES CORP / DEMOCRATIC NATIONAL COMMITTEE   1272          71   \n",
       "\n",
       "   2019_count  2020_count  2021_count  \n",
       "0         125       10583           0  \n",
       "1         965        7031           0  \n",
       "2         289        4529           0  \n",
       "3        1007        2015           0  \n",
       "4           6        1225         209  \n",
       "5          96         825         129  \n",
       "6         135         665          42  \n",
       "7           0         646           0  \n",
       "8          32         679           2  \n",
       "9         112        1026          63  "
      ]
     },
     "execution_count": 15,
     "metadata": {},
     "output_type": "execute_result"
    }
   ],
   "source": [
    "#Get top ten advertisers in new dataframe\n",
    "top_10_advertisers = pd.DataFrame(data['Advertiser_Name'].value_counts()[:10])\n",
    "top_10_advertisers.reset_index(inplace = True)\n",
    "top_10_advertisers.rename(columns = {'index': 'Advertiser', 'Advertiser_Name' : 'Count'}, inplace = True)   \n",
    "\n",
    "#create new columns in full datafor ad counts and year\n",
    "values = data['Advertiser_Name'].value_counts().to_dict()\n",
    "data['Advertiser_Counts'] = data['Advertiser_Name'].map(values)\n",
    "data['Year'] = data['Date_Range_Start'].dt.year\n",
    "\n",
    "#create columns\n",
    "top_10_advertisers['2018_count'] = pd.Series(dtype='int')\n",
    "top_10_advertisers['2019_count'] = pd.Series(dtype='int')\n",
    "top_10_advertisers['2020_count'] = pd.Series(dtype='int')\n",
    "top_10_advertisers['2021_count'] = pd.Series(dtype='int')\n",
    "\n",
    "#loop through data to get counts for each year\n",
    "top_10_advertisers['2018_count'] = [len(data[(data['Advertiser_Name'] == item) & (data['Year'] == 2018)]) for item in top_10_advertisers['Advertiser']]\n",
    "top_10_advertisers['2019_count'] = [len(data[(data['Advertiser_Name'] == item) & (data['Year'] == 2019)]) for item in top_10_advertisers['Advertiser']]\n",
    "top_10_advertisers['2020_count'] = [len(data[(data['Advertiser_Name'] == item) & (data['Year'] == 2020)]) for item in top_10_advertisers['Advertiser']]\n",
    "top_10_advertisers['2021_count'] = [len(data[(data['Advertiser_Name'] == item) & (data['Year'] == 2021)]) for item in top_10_advertisers['Advertiser']]\n",
    "\n",
    "top_10_advertisers\n"
   ]
  },
  {
   "cell_type": "code",
   "execution_count": 16,
   "metadata": {},
   "outputs": [
    {
     "data": {
      "image/png": "[encoded data removed]",
      "text/plain": [
       "<Figure size 724.6x360 with 1 Axes>"
      ]
     },
     "metadata": {},
     "output_type": "display_data"
    }
   ],
   "source": [
    "#Transpose rows and columns\n",
    "df_transpose = top_10_advertisers.transpose()\n",
    "#Make advertisers the column names\n",
    "df_transpose.columns = df_transpose.iloc[0]\n",
    "df_transpose.drop(['Count', 'Advertiser'], inplace = True)\n",
    "#Add year column\n",
    "df_transpose['Year'] = [2018, 2019, 2020, 2021]\n",
    "\n",
    "df_transpose = df_transpose.astype(int)\n",
    "\n",
    "df_melt = df_transpose.melt('Year', var_name='Advertisers',  value_name='Number of Ads')\n",
    "g = sns.catplot(x=\"Year\", y=\"Number of Ads\", hue='Advertisers', data=df_melt, kind='point');\n",
    "plt.title('Top 10 Google Political Advertisers by Ad Counts per Year');"
   ]
  },
  {
   "cell_type": "markdown",
   "metadata": {},
   "source": [
    "***"
   ]
  },
  {
   "cell_type": "markdown",
   "metadata": {},
   "source": [
    "## Questions for Reviewers"
   ]
  },
  {
   "cell_type": "markdown",
   "metadata": {},
   "source": [
    " - How might we effectively create data visualizations using the wide ranging, often redundant observations in our dataframes?\n",
    " - How might we represent these binned ranges in order to create better visualizatons and more meaningful machine learning models?\n",
    " - What additional data visualizations might we produce for P3 that leverage tools we have learned in class? \n",
    " - What additional data visualizations might we produce for P3 that goes beyond what we have learned in class? \n",
    " - What types of supervised or unsupervised learning would work best to analyze our data going forward?\n",
    "\n"
   ]
  },
  {
   "cell_type": "code",
   "execution_count": null,
   "metadata": {},
   "outputs": [],
   "source": []
  }
 ],
 "metadata": {
  "kernelspec": {
   "display_name": "Python 3 (ipykernel)",
   "language": "python",
   "name": "python3"
  },
  "language_info": {
   "codemirror_mode": {
    "name": "ipython",
    "version": 3
   },
   "file_extension": ".py",
   "mimetype": "text/x-python",
   "name": "python",
   "nbconvert_exporter": "python",
   "pygments_lexer": "ipython3",
   "version": "3.8.2"
  }
 },
 "nbformat": 4,
 "nbformat_minor": 4
}
