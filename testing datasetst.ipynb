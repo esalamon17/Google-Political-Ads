{
 "cells": [
  {
   "cell_type": "markdown",
   "metadata": {},
   "source": [
    "# Info 2950 Project Phase II"
   ]
  },
  {
   "cell_type": "markdown",
   "metadata": {},
   "source": [
    "### Eliza Salamon, Laurel Prime, Melissa LaFountain\n",
    "***"
   ]
  },
  {
   "cell_type": "markdown",
   "metadata": {},
   "source": [
    "## Research Questions"
   ]
  },
  {
   "cell_type": "markdown",
   "metadata": {},
   "source": [
    " - How do different targeting attributes (e.g. age, gender, geo-targeting) affect ad type and ad exposure?\n",
    " - How are ads distributed geographically across the country?\n",
    " - How does ad spend affect impressions generated?"
   ]
  },
  {
   "cell_type": "markdown",
   "metadata": {},
   "source": [
    "## Data Collection and Cleaning"
   ]
  },
  {
   "cell_type": "markdown",
   "metadata": {},
   "source": [
    "Google data downloaded from https://transparencyreport.google.com/political-ads/region/US.\n",
    "Specific file used is google-political-ads-creative-stats.csv\n",
    "\n",
    "Zip Code data downloaded from http://federalgovernmentzipcodes.us/download.html"
   ]
  },
  {
   "cell_type": "code",
   "execution_count": 1,
   "metadata": {},
   "outputs": [],
   "source": [
    "import pandas as pd\n",
    "import numpy as np\n",
    "import matplotlib.pyplot as plt\n",
    "import datetime"
   ]
  },
  {
   "cell_type": "code",
   "execution_count": 2,
   "metadata": {},
   "outputs": [
    {
     "name": "stderr",
     "output_type": "stream",
     "text": [
      "/opt/anaconda3/lib/python3.8/site-packages/IPython/core/interactiveshell.py:3146: DtypeWarning: Columns (11) have mixed types.Specify dtype option on import or set low_memory=False.\n",
      "  has_raised = await self.run_ast_nodes(code_ast.body, cell_name,\n"
     ]
    },
    {
     "data": {
      "text/html": [
       "<div>\n",
       "<style scoped>\n",
       "    .dataframe tbody tr th:only-of-type {\n",
       "        vertical-align: middle;\n",
       "    }\n",
       "\n",
       "    .dataframe tbody tr th {\n",
       "        vertical-align: top;\n",
       "    }\n",
       "\n",
       "    .dataframe thead th {\n",
       "        text-align: right;\n",
       "    }\n",
       "</style>\n",
       "<table border=\"1\" class=\"dataframe\">\n",
       "  <thead>\n",
       "    <tr style=\"text-align: right;\">\n",
       "      <th></th>\n",
       "      <th>Ad_ID</th>\n",
       "      <th>Ad_URL</th>\n",
       "      <th>Ad_Type</th>\n",
       "      <th>Regions</th>\n",
       "      <th>Advertiser_ID</th>\n",
       "      <th>Advertiser_Name</th>\n",
       "      <th>Ad_Campaigns_List</th>\n",
       "      <th>Date_Range_Start</th>\n",
       "      <th>Date_Range_End</th>\n",
       "      <th>Num_of_Days</th>\n",
       "      <th>...</th>\n",
       "      <th>Spend_Range_Min_GBP</th>\n",
       "      <th>Spend_Range_Max_GBP</th>\n",
       "      <th>Spend_Range_Min_ILS</th>\n",
       "      <th>Spend_Range_Max_ILS</th>\n",
       "      <th>Spend_Range_Min_NZD</th>\n",
       "      <th>Spend_Range_Max_NZD</th>\n",
       "      <th>Spend_Range_Min_TWD</th>\n",
       "      <th>Spend_Range_Max_TWD</th>\n",
       "      <th>Spend_Range_Min_AUD</th>\n",
       "      <th>Spend_Range_Max_AUD</th>\n",
       "    </tr>\n",
       "  </thead>\n",
       "  <tbody>\n",
       "    <tr>\n",
       "      <th>0</th>\n",
       "      <td>CR104193501419274240</td>\n",
       "      <td>https://transparencyreport.google.com/politica...</td>\n",
       "      <td>Image</td>\n",
       "      <td>EU, IT</td>\n",
       "      <td>AR100125170957549568</td>\n",
       "      <td>Azione</td>\n",
       "      <td>NaN</td>\n",
       "      <td>2020-10-26</td>\n",
       "      <td>2020-11-25</td>\n",
       "      <td>31</td>\n",
       "      <td>...</td>\n",
       "      <td>0</td>\n",
       "      <td>50.0</td>\n",
       "      <td>0</td>\n",
       "      <td>250.0</td>\n",
       "      <td>0</td>\n",
       "      <td>200.0</td>\n",
       "      <td>0</td>\n",
       "      <td>3000.0</td>\n",
       "      <td>0</td>\n",
       "      <td>150.0</td>\n",
       "    </tr>\n",
       "    <tr>\n",
       "      <th>1</th>\n",
       "      <td>CR109957691127889920</td>\n",
       "      <td>https://transparencyreport.google.com/politica...</td>\n",
       "      <td>Video</td>\n",
       "      <td>EU, IT</td>\n",
       "      <td>AR100125170957549568</td>\n",
       "      <td>Azione</td>\n",
       "      <td>NaN</td>\n",
       "      <td>2020-12-02</td>\n",
       "      <td>2020-12-03</td>\n",
       "      <td>2</td>\n",
       "      <td>...</td>\n",
       "      <td>0</td>\n",
       "      <td>50.0</td>\n",
       "      <td>0</td>\n",
       "      <td>250.0</td>\n",
       "      <td>0</td>\n",
       "      <td>200.0</td>\n",
       "      <td>0</td>\n",
       "      <td>3000.0</td>\n",
       "      <td>0</td>\n",
       "      <td>150.0</td>\n",
       "    </tr>\n",
       "    <tr>\n",
       "      <th>2</th>\n",
       "      <td>CR111129083328331776</td>\n",
       "      <td>https://transparencyreport.google.com/politica...</td>\n",
       "      <td>Image</td>\n",
       "      <td>EU, IT</td>\n",
       "      <td>AR100125170957549568</td>\n",
       "      <td>Azione</td>\n",
       "      <td>NaN</td>\n",
       "      <td>2020-06-28</td>\n",
       "      <td>2020-09-03</td>\n",
       "      <td>35</td>\n",
       "      <td>...</td>\n",
       "      <td>500</td>\n",
       "      <td>25000.0</td>\n",
       "      <td>2500</td>\n",
       "      <td>125000.0</td>\n",
       "      <td>1500</td>\n",
       "      <td>75000.0</td>\n",
       "      <td>30000</td>\n",
       "      <td>1500000.0</td>\n",
       "      <td>1500</td>\n",
       "      <td>50000.0</td>\n",
       "    </tr>\n",
       "    <tr>\n",
       "      <th>3</th>\n",
       "      <td>CR112145169511350272</td>\n",
       "      <td>https://transparencyreport.google.com/politica...</td>\n",
       "      <td>Image</td>\n",
       "      <td>EU, IT</td>\n",
       "      <td>AR100125170957549568</td>\n",
       "      <td>Azione</td>\n",
       "      <td>NaN</td>\n",
       "      <td>2020-10-26</td>\n",
       "      <td>2020-11-02</td>\n",
       "      <td>8</td>\n",
       "      <td>...</td>\n",
       "      <td>0</td>\n",
       "      <td>50.0</td>\n",
       "      <td>0</td>\n",
       "      <td>250.0</td>\n",
       "      <td>0</td>\n",
       "      <td>200.0</td>\n",
       "      <td>0</td>\n",
       "      <td>3000.0</td>\n",
       "      <td>0</td>\n",
       "      <td>150.0</td>\n",
       "    </tr>\n",
       "    <tr>\n",
       "      <th>4</th>\n",
       "      <td>CR112255773509156864</td>\n",
       "      <td>https://transparencyreport.google.com/politica...</td>\n",
       "      <td>Image</td>\n",
       "      <td>EU, IT</td>\n",
       "      <td>AR100125170957549568</td>\n",
       "      <td>Azione</td>\n",
       "      <td>NaN</td>\n",
       "      <td>2021-01-28</td>\n",
       "      <td>2021-02-04</td>\n",
       "      <td>8</td>\n",
       "      <td>...</td>\n",
       "      <td>50</td>\n",
       "      <td>500.0</td>\n",
       "      <td>250</td>\n",
       "      <td>2500.0</td>\n",
       "      <td>200</td>\n",
       "      <td>1500.0</td>\n",
       "      <td>3000</td>\n",
       "      <td>30000.0</td>\n",
       "      <td>150</td>\n",
       "      <td>1500.0</td>\n",
       "    </tr>\n",
       "  </tbody>\n",
       "</table>\n",
       "<p>5 rows × 50 columns</p>\n",
       "</div>"
      ],
      "text/plain": [
       "                  Ad_ID                                             Ad_URL  \\\n",
       "0  CR104193501419274240  https://transparencyreport.google.com/politica...   \n",
       "1  CR109957691127889920  https://transparencyreport.google.com/politica...   \n",
       "2  CR111129083328331776  https://transparencyreport.google.com/politica...   \n",
       "3  CR112145169511350272  https://transparencyreport.google.com/politica...   \n",
       "4  CR112255773509156864  https://transparencyreport.google.com/politica...   \n",
       "\n",
       "  Ad_Type Regions         Advertiser_ID Advertiser_Name  Ad_Campaigns_List  \\\n",
       "0   Image  EU, IT  AR100125170957549568          Azione                NaN   \n",
       "1   Video  EU, IT  AR100125170957549568          Azione                NaN   \n",
       "2   Image  EU, IT  AR100125170957549568          Azione                NaN   \n",
       "3   Image  EU, IT  AR100125170957549568          Azione                NaN   \n",
       "4   Image  EU, IT  AR100125170957549568          Azione                NaN   \n",
       "\n",
       "  Date_Range_Start Date_Range_End  Num_of_Days  ... Spend_Range_Min_GBP  \\\n",
       "0       2020-10-26     2020-11-25           31  ...                   0   \n",
       "1       2020-12-02     2020-12-03            2  ...                   0   \n",
       "2       2020-06-28     2020-09-03           35  ...                 500   \n",
       "3       2020-10-26     2020-11-02            8  ...                   0   \n",
       "4       2021-01-28     2021-02-04            8  ...                  50   \n",
       "\n",
       "  Spend_Range_Max_GBP Spend_Range_Min_ILS Spend_Range_Max_ILS  \\\n",
       "0                50.0                   0               250.0   \n",
       "1                50.0                   0               250.0   \n",
       "2             25000.0                2500            125000.0   \n",
       "3                50.0                   0               250.0   \n",
       "4               500.0                 250              2500.0   \n",
       "\n",
       "  Spend_Range_Min_NZD Spend_Range_Max_NZD Spend_Range_Min_TWD  \\\n",
       "0                   0               200.0                   0   \n",
       "1                   0               200.0                   0   \n",
       "2                1500             75000.0               30000   \n",
       "3                   0               200.0                   0   \n",
       "4                 200              1500.0                3000   \n",
       "\n",
       "  Spend_Range_Max_TWD  Spend_Range_Min_AUD  Spend_Range_Max_AUD  \n",
       "0              3000.0                    0                150.0  \n",
       "1              3000.0                    0                150.0  \n",
       "2           1500000.0                 1500              50000.0  \n",
       "3              3000.0                    0                150.0  \n",
       "4             30000.0                  150               1500.0  \n",
       "\n",
       "[5 rows x 50 columns]"
      ]
     },
     "execution_count": 2,
     "metadata": {},
     "output_type": "execute_result"
    }
   ],
   "source": [
    "raw_data = pd.read_csv('google-political-ads-creative-stats.csv')\n",
    "raw_data.head()"
   ]
  },
  {
   "cell_type": "code",
   "execution_count": 3,
   "metadata": {},
   "outputs": [
    {
     "data": {
      "text/plain": [
       "Index(['Ad_ID', 'Ad_URL', 'Ad_Type', 'Regions', 'Advertiser_ID',\n",
       "       'Advertiser_Name', 'Ad_Campaigns_List', 'Date_Range_Start',\n",
       "       'Date_Range_End', 'Num_of_Days', 'Impressions', 'Spend_USD',\n",
       "       'First_Served_Timestamp', 'Last_Served_Timestamp', 'Age_Targeting',\n",
       "       'Gender_Targeting', 'Geo_Targeting_Included', 'Geo_Targeting_Excluded',\n",
       "       'Spend_Range_Min_USD', 'Spend_Range_Max_USD', 'Spend_Range_Min_EUR',\n",
       "       'Spend_Range_Max_EUR', 'Spend_Range_Min_INR', 'Spend_Range_Max_INR',\n",
       "       'Spend_Range_Min_BGN', 'Spend_Range_Max_BGN', 'Spend_Range_Min_HRK',\n",
       "       'Spend_Range_Max_HRK', 'Spend_Range_Min_CZK', 'Spend_Range_Max_CZK',\n",
       "       'Spend_Range_Min_DKK', 'Spend_Range_Max_DKK', 'Spend_Range_Min_HUF',\n",
       "       'Spend_Range_Max_HUF', 'Spend_Range_Min_PLN', 'Spend_Range_Max_PLN',\n",
       "       'Spend_Range_Min_RON', 'Spend_Range_Max_RON', 'Spend_Range_Min_SEK',\n",
       "       'Spend_Range_Max_SEK', 'Spend_Range_Min_GBP', 'Spend_Range_Max_GBP',\n",
       "       'Spend_Range_Min_ILS', 'Spend_Range_Max_ILS', 'Spend_Range_Min_NZD',\n",
       "       'Spend_Range_Max_NZD', 'Spend_Range_Min_TWD', 'Spend_Range_Max_TWD',\n",
       "       'Spend_Range_Min_AUD', 'Spend_Range_Max_AUD'],\n",
       "      dtype='object')"
      ]
     },
     "execution_count": 3,
     "metadata": {},
     "output_type": "execute_result"
    }
   ],
   "source": [
    "raw_data.columns"
   ]
  },
  {
   "cell_type": "code",
   "execution_count": null,
   "metadata": {},
   "outputs": [],
   "source": [
    "raw_data.dtypes"
   ]
  },
  {
   "cell_type": "code",
   "execution_count": 5,
   "metadata": {},
   "outputs": [
    {
     "data": {
      "text/plain": [
       "array([nan])"
      ]
     },
     "execution_count": 5,
     "metadata": {},
     "output_type": "execute_result"
    }
   ],
   "source": [
    "raw_data['Ad_Campaigns_List'].unique()"
   ]
  },
  {
   "cell_type": "markdown",
   "metadata": {},
   "source": [
    "Remove non US spending ranges, Ad_Id, Ad_URL, Advertiser_ID (not useful to us), specific timestamps (already has number of days with dates), and Ad_Campaigns_List. Additionally, limit regions of ads to only the United States."
   ]
  },
  {
   "cell_type": "code",
   "execution_count": 6,
   "metadata": {},
   "outputs": [],
   "source": [
    "columns_of_interest = ['Ad_Type', 'Regions', 'Advertiser_Name', 'Date_Range_Start',\n",
    "       'Date_Range_End', 'Num_of_Days', 'Impressions', 'Spend_USD','Age_Targeting',\n",
    "       'Gender_Targeting', 'Geo_Targeting_Included', 'Geo_Targeting_Excluded',\n",
    "       'Spend_Range_Min_USD', 'Spend_Range_Max_USD']\n",
    "\n",
    "raw_data = raw_data[columns_of_interest]\n",
    "raw_data = raw_data.loc[raw_data['Regions'] == 'US']"
   ]
  },
  {
   "cell_type": "markdown",
   "metadata": {},
   "source": [
    "Select ads that have a minimum cost of $1,000 so as to filter the data to more expensive and likely more impactful  ads"
   ]
  },
  {
   "cell_type": "code",
   "execution_count": 7,
   "metadata": {},
   "outputs": [
    {
     "name": "stdout",
     "output_type": "stream",
     "text": [
      "0         392518\n",
      "100       131844\n",
      "1000       79110\n",
      "50000       1261\n",
      "100000       857\n",
      "Name: Spend_Range_Min_USD, dtype: int64\n"
     ]
    }
   ],
   "source": [
    "print(raw_data['Spend_Range_Min_USD'].value_counts())\n",
    "raw_data = raw_data.loc[raw_data['Spend_Range_Min_USD'] >= 1000]"
   ]
  },
  {
   "cell_type": "markdown",
   "metadata": {},
   "source": [
    "Change date columns to datetime format"
   ]
  },
  {
   "cell_type": "code",
   "execution_count": 125,
   "metadata": {},
   "outputs": [],
   "source": [
    "raw_data.loc[:, 'Date_Range_Start'] = pd.to_datetime(raw_data['Date_Range_Start'])\n",
    "raw_data.loc[:, 'Date_Range_End'] = pd.to_datetime(raw_data['Date_Range_End'])"
   ]
  },
  {
   "cell_type": "code",
   "execution_count": 9,
   "metadata": {},
   "outputs": [],
   "source": [
    "raw_data.to_csv('export_dataframe.csv', index = False, header=True)"
   ]
  },
  {
   "cell_type": "code",
   "execution_count": 129,
   "metadata": {},
   "outputs": [
    {
     "data": {
      "text/html": [
       "<div>\n",
       "<style scoped>\n",
       "    .dataframe tbody tr th:only-of-type {\n",
       "        vertical-align: middle;\n",
       "    }\n",
       "\n",
       "    .dataframe tbody tr th {\n",
       "        vertical-align: top;\n",
       "    }\n",
       "\n",
       "    .dataframe thead th {\n",
       "        text-align: right;\n",
       "    }\n",
       "</style>\n",
       "<table border=\"1\" class=\"dataframe\">\n",
       "  <thead>\n",
       "    <tr style=\"text-align: right;\">\n",
       "      <th></th>\n",
       "      <th>Ad_Type</th>\n",
       "      <th>Regions</th>\n",
       "      <th>Advertiser_Name</th>\n",
       "      <th>Date_Range_Start</th>\n",
       "      <th>Date_Range_End</th>\n",
       "      <th>Num_of_Days</th>\n",
       "      <th>Impressions</th>\n",
       "      <th>Spend_USD</th>\n",
       "      <th>Age_Targeting</th>\n",
       "      <th>Gender_Targeting</th>\n",
       "      <th>Geo_Targeting_Included</th>\n",
       "      <th>Geo_Targeting_Excluded</th>\n",
       "      <th>Spend_Range_Min_USD</th>\n",
       "      <th>Spend_Range_Max_USD</th>\n",
       "    </tr>\n",
       "  </thead>\n",
       "  <tbody>\n",
       "    <tr>\n",
       "      <th>0</th>\n",
       "      <td>Text</td>\n",
       "      <td>US</td>\n",
       "      <td>ALEX FOR AZ</td>\n",
       "      <td>2020-07-08</td>\n",
       "      <td>2020-08-04</td>\n",
       "      <td>28</td>\n",
       "      <td>≤ 10k</td>\n",
       "      <td>1k-50k</td>\n",
       "      <td>Not targeted</td>\n",
       "      <td>Not targeted</td>\n",
       "      <td>85054, 85207, 85215, 85250, 85251, 85253, 8525...</td>\n",
       "      <td>Not targeted</td>\n",
       "      <td>1000</td>\n",
       "      <td>50000.0</td>\n",
       "    </tr>\n",
       "    <tr>\n",
       "      <th>1</th>\n",
       "      <td>Text</td>\n",
       "      <td>US</td>\n",
       "      <td>ALEX FOR AZ</td>\n",
       "      <td>2020-07-07</td>\n",
       "      <td>2020-08-04</td>\n",
       "      <td>29</td>\n",
       "      <td>≤ 10k</td>\n",
       "      <td>1k-50k</td>\n",
       "      <td>Not targeted</td>\n",
       "      <td>Not targeted</td>\n",
       "      <td>85054, 85207, 85215, 85250, 85251, 85253, 8525...</td>\n",
       "      <td>Not targeted</td>\n",
       "      <td>1000</td>\n",
       "      <td>50000.0</td>\n",
       "    </tr>\n",
       "    <tr>\n",
       "      <th>2</th>\n",
       "      <td>Text</td>\n",
       "      <td>US</td>\n",
       "      <td>CITIZENS FOR JD WOOTEN</td>\n",
       "      <td>2020-08-28</td>\n",
       "      <td>2020-11-03</td>\n",
       "      <td>64</td>\n",
       "      <td>10k-100k</td>\n",
       "      <td>1k-50k</td>\n",
       "      <td>Not targeted</td>\n",
       "      <td>Not targeted</td>\n",
       "      <td>27215, 27217, 27233, 27244, 27249, 27253, 2725...</td>\n",
       "      <td>Not targeted</td>\n",
       "      <td>1000</td>\n",
       "      <td>50000.0</td>\n",
       "    </tr>\n",
       "    <tr>\n",
       "      <th>3</th>\n",
       "      <td>Video</td>\n",
       "      <td>US</td>\n",
       "      <td>CITIZENS FOR JD WOOTEN</td>\n",
       "      <td>2020-10-28</td>\n",
       "      <td>2020-11-03</td>\n",
       "      <td>7</td>\n",
       "      <td>100k-1M</td>\n",
       "      <td>1k-50k</td>\n",
       "      <td>18-24, 25-34, 35-44, 45-54, 55-64, ≥65, Unknow...</td>\n",
       "      <td>Male, Female, Unknown gender</td>\n",
       "      <td>27215, 27217, 27233, 27244, 27249, 27253, 2725...</td>\n",
       "      <td>Not targeted</td>\n",
       "      <td>1000</td>\n",
       "      <td>50000.0</td>\n",
       "    </tr>\n",
       "    <tr>\n",
       "      <th>4</th>\n",
       "      <td>Video</td>\n",
       "      <td>US</td>\n",
       "      <td>CITIZENS FOR JD WOOTEN</td>\n",
       "      <td>2020-10-26</td>\n",
       "      <td>2020-11-03</td>\n",
       "      <td>9</td>\n",
       "      <td>10k-100k</td>\n",
       "      <td>1k-50k</td>\n",
       "      <td>18-24, 25-34, 35-44, 45-54, 55-64, ≥65, Unknow...</td>\n",
       "      <td>Male, Female, Unknown gender</td>\n",
       "      <td>27215, 27217, 27233, 27244, 27249, 27253, 2725...</td>\n",
       "      <td>Not targeted</td>\n",
       "      <td>1000</td>\n",
       "      <td>50000.0</td>\n",
       "    </tr>\n",
       "  </tbody>\n",
       "</table>\n",
       "</div>"
      ],
      "text/plain": [
       "  Ad_Type Regions         Advertiser_Name Date_Range_Start Date_Range_End  \\\n",
       "0    Text      US             ALEX FOR AZ       2020-07-08     2020-08-04   \n",
       "1    Text      US             ALEX FOR AZ       2020-07-07     2020-08-04   \n",
       "2    Text      US  CITIZENS FOR JD WOOTEN       2020-08-28     2020-11-03   \n",
       "3   Video      US  CITIZENS FOR JD WOOTEN       2020-10-28     2020-11-03   \n",
       "4   Video      US  CITIZENS FOR JD WOOTEN       2020-10-26     2020-11-03   \n",
       "\n",
       "   Num_of_Days Impressions Spend_USD  \\\n",
       "0           28       ≤ 10k    1k-50k   \n",
       "1           29       ≤ 10k    1k-50k   \n",
       "2           64    10k-100k    1k-50k   \n",
       "3            7     100k-1M    1k-50k   \n",
       "4            9    10k-100k    1k-50k   \n",
       "\n",
       "                                       Age_Targeting  \\\n",
       "0                                       Not targeted   \n",
       "1                                       Not targeted   \n",
       "2                                       Not targeted   \n",
       "3  18-24, 25-34, 35-44, 45-54, 55-64, ≥65, Unknow...   \n",
       "4  18-24, 25-34, 35-44, 45-54, 55-64, ≥65, Unknow...   \n",
       "\n",
       "               Gender_Targeting  \\\n",
       "0                  Not targeted   \n",
       "1                  Not targeted   \n",
       "2                  Not targeted   \n",
       "3  Male, Female, Unknown gender   \n",
       "4  Male, Female, Unknown gender   \n",
       "\n",
       "                              Geo_Targeting_Included Geo_Targeting_Excluded  \\\n",
       "0  85054, 85207, 85215, 85250, 85251, 85253, 8525...           Not targeted   \n",
       "1  85054, 85207, 85215, 85250, 85251, 85253, 8525...           Not targeted   \n",
       "2  27215, 27217, 27233, 27244, 27249, 27253, 2725...           Not targeted   \n",
       "3  27215, 27217, 27233, 27244, 27249, 27253, 2725...           Not targeted   \n",
       "4  27215, 27217, 27233, 27244, 27249, 27253, 2725...           Not targeted   \n",
       "\n",
       "   Spend_Range_Min_USD  Spend_Range_Max_USD  \n",
       "0                 1000              50000.0  \n",
       "1                 1000              50000.0  \n",
       "2                 1000              50000.0  \n",
       "3                 1000              50000.0  \n",
       "4                 1000              50000.0  "
      ]
     },
     "execution_count": 129,
     "metadata": {},
     "output_type": "execute_result"
    }
   ],
   "source": [
    "clean_data = pd.read_csv('export_dataframe.csv')\n",
    "clean_data.head()"
   ]
  },
  {
   "cell_type": "code",
   "execution_count": 11,
   "metadata": {},
   "outputs": [
    {
     "data": {
      "text/html": [
       "<div>\n",
       "<style scoped>\n",
       "    .dataframe tbody tr th:only-of-type {\n",
       "        vertical-align: middle;\n",
       "    }\n",
       "\n",
       "    .dataframe tbody tr th {\n",
       "        vertical-align: top;\n",
       "    }\n",
       "\n",
       "    .dataframe thead th {\n",
       "        text-align: right;\n",
       "    }\n",
       "</style>\n",
       "<table border=\"1\" class=\"dataframe\">\n",
       "  <thead>\n",
       "    <tr style=\"text-align: right;\">\n",
       "      <th></th>\n",
       "      <th>Zipcode</th>\n",
       "      <th>ZipCodeType</th>\n",
       "      <th>City</th>\n",
       "      <th>State</th>\n",
       "      <th>LocationType</th>\n",
       "      <th>Lat</th>\n",
       "      <th>Long</th>\n",
       "      <th>Location</th>\n",
       "      <th>Decommisioned</th>\n",
       "      <th>TaxReturnsFiled</th>\n",
       "      <th>EstimatedPopulation</th>\n",
       "      <th>TotalWages</th>\n",
       "    </tr>\n",
       "  </thead>\n",
       "  <tbody>\n",
       "    <tr>\n",
       "      <th>0</th>\n",
       "      <td>705</td>\n",
       "      <td>STANDARD</td>\n",
       "      <td>AIBONITO</td>\n",
       "      <td>PR</td>\n",
       "      <td>PRIMARY</td>\n",
       "      <td>18.14</td>\n",
       "      <td>-66.26</td>\n",
       "      <td>NA-US-PR-AIBONITO</td>\n",
       "      <td>False</td>\n",
       "      <td>NaN</td>\n",
       "      <td>NaN</td>\n",
       "      <td>NaN</td>\n",
       "    </tr>\n",
       "    <tr>\n",
       "      <th>1</th>\n",
       "      <td>610</td>\n",
       "      <td>STANDARD</td>\n",
       "      <td>ANASCO</td>\n",
       "      <td>PR</td>\n",
       "      <td>PRIMARY</td>\n",
       "      <td>18.28</td>\n",
       "      <td>-67.14</td>\n",
       "      <td>NA-US-PR-ANASCO</td>\n",
       "      <td>False</td>\n",
       "      <td>NaN</td>\n",
       "      <td>NaN</td>\n",
       "      <td>NaN</td>\n",
       "    </tr>\n",
       "    <tr>\n",
       "      <th>2</th>\n",
       "      <td>611</td>\n",
       "      <td>PO BOX</td>\n",
       "      <td>ANGELES</td>\n",
       "      <td>PR</td>\n",
       "      <td>PRIMARY</td>\n",
       "      <td>18.28</td>\n",
       "      <td>-66.79</td>\n",
       "      <td>NA-US-PR-ANGELES</td>\n",
       "      <td>False</td>\n",
       "      <td>NaN</td>\n",
       "      <td>NaN</td>\n",
       "      <td>NaN</td>\n",
       "    </tr>\n",
       "    <tr>\n",
       "      <th>3</th>\n",
       "      <td>612</td>\n",
       "      <td>STANDARD</td>\n",
       "      <td>ARECIBO</td>\n",
       "      <td>PR</td>\n",
       "      <td>PRIMARY</td>\n",
       "      <td>18.45</td>\n",
       "      <td>-66.73</td>\n",
       "      <td>NA-US-PR-ARECIBO</td>\n",
       "      <td>False</td>\n",
       "      <td>NaN</td>\n",
       "      <td>NaN</td>\n",
       "      <td>NaN</td>\n",
       "    </tr>\n",
       "    <tr>\n",
       "      <th>4</th>\n",
       "      <td>601</td>\n",
       "      <td>STANDARD</td>\n",
       "      <td>ADJUNTAS</td>\n",
       "      <td>PR</td>\n",
       "      <td>PRIMARY</td>\n",
       "      <td>18.16</td>\n",
       "      <td>-66.72</td>\n",
       "      <td>NA-US-PR-ADJUNTAS</td>\n",
       "      <td>False</td>\n",
       "      <td>NaN</td>\n",
       "      <td>NaN</td>\n",
       "      <td>NaN</td>\n",
       "    </tr>\n",
       "  </tbody>\n",
       "</table>\n",
       "</div>"
      ],
      "text/plain": [
       "   Zipcode ZipCodeType      City State LocationType    Lat   Long  \\\n",
       "0      705    STANDARD  AIBONITO    PR      PRIMARY  18.14 -66.26   \n",
       "1      610    STANDARD    ANASCO    PR      PRIMARY  18.28 -67.14   \n",
       "2      611      PO BOX   ANGELES    PR      PRIMARY  18.28 -66.79   \n",
       "3      612    STANDARD   ARECIBO    PR      PRIMARY  18.45 -66.73   \n",
       "4      601    STANDARD  ADJUNTAS    PR      PRIMARY  18.16 -66.72   \n",
       "\n",
       "            Location  Decommisioned  TaxReturnsFiled  EstimatedPopulation  \\\n",
       "0  NA-US-PR-AIBONITO          False              NaN                  NaN   \n",
       "1    NA-US-PR-ANASCO          False              NaN                  NaN   \n",
       "2   NA-US-PR-ANGELES          False              NaN                  NaN   \n",
       "3   NA-US-PR-ARECIBO          False              NaN                  NaN   \n",
       "4  NA-US-PR-ADJUNTAS          False              NaN                  NaN   \n",
       "\n",
       "   TotalWages  \n",
       "0         NaN  \n",
       "1         NaN  \n",
       "2         NaN  \n",
       "3         NaN  \n",
       "4         NaN  "
      ]
     },
     "execution_count": 11,
     "metadata": {},
     "output_type": "execute_result"
    }
   ],
   "source": [
    "zips =  pd.read_csv('free-zipcode-database-Primary.csv')\n",
    "zips.head()"
   ]
  },
  {
   "cell_type": "code",
   "execution_count": 12,
   "metadata": {},
   "outputs": [
    {
     "data": {
      "text/plain": [
       "array(['PR', 'NJ', 'NY', 'AE', 'VI', 'MA', 'ME', 'NH', 'VT', 'CT', 'RI',\n",
       "       'DE', 'PA', 'WV', 'KY', 'TN', 'VA', 'GA', 'IN', 'OH', 'IL', 'IA',\n",
       "       'MN', 'WI', 'MT', 'ND', 'SD', 'KS', 'MO', 'NE', 'CO', 'WY', 'ID',\n",
       "       'UT', 'AZ', 'NM', 'TX', 'CA', 'NV', 'OR', 'WA', 'AK', 'GU', 'HI',\n",
       "       'AS', 'PW', 'FM', 'MP', 'MH', 'FL', 'SC', 'AL', 'MS', 'LA', 'AR',\n",
       "       'OK', 'MI', 'DC', 'MD', 'NC', 'AA', 'AP'], dtype=object)"
      ]
     },
     "execution_count": 12,
     "metadata": {},
     "output_type": "execute_result"
    }
   ],
   "source": [
    "zips['State'].unique()"
   ]
  },
  {
   "cell_type": "code",
   "execution_count": 13,
   "metadata": {},
   "outputs": [
    {
     "data": {
      "text/plain": [
       "str"
      ]
     },
     "execution_count": 13,
     "metadata": {},
     "output_type": "execute_result"
    }
   ],
   "source": [
    "type(clean_data.loc[0, 'Geo_Targeting_Included'])"
   ]
  },
  {
   "cell_type": "code",
   "execution_count": 14,
   "metadata": {},
   "outputs": [],
   "source": [
    "list_zips = [item.split(', ') for item in clean_data['Geo_Targeting_Included']]"
   ]
  },
  {
   "cell_type": "code",
   "execution_count": null,
   "metadata": {},
   "outputs": [],
   "source": [
    "#list for new column\n",
    "zip_column = []\n",
    "#loop through geographic targetings\n",
    "for x in range(len(list_zips)):\n",
    "    if(x%5000 == 0):\n",
    "        #track loop progress\n",
    "        print(x)\n",
    "    list_of_zips = []\n",
    "    for zip in list_zips[x]:\n",
    "        if zip.isdigit():\n",
    "            #find numeric zip codes from the zipcode database, and save to nested list\n",
    "            int_zip = int(zip)\n",
    "            zips_item = zips.loc[zips['Zipcode'] == int_zip]\n",
    "            if(len(zips_item) == 1):\n",
    "                list_of_zips.append(zips_item['City'].item().capitalize())\n",
    "        else:\n",
    "            list_of_zips.append(zip)\n",
    "    #append list to column list\n",
    "    zip_column.append(set(list_of_zips))"
   ]
  },
  {
   "cell_type": "code",
   "execution_count": 24,
   "metadata": {},
   "outputs": [
    {
     "data": {
      "text/html": [
       "<div>\n",
       "<style scoped>\n",
       "    .dataframe tbody tr th:only-of-type {\n",
       "        vertical-align: middle;\n",
       "    }\n",
       "\n",
       "    .dataframe tbody tr th {\n",
       "        vertical-align: top;\n",
       "    }\n",
       "\n",
       "    .dataframe thead th {\n",
       "        text-align: right;\n",
       "    }\n",
       "</style>\n",
       "<table border=\"1\" class=\"dataframe\">\n",
       "  <thead>\n",
       "    <tr style=\"text-align: right;\">\n",
       "      <th></th>\n",
       "      <th>Ad_Type</th>\n",
       "      <th>Regions</th>\n",
       "      <th>Advertiser_Name</th>\n",
       "      <th>Date_Range_Start</th>\n",
       "      <th>Date_Range_End</th>\n",
       "      <th>Num_of_Days</th>\n",
       "      <th>Impressions</th>\n",
       "      <th>Spend_USD</th>\n",
       "      <th>Age_Targeting</th>\n",
       "      <th>Gender_Targeting</th>\n",
       "      <th>Geo_Targeting_Included</th>\n",
       "      <th>Geo_Targeting_Excluded</th>\n",
       "      <th>Spend_Range_Min_USD</th>\n",
       "      <th>Spend_Range_Max_USD</th>\n",
       "      <th>Areas_Targeted</th>\n",
       "    </tr>\n",
       "  </thead>\n",
       "  <tbody>\n",
       "    <tr>\n",
       "      <th>0</th>\n",
       "      <td>Text</td>\n",
       "      <td>US</td>\n",
       "      <td>ALEX FOR AZ</td>\n",
       "      <td>2020-07-08</td>\n",
       "      <td>2020-08-04</td>\n",
       "      <td>28</td>\n",
       "      <td>≤ 10k</td>\n",
       "      <td>1k-50k</td>\n",
       "      <td>Not targeted</td>\n",
       "      <td>Not targeted</td>\n",
       "      <td>85054, 85207, 85215, 85250, 85251, 85253, 8525...</td>\n",
       "      <td>Not targeted</td>\n",
       "      <td>1000</td>\n",
       "      <td>50000.0</td>\n",
       "      <td>{Cave creek, Phoenix, Fort mcdowell, Scottsdal...</td>\n",
       "    </tr>\n",
       "    <tr>\n",
       "      <th>1</th>\n",
       "      <td>Text</td>\n",
       "      <td>US</td>\n",
       "      <td>ALEX FOR AZ</td>\n",
       "      <td>2020-07-07</td>\n",
       "      <td>2020-08-04</td>\n",
       "      <td>29</td>\n",
       "      <td>≤ 10k</td>\n",
       "      <td>1k-50k</td>\n",
       "      <td>Not targeted</td>\n",
       "      <td>Not targeted</td>\n",
       "      <td>85054, 85207, 85215, 85250, 85251, 85253, 8525...</td>\n",
       "      <td>Not targeted</td>\n",
       "      <td>1000</td>\n",
       "      <td>50000.0</td>\n",
       "      <td>{Cave creek, Phoenix, Fort mcdowell, Scottsdal...</td>\n",
       "    </tr>\n",
       "    <tr>\n",
       "      <th>2</th>\n",
       "      <td>Text</td>\n",
       "      <td>US</td>\n",
       "      <td>CITIZENS FOR JD WOOTEN</td>\n",
       "      <td>2020-08-28</td>\n",
       "      <td>2020-11-03</td>\n",
       "      <td>64</td>\n",
       "      <td>10k-100k</td>\n",
       "      <td>1k-50k</td>\n",
       "      <td>Not targeted</td>\n",
       "      <td>Not targeted</td>\n",
       "      <td>27215, 27217, 27233, 27244, 27249, 27253, 2725...</td>\n",
       "      <td>Not targeted</td>\n",
       "      <td>1000</td>\n",
       "      <td>50000.0</td>\n",
       "      <td>{Julian, Snow camp, Greensboro, Graham, Climax...</td>\n",
       "    </tr>\n",
       "    <tr>\n",
       "      <th>3</th>\n",
       "      <td>Video</td>\n",
       "      <td>US</td>\n",
       "      <td>CITIZENS FOR JD WOOTEN</td>\n",
       "      <td>2020-10-28</td>\n",
       "      <td>2020-11-03</td>\n",
       "      <td>7</td>\n",
       "      <td>100k-1M</td>\n",
       "      <td>1k-50k</td>\n",
       "      <td>18-24, 25-34, 35-44, 45-54, 55-64, ≥65, Unknow...</td>\n",
       "      <td>Male, Female, Unknown gender</td>\n",
       "      <td>27215, 27217, 27233, 27244, 27249, 27253, 2725...</td>\n",
       "      <td>Not targeted</td>\n",
       "      <td>1000</td>\n",
       "      <td>50000.0</td>\n",
       "      <td>{Julian, Snow camp, Greensboro, Graham, Climax...</td>\n",
       "    </tr>\n",
       "    <tr>\n",
       "      <th>4</th>\n",
       "      <td>Video</td>\n",
       "      <td>US</td>\n",
       "      <td>CITIZENS FOR JD WOOTEN</td>\n",
       "      <td>2020-10-26</td>\n",
       "      <td>2020-11-03</td>\n",
       "      <td>9</td>\n",
       "      <td>10k-100k</td>\n",
       "      <td>1k-50k</td>\n",
       "      <td>18-24, 25-34, 35-44, 45-54, 55-64, ≥65, Unknow...</td>\n",
       "      <td>Male, Female, Unknown gender</td>\n",
       "      <td>27215, 27217, 27233, 27244, 27249, 27253, 2725...</td>\n",
       "      <td>Not targeted</td>\n",
       "      <td>1000</td>\n",
       "      <td>50000.0</td>\n",
       "      <td>{Julian, Snow camp, Greensboro, Graham, Climax...</td>\n",
       "    </tr>\n",
       "  </tbody>\n",
       "</table>\n",
       "</div>"
      ],
      "text/plain": [
       "  Ad_Type Regions         Advertiser_Name Date_Range_Start Date_Range_End  \\\n",
       "0    Text      US             ALEX FOR AZ       2020-07-08     2020-08-04   \n",
       "1    Text      US             ALEX FOR AZ       2020-07-07     2020-08-04   \n",
       "2    Text      US  CITIZENS FOR JD WOOTEN       2020-08-28     2020-11-03   \n",
       "3   Video      US  CITIZENS FOR JD WOOTEN       2020-10-28     2020-11-03   \n",
       "4   Video      US  CITIZENS FOR JD WOOTEN       2020-10-26     2020-11-03   \n",
       "\n",
       "   Num_of_Days Impressions Spend_USD  \\\n",
       "0           28       ≤ 10k    1k-50k   \n",
       "1           29       ≤ 10k    1k-50k   \n",
       "2           64    10k-100k    1k-50k   \n",
       "3            7     100k-1M    1k-50k   \n",
       "4            9    10k-100k    1k-50k   \n",
       "\n",
       "                                       Age_Targeting  \\\n",
       "0                                       Not targeted   \n",
       "1                                       Not targeted   \n",
       "2                                       Not targeted   \n",
       "3  18-24, 25-34, 35-44, 45-54, 55-64, ≥65, Unknow...   \n",
       "4  18-24, 25-34, 35-44, 45-54, 55-64, ≥65, Unknow...   \n",
       "\n",
       "               Gender_Targeting  \\\n",
       "0                  Not targeted   \n",
       "1                  Not targeted   \n",
       "2                  Not targeted   \n",
       "3  Male, Female, Unknown gender   \n",
       "4  Male, Female, Unknown gender   \n",
       "\n",
       "                              Geo_Targeting_Included Geo_Targeting_Excluded  \\\n",
       "0  85054, 85207, 85215, 85250, 85251, 85253, 8525...           Not targeted   \n",
       "1  85054, 85207, 85215, 85250, 85251, 85253, 8525...           Not targeted   \n",
       "2  27215, 27217, 27233, 27244, 27249, 27253, 2725...           Not targeted   \n",
       "3  27215, 27217, 27233, 27244, 27249, 27253, 2725...           Not targeted   \n",
       "4  27215, 27217, 27233, 27244, 27249, 27253, 2725...           Not targeted   \n",
       "\n",
       "   Spend_Range_Min_USD  Spend_Range_Max_USD  \\\n",
       "0                 1000              50000.0   \n",
       "1                 1000              50000.0   \n",
       "2                 1000              50000.0   \n",
       "3                 1000              50000.0   \n",
       "4                 1000              50000.0   \n",
       "\n",
       "                                      Areas_Targeted  \n",
       "0  {Cave creek, Phoenix, Fort mcdowell, Scottsdal...  \n",
       "1  {Cave creek, Phoenix, Fort mcdowell, Scottsdal...  \n",
       "2  {Julian, Snow camp, Greensboro, Graham, Climax...  \n",
       "3  {Julian, Snow camp, Greensboro, Graham, Climax...  \n",
       "4  {Julian, Snow camp, Greensboro, Graham, Climax...  "
      ]
     },
     "execution_count": 24,
     "metadata": {},
     "output_type": "execute_result"
    }
   ],
   "source": [
    "clean_data['Areas_Targeted'] = zip_column\n",
    "clean_data.head()"
   ]
  },
  {
   "cell_type": "code",
   "execution_count": 44,
   "metadata": {},
   "outputs": [
    {
     "name": "stdout",
     "output_type": "stream",
     "text": [
      "Video    55847\n",
      "Text     16602\n",
      "Image     8779\n",
      "Name: Ad_Type, dtype: int64\n",
      "\n",
      "\n",
      "Not targeted                                                36235\n",
      "18-24, 25-34, 35-44, 45-54, 55-64, ≥65, Unknown age         19822\n",
      "18-24, 25-34, 35-44, 45-54, 55-64, ≥65, Unknown age, ≤18    19333\n",
      "18-24, 25-34, 35-44, 45-54, 55-64, ≥65                       2775\n",
      "35-44, 45-54, 55-64, ≥65                                     1181\n",
      "18-24, 25-34                                                  279\n",
      "45-54, 55-64, ≥65                                             236\n",
      "35-44, 45-54, 55-64, ≥65, Unknown age                         230\n",
      "25-34, 35-44, 45-54, 55-64, ≥65                               211\n",
      "18-24, 25-34, 35-44, 45-54                                    183\n",
      "18-24, 25-34, 35-44                                           121\n",
      "35-44                                                         102\n",
      "25-34                                                          81\n",
      "18-24, 25-34, 55-64, ≥65, Unknown age                          60\n",
      "55-64, ≥65                                                     54\n",
      "25-34, 35-44, 45-54                                            40\n",
      "35-44, 45-54                                                   37\n",
      "1                                                              35\n",
      "18-24, 25-34, 35-44, 45-54, 55-64                              31\n",
      "18-24, 25-34, 35-44, 45-54, Unknown age                        28\n",
      "35-44, 45-54, 55-64                                            27\n",
      "≥65                                                            24\n",
      "45-54, 55-64, ≥65, Unknown age                                 23\n",
      "Unknown age                                                    21\n",
      "18-24, 35-44, 45-54, 55-64, ≥65, Unknown age                   17\n",
      "55-64, ≥65, Unknown age                                        15\n",
      "55-64                                                          13\n",
      "45-54, 55-64                                                   11\n",
      "18-24, 25-34, 45-54                                             9\n",
      "18-24, 25-34, 45-54, 55-64, ≥65, Unknown age                    7\n",
      "18-24                                                           6\n",
      "25-34, 35-44, 45-54, 55-64                                      5\n",
      "25-34, 35-44                                                    4\n",
      "25-34, 35-44, 45-54, 55-64, ≥65, Unknown age                    3\n",
      "18-24, Unknown age                                              1\n",
      "18-24, 25-34, 35-44, Unknown age                                1\n",
      "45-54, 55-64, Unknown age                                       1\n",
      "25-34, Unknown age                                              1\n",
      "Name: Age_Targeting, dtype: int64\n",
      "\n",
      "\n",
      "Not targeted                    43915\n",
      "Male, Female, Unknown gender    35481\n",
      "Male, Female                      886\n",
      "Female                            704\n",
      "Male                              143\n",
      "Female, Unknown gender             53\n",
      "Male, Unknown gender               45\n",
      "Unknown gender                      1\n",
      "Name: Gender_Targeting, dtype: int64\n"
     ]
    }
   ],
   "source": [
    "print(clean_data['Ad_Type'].value_counts())\n",
    "print('\\n')\n",
    "print(clean_data['Age_Targeting'].value_counts())\n",
    "print('\\n')\n",
    "print(clean_data['Gender_Targeting'].value_counts())"
   ]
  },
  {
   "cell_type": "code",
   "execution_count": 62,
   "metadata": {},
   "outputs": [
    {
     "data": {
      "text/html": [
       "<div>\n",
       "<style scoped>\n",
       "    .dataframe tbody tr th:only-of-type {\n",
       "        vertical-align: middle;\n",
       "    }\n",
       "\n",
       "    .dataframe tbody tr th {\n",
       "        vertical-align: top;\n",
       "    }\n",
       "\n",
       "    .dataframe thead th {\n",
       "        text-align: right;\n",
       "    }\n",
       "</style>\n",
       "<table border=\"1\" class=\"dataframe\">\n",
       "  <thead>\n",
       "    <tr style=\"text-align: right;\">\n",
       "      <th></th>\n",
       "      <th>Ad_Type_Code</th>\n",
       "      <th>Ad_Type</th>\n",
       "    </tr>\n",
       "  </thead>\n",
       "  <tbody>\n",
       "    <tr>\n",
       "      <th>0</th>\n",
       "      <td>1</td>\n",
       "      <td>Video</td>\n",
       "    </tr>\n",
       "    <tr>\n",
       "      <th>1</th>\n",
       "      <td>2</td>\n",
       "      <td>Text</td>\n",
       "    </tr>\n",
       "    <tr>\n",
       "      <th>2</th>\n",
       "      <td>3</td>\n",
       "      <td>Image</td>\n",
       "    </tr>\n",
       "  </tbody>\n",
       "</table>\n",
       "</div>"
      ],
      "text/plain": [
       "   Ad_Type_Code Ad_Type\n",
       "0             1   Video\n",
       "1             2    Text\n",
       "2             3   Image"
      ]
     },
     "execution_count": 62,
     "metadata": {},
     "output_type": "execute_result"
    }
   ],
   "source": [
    "ad_types = pd.DataFrame({'Ad_Type_Code' : [1, 2, 3], 'Ad_Type' : ['Video', 'Text', 'Image']})\n",
    "ad_types.head()"
   ]
  },
  {
   "cell_type": "code",
   "execution_count": 63,
   "metadata": {},
   "outputs": [],
   "source": [
    "google_data = pd.merge(clean_data, ad_types, on = 'Ad_Type')"
   ]
  },
  {
   "cell_type": "code",
   "execution_count": 64,
   "metadata": {},
   "outputs": [
    {
     "data": {
      "text/plain": [
       "array(['≤ 10k', '10k-100k', '100k-1M', '1M-10M', '> 10M'], dtype=object)"
      ]
     },
     "execution_count": 64,
     "metadata": {},
     "output_type": "execute_result"
    }
   ],
   "source": [
    "google_data['Impressions'].unique()"
   ]
  },
  {
   "cell_type": "code",
   "execution_count": 126,
   "metadata": {},
   "outputs": [
    {
     "data": {
      "text/plain": [
       "Ad_Type                    object\n",
       "Regions                    object\n",
       "Advertiser_Name            object\n",
       "Date_Range_Start           object\n",
       "Date_Range_End             object\n",
       "Num_of_Days               float64\n",
       "Impressions                object\n",
       "Spend_USD                  object\n",
       "Age_Targeting              object\n",
       "Gender_Targeting           object\n",
       "Geo_Targeting_Included     object\n",
       "Geo_Targeting_Excluded     object\n",
       "Spend_Range_Min_USD       float64\n",
       "Spend_Range_Max_USD       float64\n",
       "Areas_Targeted             object\n",
       "Ad_Type_Code                int64\n",
       "Impression_Type             int64\n",
       "dtype: object"
      ]
     },
     "execution_count": 126,
     "metadata": {},
     "output_type": "execute_result"
    }
   ],
   "source": [
    "impression_types = pd.DataFrame({'Impression_Type' : [1, 2, 3, 4, 5], 'Impressions' : ['≤ 10k', '10k-100k', '100k-1M', '1M-10M', '> 10M']})\n",
    "google_data2 = pd.merge(google_data, impression_types, on = 'Impressions')"
   ]
  },
  {
   "cell_type": "code",
   "execution_count": 66,
   "metadata": {},
   "outputs": [],
   "source": [
    "google_data2.to_csv('final_dataframe.csv', index = False, header=True)"
   ]
  },
  {
   "cell_type": "markdown",
   "metadata": {},
   "source": [
    "## Data Description"
   ]
  },
  {
   "cell_type": "markdown",
   "metadata": {},
   "source": [
    "In doc"
   ]
  },
  {
   "cell_type": "markdown",
   "metadata": {},
   "source": [
    "## Data Limitations"
   ]
  },
  {
   "cell_type": "markdown",
   "metadata": {},
   "source": [
    "Mel is doing"
   ]
  },
  {
   "cell_type": "markdown",
   "metadata": {},
   "source": [
    "## Exploratory Data Analysis"
   ]
  },
  {
   "cell_type": "markdown",
   "metadata": {},
   "source": [
    "graphs, correlations, etc"
   ]
  },
  {
   "cell_type": "code",
   "execution_count": 190,
   "metadata": {},
   "outputs": [],
   "source": [
    "import seaborn as sns\n",
    "plt.rcParams['figure.figsize'] = (12.0, 8.0)\n",
    "data = pd.read_csv('final_dataframe.csv')"
   ]
  },
  {
   "cell_type": "code",
   "execution_count": 191,
   "metadata": {},
   "outputs": [
    {
     "data": {
      "image/png": "[encoded data removed]",
      "text/plain": [
       "<Figure size 427.125x360 with 1 Axes>"
      ]
     },
     "metadata": {
      "needs_background": "light"
     },
     "output_type": "display_data"
    }
   ],
   "source": [
    "p = sns.displot(x = 'Num_of_Days', data = data, binwidth = 30, hue = 'Ad_Type');\n",
    "plt.xlabel('Number of Days Ad Was Run');\n",
    "p._legend.set_title('Ad Type')"
   ]
  },
  {
   "cell_type": "markdown",
   "metadata": {},
   "source": [
    "#### There are some large outliers, so just take up to the 90th percentile of values"
   ]
  },
  {
   "cell_type": "code",
   "execution_count": 192,
   "metadata": {},
   "outputs": [
    {
     "data": {
      "image/png": "[encoded data removed]",
      "text/plain": [
       "<Figure size 427.125x360 with 1 Axes>"
      ]
     },
     "metadata": {
      "needs_background": "light"
     },
     "output_type": "display_data"
    }
   ],
   "source": [
    "p = sns.displot(x = 'Num_of_Days', data = data, binwidth = 5, hue = 'Ad_Type');\n",
    "plt.xlabel('Number of Days Ad Was Run');\n",
    "plt.xlim([0, np.percentile(data['Num_of_Days'], 90)]);\n",
    "p._legend.set_title('Ad Type')"
   ]
  },
  {
   "cell_type": "code",
   "execution_count": 193,
   "metadata": {},
   "outputs": [
    {
     "data": {
      "image/png": "[encoded data removed]",
      "text/plain": [
       "<Figure size 864x576 with 1 Axes>"
      ]
     },
     "metadata": {
      "needs_background": "light"
     },
     "output_type": "display_data"
    }
   ],
   "source": [
    "male_or_female = data.loc[(data['Gender_Targeting'] == 'Female') | (data['Gender_Targeting'] == 'Male')]\n",
    "sns.boxplot(x = male_or_female['Gender_Targeting'], y = 'Num_of_Days', data = data);\n",
    "plt.ylabel('Number of Days Ad was Run');\n",
    "plt.xlabel('Gender Targeting');"
   ]
  },
  {
   "cell_type": "code",
   "execution_count": 215,
   "metadata": {},
   "outputs": [],
   "source": [
    "data.loc[:, 'Date_Range_Start'] = pd.to_datetime(data['Date_Range_Start'])\n",
    "data.loc[:, 'Date_Range_End'] = pd.to_datetime(data['Date_Range_End'])\n",
    "data['Weekday'] = data['Date_Range_Start'].dt.weekday"
   ]
  },
  {
   "cell_type": "code",
   "execution_count": 204,
   "metadata": {},
   "outputs": [
    {
     "data": {
      "image/png": "[encoded data removed]",
      "text/plain": [
       "<Figure size 864x576 with 1 Axes>"
      ]
     },
     "metadata": {
      "needs_background": "light"
     },
     "output_type": "display_data"
    }
   ],
   "source": [
    "sns.countplot(x='Weekday', data=data);\n",
    "positions = (1, 2, 3)\n",
    "labels = (\"A\", \"B\", \"C\")\n",
    "plt.xticks(np.arange(0, 7), ('Monday', 'Tuesday', 'Wednesday', 'Thursday', 'Friday', 'Saturday', 'Sunday'));"
   ]
  },
  {
   "cell_type": "code",
   "execution_count": 205,
   "metadata": {},
   "outputs": [
    {
     "name": "stdout",
     "output_type": "stream",
     "text": [
      "Ads Date from 2018-05-31 00:00:00 to 2021-10-04 00:00:00\n"
     ]
    }
   ],
   "source": [
    "min = data['Date_Range_Start'].min()\n",
    "max = data['Date_Range_End'].max()\n",
    "print('Ads Date from {} to {}'.format(min, max))"
   ]
  },
  {
   "cell_type": "code",
   "execution_count": 245,
   "metadata": {},
   "outputs": [
    {
     "data": {
      "text/plain": [
       "<matplotlib.axes._subplots.AxesSubplot at 0x7f967f2b15e0>"
      ]
     },
     "execution_count": 245,
     "metadata": {},
     "output_type": "execute_result"
    },
    {
     "data": {
      "image/png": "[encoded data removed]",
      "text/plain": [
       "<Figure size 864x576 with 1 Axes>"
      ]
     },
     "metadata": {
      "needs_background": "light"
     },
     "output_type": "display_data"
    }
   ],
   "source": [
    "sns.histplot(x = 'Spend_Range_Min_USD', hue = 'Impressions', data = data, multiple = 'stack')"
   ]
  },
  {
   "cell_type": "code",
   "execution_count": null,
   "metadata": {},
   "outputs": [],
   "source": []
  },
  {
   "cell_type": "code",
   "execution_count": null,
   "metadata": {},
   "outputs": [],
   "source": []
  }
 ],
 "metadata": {
  "kernelspec": {
   "display_name": "Python 3",
   "language": "python",
   "name": "python3"
  },
  "language_info": {
   "codemirror_mode": {
    "name": "ipython",
    "version": 3
   },
   "file_extension": ".py",
   "mimetype": "text/x-python",
   "name": "python",
   "nbconvert_exporter": "python",
   "pygments_lexer": "ipython3",
   "version": "3.8.5"
  }
 },
 "nbformat": 4,
 "nbformat_minor": 4
}
