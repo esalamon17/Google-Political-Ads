{
 "cells": [
  {
   "cell_type": "code",
   "execution_count": 1,
   "metadata": {},
   "outputs": [],
   "source": [
    "import pandas as pd\n",
    "import numpy as np\n",
    "import matplotlib.pyplot as plt"
   ]
  },
  {
   "cell_type": "code",
   "execution_count": 26,
   "metadata": {},
   "outputs": [
    {
     "name": "stderr",
     "output_type": "stream",
     "text": [
      "/opt/anaconda3/lib/python3.8/site-packages/IPython/core/interactiveshell.py:3146: DtypeWarning: Columns (11) have mixed types.Specify dtype option on import or set low_memory=False.\n",
      "  has_raised = await self.run_ast_nodes(code_ast.body, cell_name,\n"
     ]
    },
    {
     "data": {
      "text/plain": [
       "Index(['Ad_ID', 'Ad_URL', 'Ad_Type', 'Regions', 'Advertiser_ID',\n",
       "       'Advertiser_Name', 'Ad_Campaigns_List', 'Date_Range_Start',\n",
       "       'Date_Range_End', 'Num_of_Days', 'Impressions', 'Spend_USD',\n",
       "       'First_Served_Timestamp', 'Last_Served_Timestamp', 'Age_Targeting',\n",
       "       'Gender_Targeting', 'Geo_Targeting_Included', 'Geo_Targeting_Excluded',\n",
       "       'Spend_Range_Min_USD', 'Spend_Range_Max_USD', 'Spend_Range_Min_EUR',\n",
       "       'Spend_Range_Max_EUR', 'Spend_Range_Min_INR', 'Spend_Range_Max_INR',\n",
       "       'Spend_Range_Min_BGN', 'Spend_Range_Max_BGN', 'Spend_Range_Min_HRK',\n",
       "       'Spend_Range_Max_HRK', 'Spend_Range_Min_CZK', 'Spend_Range_Max_CZK',\n",
       "       'Spend_Range_Min_DKK', 'Spend_Range_Max_DKK', 'Spend_Range_Min_HUF',\n",
       "       'Spend_Range_Max_HUF', 'Spend_Range_Min_PLN', 'Spend_Range_Max_PLN',\n",
       "       'Spend_Range_Min_RON', 'Spend_Range_Max_RON', 'Spend_Range_Min_SEK',\n",
       "       'Spend_Range_Max_SEK', 'Spend_Range_Min_GBP', 'Spend_Range_Max_GBP',\n",
       "       'Spend_Range_Min_ILS', 'Spend_Range_Max_ILS', 'Spend_Range_Min_NZD',\n",
       "       'Spend_Range_Max_NZD', 'Spend_Range_Min_TWD', 'Spend_Range_Max_TWD',\n",
       "       'Spend_Range_Min_AUD', 'Spend_Range_Max_AUD'],\n",
       "      dtype='object')"
      ]
     },
     "execution_count": 26,
     "metadata": {},
     "output_type": "execute_result"
    }
   ],
   "source": [
    "data = pd.read_csv('google-political-ads-creative-stats.csv')\n",
    "data.columns"
   ]
  },
  {
   "cell_type": "markdown",
   "metadata": {},
   "source": [
    "Remove non US spending ranges, Ad_Id, Ad_URL, Advertiser_ID (not useful to us), and specific timestamps (already has number of days with dates)"
   ]
  },
  {
   "cell_type": "code",
   "execution_count": 27,
   "metadata": {},
   "outputs": [
    {
     "data": {
      "text/plain": [
       "array([nan])"
      ]
     },
     "execution_count": 27,
     "metadata": {},
     "output_type": "execute_result"
    }
   ],
   "source": [
    "data['Ad_Campaigns_List'].unique()"
   ]
  },
  {
   "cell_type": "markdown",
   "metadata": {},
   "source": [
    "Remove Ad_Campaigns_List as it is all Nan"
   ]
  },
  {
   "cell_type": "code",
   "execution_count": 28,
   "metadata": {},
   "outputs": [],
   "source": [
    "columns_of_interest = ['Ad_Type', 'Regions', 'Advertiser_Name', 'Date_Range_Start',\n",
    "       'Date_Range_End', 'Num_of_Days', 'Impressions', 'Spend_USD','Age_Targeting',\n",
    "       'Gender_Targeting', 'Geo_Targeting_Included', 'Geo_Targeting_Excluded',\n",
    "       'Spend_Range_Min_USD', 'Spend_Range_Max_USD']\n",
    "data = data[columns_of_interest]\n",
    "data = data.loc[data['Regions'] == 'US']"
   ]
  },
  {
   "cell_type": "markdown",
   "metadata": {},
   "source": [
    "Select only US ads"
   ]
  },
  {
   "cell_type": "code",
   "execution_count": 29,
   "metadata": {},
   "outputs": [
    {
     "name": "stdout",
     "output_type": "stream",
     "text": [
      "0         392518\n",
      "100       131844\n",
      "1000       79110\n",
      "50000       1261\n",
      "100000       857\n",
      "Name: Spend_Range_Min_USD, dtype: int64\n"
     ]
    }
   ],
   "source": [
    "print(data['Spend_Range_Min_USD'].value_counts())\n",
    "data = data.loc[data['Spend_Range_Min_USD'] >= 1000]"
   ]
  },
  {
   "cell_type": "markdown",
   "metadata": {},
   "source": [
    "Select ads that cost at least $1,000"
   ]
  },
  {
   "cell_type": "code",
   "execution_count": 30,
   "metadata": {},
   "outputs": [],
   "source": [
    "data.to_csv('export_dataframe.csv', index = False, header=True)"
   ]
  },
  {
   "cell_type": "code",
   "execution_count": 31,
   "metadata": {},
   "outputs": [
    {
     "data": {
      "text/html": [
       "<div>\n",
       "<style scoped>\n",
       "    .dataframe tbody tr th:only-of-type {\n",
       "        vertical-align: middle;\n",
       "    }\n",
       "\n",
       "    .dataframe tbody tr th {\n",
       "        vertical-align: top;\n",
       "    }\n",
       "\n",
       "    .dataframe thead th {\n",
       "        text-align: right;\n",
       "    }\n",
       "</style>\n",
       "<table border=\"1\" class=\"dataframe\">\n",
       "  <thead>\n",
       "    <tr style=\"text-align: right;\">\n",
       "      <th></th>\n",
       "      <th>Ad_Type</th>\n",
       "      <th>Regions</th>\n",
       "      <th>Advertiser_Name</th>\n",
       "      <th>Date_Range_Start</th>\n",
       "      <th>Date_Range_End</th>\n",
       "      <th>Num_of_Days</th>\n",
       "      <th>Impressions</th>\n",
       "      <th>Spend_USD</th>\n",
       "      <th>Age_Targeting</th>\n",
       "      <th>Gender_Targeting</th>\n",
       "      <th>Geo_Targeting_Included</th>\n",
       "      <th>Geo_Targeting_Excluded</th>\n",
       "      <th>Spend_Range_Min_USD</th>\n",
       "      <th>Spend_Range_Max_USD</th>\n",
       "    </tr>\n",
       "  </thead>\n",
       "  <tbody>\n",
       "    <tr>\n",
       "      <th>293</th>\n",
       "      <td>Text</td>\n",
       "      <td>US</td>\n",
       "      <td>ALEX FOR AZ</td>\n",
       "      <td>2020-07-08</td>\n",
       "      <td>2020-08-04</td>\n",
       "      <td>28</td>\n",
       "      <td>≤ 10k</td>\n",
       "      <td>1k-50k</td>\n",
       "      <td>Not targeted</td>\n",
       "      <td>Not targeted</td>\n",
       "      <td>85054, 85207, 85215, 85250, 85251, 85253, 8525...</td>\n",
       "      <td>Not targeted</td>\n",
       "      <td>1000</td>\n",
       "      <td>50000.0</td>\n",
       "    </tr>\n",
       "    <tr>\n",
       "      <th>296</th>\n",
       "      <td>Text</td>\n",
       "      <td>US</td>\n",
       "      <td>ALEX FOR AZ</td>\n",
       "      <td>2020-07-07</td>\n",
       "      <td>2020-08-04</td>\n",
       "      <td>29</td>\n",
       "      <td>≤ 10k</td>\n",
       "      <td>1k-50k</td>\n",
       "      <td>Not targeted</td>\n",
       "      <td>Not targeted</td>\n",
       "      <td>85054, 85207, 85215, 85250, 85251, 85253, 8525...</td>\n",
       "      <td>Not targeted</td>\n",
       "      <td>1000</td>\n",
       "      <td>50000.0</td>\n",
       "    </tr>\n",
       "    <tr>\n",
       "      <th>303</th>\n",
       "      <td>Text</td>\n",
       "      <td>US</td>\n",
       "      <td>CITIZENS FOR JD WOOTEN</td>\n",
       "      <td>2020-08-28</td>\n",
       "      <td>2020-11-03</td>\n",
       "      <td>64</td>\n",
       "      <td>10k-100k</td>\n",
       "      <td>1k-50k</td>\n",
       "      <td>Not targeted</td>\n",
       "      <td>Not targeted</td>\n",
       "      <td>27215, 27217, 27233, 27244, 27249, 27253, 2725...</td>\n",
       "      <td>Not targeted</td>\n",
       "      <td>1000</td>\n",
       "      <td>50000.0</td>\n",
       "    </tr>\n",
       "    <tr>\n",
       "      <th>304</th>\n",
       "      <td>Video</td>\n",
       "      <td>US</td>\n",
       "      <td>CITIZENS FOR JD WOOTEN</td>\n",
       "      <td>2020-10-28</td>\n",
       "      <td>2020-11-03</td>\n",
       "      <td>7</td>\n",
       "      <td>100k-1M</td>\n",
       "      <td>1k-50k</td>\n",
       "      <td>18-24, 25-34, 35-44, 45-54, 55-64, ≥65, Unknow...</td>\n",
       "      <td>Male, Female, Unknown gender</td>\n",
       "      <td>27215, 27217, 27233, 27244, 27249, 27253, 2725...</td>\n",
       "      <td>Not targeted</td>\n",
       "      <td>1000</td>\n",
       "      <td>50000.0</td>\n",
       "    </tr>\n",
       "    <tr>\n",
       "      <th>305</th>\n",
       "      <td>Video</td>\n",
       "      <td>US</td>\n",
       "      <td>CITIZENS FOR JD WOOTEN</td>\n",
       "      <td>2020-10-26</td>\n",
       "      <td>2020-11-03</td>\n",
       "      <td>9</td>\n",
       "      <td>10k-100k</td>\n",
       "      <td>1k-50k</td>\n",
       "      <td>18-24, 25-34, 35-44, 45-54, 55-64, ≥65, Unknow...</td>\n",
       "      <td>Male, Female, Unknown gender</td>\n",
       "      <td>27215, 27217, 27233, 27244, 27249, 27253, 2725...</td>\n",
       "      <td>Not targeted</td>\n",
       "      <td>1000</td>\n",
       "      <td>50000.0</td>\n",
       "    </tr>\n",
       "  </tbody>\n",
       "</table>\n",
       "</div>"
      ],
      "text/plain": [
       "    Ad_Type Regions         Advertiser_Name Date_Range_Start Date_Range_End  \\\n",
       "293    Text      US             ALEX FOR AZ       2020-07-08     2020-08-04   \n",
       "296    Text      US             ALEX FOR AZ       2020-07-07     2020-08-04   \n",
       "303    Text      US  CITIZENS FOR JD WOOTEN       2020-08-28     2020-11-03   \n",
       "304   Video      US  CITIZENS FOR JD WOOTEN       2020-10-28     2020-11-03   \n",
       "305   Video      US  CITIZENS FOR JD WOOTEN       2020-10-26     2020-11-03   \n",
       "\n",
       "     Num_of_Days Impressions Spend_USD  \\\n",
       "293           28       ≤ 10k    1k-50k   \n",
       "296           29       ≤ 10k    1k-50k   \n",
       "303           64    10k-100k    1k-50k   \n",
       "304            7     100k-1M    1k-50k   \n",
       "305            9    10k-100k    1k-50k   \n",
       "\n",
       "                                         Age_Targeting  \\\n",
       "293                                       Not targeted   \n",
       "296                                       Not targeted   \n",
       "303                                       Not targeted   \n",
       "304  18-24, 25-34, 35-44, 45-54, 55-64, ≥65, Unknow...   \n",
       "305  18-24, 25-34, 35-44, 45-54, 55-64, ≥65, Unknow...   \n",
       "\n",
       "                 Gender_Targeting  \\\n",
       "293                  Not targeted   \n",
       "296                  Not targeted   \n",
       "303                  Not targeted   \n",
       "304  Male, Female, Unknown gender   \n",
       "305  Male, Female, Unknown gender   \n",
       "\n",
       "                                Geo_Targeting_Included Geo_Targeting_Excluded  \\\n",
       "293  85054, 85207, 85215, 85250, 85251, 85253, 8525...           Not targeted   \n",
       "296  85054, 85207, 85215, 85250, 85251, 85253, 8525...           Not targeted   \n",
       "303  27215, 27217, 27233, 27244, 27249, 27253, 2725...           Not targeted   \n",
       "304  27215, 27217, 27233, 27244, 27249, 27253, 2725...           Not targeted   \n",
       "305  27215, 27217, 27233, 27244, 27249, 27253, 2725...           Not targeted   \n",
       "\n",
       "     Spend_Range_Min_USD  Spend_Range_Max_USD  \n",
       "293                 1000              50000.0  \n",
       "296                 1000              50000.0  \n",
       "303                 1000              50000.0  \n",
       "304                 1000              50000.0  \n",
       "305                 1000              50000.0  "
      ]
     },
     "execution_count": 31,
     "metadata": {},
     "output_type": "execute_result"
    }
   ],
   "source": [
    "data.head()"
   ]
  },
  {
   "cell_type": "code",
   "execution_count": 34,
   "metadata": {},
   "outputs": [
    {
     "data": {
      "text/html": [
       "<div>\n",
       "<style scoped>\n",
       "    .dataframe tbody tr th:only-of-type {\n",
       "        vertical-align: middle;\n",
       "    }\n",
       "\n",
       "    .dataframe tbody tr th {\n",
       "        vertical-align: top;\n",
       "    }\n",
       "\n",
       "    .dataframe thead th {\n",
       "        text-align: right;\n",
       "    }\n",
       "</style>\n",
       "<table border=\"1\" class=\"dataframe\">\n",
       "  <thead>\n",
       "    <tr style=\"text-align: right;\">\n",
       "      <th></th>\n",
       "      <th>Zipcode</th>\n",
       "      <th>ZipCodeType</th>\n",
       "      <th>City</th>\n",
       "      <th>State</th>\n",
       "      <th>LocationType</th>\n",
       "      <th>Lat</th>\n",
       "      <th>Long</th>\n",
       "      <th>Location</th>\n",
       "      <th>Decommisioned</th>\n",
       "      <th>TaxReturnsFiled</th>\n",
       "      <th>EstimatedPopulation</th>\n",
       "      <th>TotalWages</th>\n",
       "    </tr>\n",
       "  </thead>\n",
       "  <tbody>\n",
       "    <tr>\n",
       "      <th>0</th>\n",
       "      <td>705</td>\n",
       "      <td>STANDARD</td>\n",
       "      <td>AIBONITO</td>\n",
       "      <td>PR</td>\n",
       "      <td>PRIMARY</td>\n",
       "      <td>18.14</td>\n",
       "      <td>-66.26</td>\n",
       "      <td>NA-US-PR-AIBONITO</td>\n",
       "      <td>False</td>\n",
       "      <td>NaN</td>\n",
       "      <td>NaN</td>\n",
       "      <td>NaN</td>\n",
       "    </tr>\n",
       "    <tr>\n",
       "      <th>1</th>\n",
       "      <td>610</td>\n",
       "      <td>STANDARD</td>\n",
       "      <td>ANASCO</td>\n",
       "      <td>PR</td>\n",
       "      <td>PRIMARY</td>\n",
       "      <td>18.28</td>\n",
       "      <td>-67.14</td>\n",
       "      <td>NA-US-PR-ANASCO</td>\n",
       "      <td>False</td>\n",
       "      <td>NaN</td>\n",
       "      <td>NaN</td>\n",
       "      <td>NaN</td>\n",
       "    </tr>\n",
       "    <tr>\n",
       "      <th>2</th>\n",
       "      <td>611</td>\n",
       "      <td>PO BOX</td>\n",
       "      <td>ANGELES</td>\n",
       "      <td>PR</td>\n",
       "      <td>PRIMARY</td>\n",
       "      <td>18.28</td>\n",
       "      <td>-66.79</td>\n",
       "      <td>NA-US-PR-ANGELES</td>\n",
       "      <td>False</td>\n",
       "      <td>NaN</td>\n",
       "      <td>NaN</td>\n",
       "      <td>NaN</td>\n",
       "    </tr>\n",
       "    <tr>\n",
       "      <th>3</th>\n",
       "      <td>612</td>\n",
       "      <td>STANDARD</td>\n",
       "      <td>ARECIBO</td>\n",
       "      <td>PR</td>\n",
       "      <td>PRIMARY</td>\n",
       "      <td>18.45</td>\n",
       "      <td>-66.73</td>\n",
       "      <td>NA-US-PR-ARECIBO</td>\n",
       "      <td>False</td>\n",
       "      <td>NaN</td>\n",
       "      <td>NaN</td>\n",
       "      <td>NaN</td>\n",
       "    </tr>\n",
       "    <tr>\n",
       "      <th>4</th>\n",
       "      <td>601</td>\n",
       "      <td>STANDARD</td>\n",
       "      <td>ADJUNTAS</td>\n",
       "      <td>PR</td>\n",
       "      <td>PRIMARY</td>\n",
       "      <td>18.16</td>\n",
       "      <td>-66.72</td>\n",
       "      <td>NA-US-PR-ADJUNTAS</td>\n",
       "      <td>False</td>\n",
       "      <td>NaN</td>\n",
       "      <td>NaN</td>\n",
       "      <td>NaN</td>\n",
       "    </tr>\n",
       "  </tbody>\n",
       "</table>\n",
       "</div>"
      ],
      "text/plain": [
       "   Zipcode ZipCodeType      City State LocationType    Lat   Long  \\\n",
       "0      705    STANDARD  AIBONITO    PR      PRIMARY  18.14 -66.26   \n",
       "1      610    STANDARD    ANASCO    PR      PRIMARY  18.28 -67.14   \n",
       "2      611      PO BOX   ANGELES    PR      PRIMARY  18.28 -66.79   \n",
       "3      612    STANDARD   ARECIBO    PR      PRIMARY  18.45 -66.73   \n",
       "4      601    STANDARD  ADJUNTAS    PR      PRIMARY  18.16 -66.72   \n",
       "\n",
       "            Location  Decommisioned  TaxReturnsFiled  EstimatedPopulation  \\\n",
       "0  NA-US-PR-AIBONITO          False              NaN                  NaN   \n",
       "1    NA-US-PR-ANASCO          False              NaN                  NaN   \n",
       "2   NA-US-PR-ANGELES          False              NaN                  NaN   \n",
       "3   NA-US-PR-ARECIBO          False              NaN                  NaN   \n",
       "4  NA-US-PR-ADJUNTAS          False              NaN                  NaN   \n",
       "\n",
       "   TotalWages  \n",
       "0         NaN  \n",
       "1         NaN  \n",
       "2         NaN  \n",
       "3         NaN  \n",
       "4         NaN  "
      ]
     },
     "execution_count": 34,
     "metadata": {},
     "output_type": "execute_result"
    }
   ],
   "source": [
    "zips =  pd.read_csv('free-zipcode-database-Primary.csv')\n",
    "zips.head()"
   ]
  },
  {
   "cell_type": "code",
   "execution_count": 35,
   "metadata": {},
   "outputs": [
    {
     "data": {
      "text/plain": [
       "array(['PR', 'NJ', 'NY', 'AE', 'VI', 'MA', 'ME', 'NH', 'VT', 'CT', 'RI',\n",
       "       'DE', 'PA', 'WV', 'KY', 'TN', 'VA', 'GA', 'IN', 'OH', 'IL', 'IA',\n",
       "       'MN', 'WI', 'MT', 'ND', 'SD', 'KS', 'MO', 'NE', 'CO', 'WY', 'ID',\n",
       "       'UT', 'AZ', 'NM', 'TX', 'CA', 'NV', 'OR', 'WA', 'AK', 'GU', 'HI',\n",
       "       'AS', 'PW', 'FM', 'MP', 'MH', 'FL', 'SC', 'AL', 'MS', 'LA', 'AR',\n",
       "       'OK', 'MI', 'DC', 'MD', 'NC', 'AA', 'AP'], dtype=object)"
      ]
     },
     "execution_count": 35,
     "metadata": {},
     "output_type": "execute_result"
    }
   ],
   "source": [
    "zips['State'].unique()"
   ]
  },
  {
   "cell_type": "code",
   "execution_count": null,
   "metadata": {},
   "outputs": [],
   "source": []
  }
 ],
 "metadata": {
  "kernelspec": {
   "display_name": "Python 3",
   "language": "python",
   "name": "python3"
  },
  "language_info": {
   "codemirror_mode": {
    "name": "ipython",
    "version": 3
   },
   "file_extension": ".py",
   "mimetype": "text/x-python",
   "name": "python",
   "nbconvert_exporter": "python",
   "pygments_lexer": "ipython3",
   "version": "3.8.5"
  }
 },
 "nbformat": 4,
 "nbformat_minor": 4
}
