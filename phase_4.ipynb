{
 "cells": [
  {
   "cell_type": "markdown",
   "id": "e09c39d5-ff12-416f-ac4c-96a62ce21647",
   "metadata": {},
   "source": [
    "# Google Political Advertising Exploration\n",
    "## Info 2950 Phase IV\n",
    "### Eliza Salamon, Laurel Prime, Melissa LaFountain\n",
    "***"
   ]
  },
  {
   "cell_type": "markdown",
   "id": "0854513d-1366-4e99-8418-737b689eb1d7",
   "metadata": {},
   "source": [
    "# Introduction\n",
    "\n",
    "Our group hoped to find connections between various criteria and political advertisements in the United States, working from data collected in a Google Transparency Report. The research questions that our group aimed to answer were, “How do different targeting attributes such as age, gender, and geotargeting affect ad type and exposure?,” “How are ads distributed geographically across the country?,” and “How does ad spend affect impressions generated?” Answering these questions can provide valuable insight for future political campaigns. To answer these questions, we completed three different analyses. \n",
    "\n",
    "The first analysis, an exploration of the relationship between geographic targeting and political party, was done with a logistic regression model and a heat map indicating targeted locations. This analysis shows that there is a relationship between geotargeting and political party affiliation, but our data was somewhat limited in predicting a strong relationship between the two.\n",
    "\n",
    "Our second analysis looked into age targeting and ad impressions. We completed this analysis using a linear regression model. Results from this analysis show an insignificant relationship between age targeting and advertisement impressions. \n",
    "\n",
    "Our final analysis took a look at the relationship between ad spending and impressions, and was done by creating a histogram. The histogram revealed several points, among them being the fact that many of the ads with the most impressions were produced without overly high ad spend. \n",
    "\n",
    "While we ultimately did not find very significant relationships between our variables, we believe that our results are still important. For example, discovering that there is not a significant relationship between age targeting and ad impressions can help politicians to know what not to focus on in future campaigns, so that they can give more attention to relationships that may prove to be more significant.  "
   ]
  },
  {
   "cell_type": "markdown",
   "id": "6094b8ca-164f-4dcc-8d84-e2f5abcc6530",
   "metadata": {},
   "source": [
    "# Data Description"
   ]
  },
  {
   "cell_type": "markdown",
   "id": "1595843c-75af-4e53-9bce-32f176843915",
   "metadata": {},
   "source": [
    "##### What are the observations (rows) and the attributes (columns)?\n",
    "\n",
    "The observations of the Google data are different political ads. The attributes are the kind of advertisement (text, video, or image),  the region the ad is from, the name of the advertiser, the range of dates and number of days that the ad was released, the amount of impressions the ad had, spending range for the ad, target age, target gender, any locations targeted or avoided by the advertisement, and the maximum and minimum amounts of money spent for each ad. \n",
    "\n",
    "The observations of the zipcode data are different zipcodes in the United States and territories. The columns are zipcode, zipcode type, city, state, latitude, longitude, whether the zip code is still in use, the population, tax returns, and total wages. The columns we used to add to the google dataset were the city and zipcode.\n",
    "\n",
    "##### Why was this dataset created?\n",
    "\n",
    "The dataset was created in order to provide greater transparency in political advertising on Google, YouTube, and partner properties. \n",
    "\n",
    "##### Who funded the creation of the dataset?\n",
    "\n",
    "Google and their “Transparency Report” team funded the creation of this dataset.\n",
    "\n",
    "##### What processes might have influenced what data was observed and recorded and what was not?\n",
    "\n",
    "To run election ads, Google requires advertisers to be verified, and observe its policies and applicable laws. Election ads in this report feature a current officeholder or candidate for an elected federal or state office, federal or state political party, or state ballot measure, initiative, or proposition that qualifies for the ballot in a state. The report also includes all ads from advertisers that completed the express notification process related to California candidates for elected office or California ballot measures.\n",
    "\n",
    "##### What preprocessing was done, and how did the data come to be in the form that you are using?\n",
    "\n",
    "Preprocessing steps taken by Google’s data originators are not described on the “Transparency Report” website. As a team, we completed our own independent preprocessing in order to narrow down the raw data to items of interest based on our \n",
    "research questions. The data was filtered to include only Google Ads targeting the United States, and we deleted some columns present in the raw data which were redundant or not applicable to the US. In order to isolate ads likely to be more influential, we filtered the data to include only ad campaigns with a minimum spending value of $1,000. Additionally, we used a set of US zip code data in order to add information to the raw data about what cities and counties were being targeted by the ads. Finally, some integer columns were added in order to provide a numerical representation of finite categorical variables represented in preexisting data.\n",
    "\n",
    "##### If people are involved, were they aware of the data collection and if so, what purpose did they expect the data to be used for?\n",
    "\n",
    "People were aware of their data being collected, because websites requested that they put extensions on their browsers. The extensions gathered data about the ads on users’ Facebook pages. \n",
    "\n",
    "##### Cleaned data is hosted in the Cornell Box: https://cornell.box.com/s/2m5uwulla3pfca5qt395ngdonpnx0g9d \n",
    "\n",
    "The raw source data is found in the Google Transparency Report on US political ads: \n",
    "https://transparencyreport.google.com/political-ads/region/US\n",
    "The specific file used is google-political-ads-creative-stats.csv\n",
    "\n",
    "##### Over what timeframe was the data collected?\n",
    "The time frame is based on the launch date of the Transparency Report for a country or region. For the United States, data has been collected since May 31, 2018, and the data site is updated daily. We downloaded the data from Google on October 7th, 2021.\n",
    "\n",
    "##### Are there any errors, sources of noise, or redundancies in the dataset?\n",
    "There are range redundancies for ad observations in certain columns like Impressions, Spend_USD, Age_Targeting, and Geo_Targeting_Included. As an example, several ads have impression ranges of 10K-100K.\n",
    "\n",
    "\n",
    "##### Does the data set identify any subpopulations?\n",
    "The data set includes information about gender targeted ads; specifically, it identifies female, male, and unknown gender subpopulations. In addition, the data set includes information about ads’ target audience ages, grouping people by increments of 10 from ages 18-65. As a final example, the data set includes information about geographic subpopulations, indicating specific zip codes, counties, and states targeted by the different ads.  \n",
    "\n",
    "***"
   ]
  },
  {
   "cell_type": "code",
   "execution_count": 65,
   "id": "670091e9-9015-437a-bb91-edadc91e7b48",
   "metadata": {},
   "outputs": [],
   "source": [
    "#load all necessary packages\n",
    "import pandas as pd\n",
    "import numpy as np\n",
    "import matplotlib.pyplot as plt\n",
    "import geopandas\n",
    "import seaborn as sns\n",
    "from  sklearn.linear_model import LogisticRegression, LinearRegression"
   ]
  },
  {
   "cell_type": "markdown",
   "id": "9c4c4ddf-eed6-4587-9ac6-58a9d01ca36f",
   "metadata": {
    "tags": []
   },
   "source": [
    "# Analysis 1: Examining Geographic Targeting"
   ]
  },
  {
   "cell_type": "markdown",
   "id": "bd87ffa1-2572-400a-b950-3c2e6767e153",
   "metadata": {},
   "source": [
    "<b>Preregistration Statement:</b> We will examine the relationship between geographic targeting and type of advertiser. The dataset provides different aspects of geographic targeting in the form of zipcodes, cities, counties, and states.  In order to visualize aspects, we will create a heat map of advertisements using geopandas. In order to assess relationships, we will use dummy variables to represent a distinct set of regions (such states or cities). Additionally, using campaign finance data, we can add information about advertisements' political affiliations. From this, we can portray Democrats as 0 and Republicans as 1 in order to determine relationships between geographic targeting and political party using a logistic regression model.\n",
    "\n",
    "This analysis will allow us to gain more insight into how geographical targeting is distributed both by location and by party, one of our research questions. Our hypothesis is that different politically afffiliated parties will spend money in different geographic areas, likely based on swing states or districts, although it will be interesting to see just how those differences present themselves.\n",
    "***"
   ]
  },
  {
   "cell_type": "markdown",
   "id": "cd33c7f9-640f-4d4d-a03b-7dc2d18f6882",
   "metadata": {},
   "source": [
    "party_dataframe.csv has been created in a seperate file to obtain lists of states targeted by each add\n",
    "\n",
    "Code for this provided on Github: https://github.com/esalamon17/Info-2950-Project/blob/main/cleaning_party.ipynb"
   ]
  },
  {
   "cell_type": "code",
   "execution_count": 6,
   "id": "aeb77be4-68fb-4ed3-940a-a78667eebe19",
   "metadata": {},
   "outputs": [
    {
     "data": {
      "text/html": [
       "<div>\n",
       "<style scoped>\n",
       "    .dataframe tbody tr th:only-of-type {\n",
       "        vertical-align: middle;\n",
       "    }\n",
       "\n",
       "    .dataframe tbody tr th {\n",
       "        vertical-align: top;\n",
       "    }\n",
       "\n",
       "    .dataframe thead th {\n",
       "        text-align: right;\n",
       "    }\n",
       "</style>\n",
       "<table border=\"1\" class=\"dataframe\">\n",
       "  <thead>\n",
       "    <tr style=\"text-align: right;\">\n",
       "      <th></th>\n",
       "      <th>AK</th>\n",
       "      <th>AL</th>\n",
       "      <th>AR</th>\n",
       "      <th>AS</th>\n",
       "      <th>AZ</th>\n",
       "      <th>CA</th>\n",
       "      <th>CO</th>\n",
       "      <th>CT</th>\n",
       "      <th>DC</th>\n",
       "      <th>DE</th>\n",
       "      <th>...</th>\n",
       "      <th>TX</th>\n",
       "      <th>UT</th>\n",
       "      <th>VA</th>\n",
       "      <th>VI</th>\n",
       "      <th>VT</th>\n",
       "      <th>WA</th>\n",
       "      <th>WI</th>\n",
       "      <th>WV</th>\n",
       "      <th>WY</th>\n",
       "      <th>Party</th>\n",
       "    </tr>\n",
       "  </thead>\n",
       "  <tbody>\n",
       "    <tr>\n",
       "      <th>0</th>\n",
       "      <td>0</td>\n",
       "      <td>0</td>\n",
       "      <td>0</td>\n",
       "      <td>0</td>\n",
       "      <td>0</td>\n",
       "      <td>0</td>\n",
       "      <td>0</td>\n",
       "      <td>0</td>\n",
       "      <td>0</td>\n",
       "      <td>0</td>\n",
       "      <td>...</td>\n",
       "      <td>0</td>\n",
       "      <td>0</td>\n",
       "      <td>0</td>\n",
       "      <td>0</td>\n",
       "      <td>0</td>\n",
       "      <td>0</td>\n",
       "      <td>0</td>\n",
       "      <td>0</td>\n",
       "      <td>0</td>\n",
       "      <td>0.0</td>\n",
       "    </tr>\n",
       "    <tr>\n",
       "      <th>1</th>\n",
       "      <td>0</td>\n",
       "      <td>0</td>\n",
       "      <td>0</td>\n",
       "      <td>0</td>\n",
       "      <td>0</td>\n",
       "      <td>0</td>\n",
       "      <td>0</td>\n",
       "      <td>0</td>\n",
       "      <td>0</td>\n",
       "      <td>0</td>\n",
       "      <td>...</td>\n",
       "      <td>0</td>\n",
       "      <td>0</td>\n",
       "      <td>0</td>\n",
       "      <td>0</td>\n",
       "      <td>0</td>\n",
       "      <td>0</td>\n",
       "      <td>0</td>\n",
       "      <td>0</td>\n",
       "      <td>0</td>\n",
       "      <td>0.0</td>\n",
       "    </tr>\n",
       "    <tr>\n",
       "      <th>2</th>\n",
       "      <td>0</td>\n",
       "      <td>0</td>\n",
       "      <td>0</td>\n",
       "      <td>0</td>\n",
       "      <td>0</td>\n",
       "      <td>0</td>\n",
       "      <td>0</td>\n",
       "      <td>0</td>\n",
       "      <td>0</td>\n",
       "      <td>0</td>\n",
       "      <td>...</td>\n",
       "      <td>0</td>\n",
       "      <td>0</td>\n",
       "      <td>0</td>\n",
       "      <td>0</td>\n",
       "      <td>0</td>\n",
       "      <td>0</td>\n",
       "      <td>0</td>\n",
       "      <td>0</td>\n",
       "      <td>0</td>\n",
       "      <td>0.0</td>\n",
       "    </tr>\n",
       "    <tr>\n",
       "      <th>3</th>\n",
       "      <td>0</td>\n",
       "      <td>0</td>\n",
       "      <td>0</td>\n",
       "      <td>0</td>\n",
       "      <td>0</td>\n",
       "      <td>0</td>\n",
       "      <td>0</td>\n",
       "      <td>0</td>\n",
       "      <td>0</td>\n",
       "      <td>0</td>\n",
       "      <td>...</td>\n",
       "      <td>0</td>\n",
       "      <td>0</td>\n",
       "      <td>0</td>\n",
       "      <td>0</td>\n",
       "      <td>0</td>\n",
       "      <td>0</td>\n",
       "      <td>0</td>\n",
       "      <td>0</td>\n",
       "      <td>0</td>\n",
       "      <td>0.0</td>\n",
       "    </tr>\n",
       "    <tr>\n",
       "      <th>4</th>\n",
       "      <td>0</td>\n",
       "      <td>0</td>\n",
       "      <td>0</td>\n",
       "      <td>0</td>\n",
       "      <td>0</td>\n",
       "      <td>0</td>\n",
       "      <td>0</td>\n",
       "      <td>0</td>\n",
       "      <td>0</td>\n",
       "      <td>0</td>\n",
       "      <td>...</td>\n",
       "      <td>0</td>\n",
       "      <td>0</td>\n",
       "      <td>0</td>\n",
       "      <td>0</td>\n",
       "      <td>0</td>\n",
       "      <td>0</td>\n",
       "      <td>0</td>\n",
       "      <td>0</td>\n",
       "      <td>0</td>\n",
       "      <td>0.0</td>\n",
       "    </tr>\n",
       "  </tbody>\n",
       "</table>\n",
       "<p>5 rows × 56 columns</p>\n",
       "</div>"
      ],
      "text/plain": [
       "   AK  AL  AR  AS  AZ  CA  CO  CT  DC  DE  ...  TX  UT  VA  VI  VT  WA  WI  \\\n",
       "0   0   0   0   0   0   0   0   0   0   0  ...   0   0   0   0   0   0   0   \n",
       "1   0   0   0   0   0   0   0   0   0   0  ...   0   0   0   0   0   0   0   \n",
       "2   0   0   0   0   0   0   0   0   0   0  ...   0   0   0   0   0   0   0   \n",
       "3   0   0   0   0   0   0   0   0   0   0  ...   0   0   0   0   0   0   0   \n",
       "4   0   0   0   0   0   0   0   0   0   0  ...   0   0   0   0   0   0   0   \n",
       "\n",
       "   WV  WY  Party  \n",
       "0   0   0    0.0  \n",
       "1   0   0    0.0  \n",
       "2   0   0    0.0  \n",
       "3   0   0    0.0  \n",
       "4   0   0    0.0  \n",
       "\n",
       "[5 rows x 56 columns]"
      ]
     },
     "execution_count": 6,
     "metadata": {},
     "output_type": "execute_result"
    }
   ],
   "source": [
    "states_df = pd.read_csv('party_dataframe.csv')\n",
    "states_df.head()"
   ]
  },
  {
   "cell_type": "code",
   "execution_count": 7,
   "id": "181ce0e7-4cc4-4ad5-b0c3-4c6e4d4fdf1c",
   "metadata": {},
   "outputs": [
    {
     "name": "stdout",
     "output_type": "stream",
     "text": [
      "1.0    23181\n",
      "0.0    13248\n",
      "Name: Party, dtype: int64\n"
     ]
    }
   ],
   "source": [
    "print(states_df['Party'].value_counts())"
   ]
  },
  {
   "cell_type": "code",
   "execution_count": 78,
   "id": "cd938996-b14d-475f-9411-aec888783a56",
   "metadata": {},
   "outputs": [
    {
     "data": {
      "text/html": [
       "<div>\n",
       "<style scoped>\n",
       "    .dataframe tbody tr th:only-of-type {\n",
       "        vertical-align: middle;\n",
       "    }\n",
       "\n",
       "    .dataframe tbody tr th {\n",
       "        vertical-align: top;\n",
       "    }\n",
       "\n",
       "    .dataframe thead th {\n",
       "        text-align: right;\n",
       "    }\n",
       "</style>\n",
       "<table border=\"1\" class=\"dataframe\">\n",
       "  <thead>\n",
       "    <tr style=\"text-align: right;\">\n",
       "      <th></th>\n",
       "      <th>0</th>\n",
       "    </tr>\n",
       "  </thead>\n",
       "  <tbody>\n",
       "    <tr>\n",
       "      <th>count</th>\n",
       "      <td>56.000000</td>\n",
       "    </tr>\n",
       "    <tr>\n",
       "      <th>mean</th>\n",
       "      <td>1249.517857</td>\n",
       "    </tr>\n",
       "    <tr>\n",
       "      <th>std</th>\n",
       "      <td>3144.885192</td>\n",
       "    </tr>\n",
       "    <tr>\n",
       "      <th>min</th>\n",
       "      <td>18.000000</td>\n",
       "    </tr>\n",
       "    <tr>\n",
       "      <th>25%</th>\n",
       "      <td>199.750000</td>\n",
       "    </tr>\n",
       "    <tr>\n",
       "      <th>50%</th>\n",
       "      <td>378.000000</td>\n",
       "    </tr>\n",
       "    <tr>\n",
       "      <th>75%</th>\n",
       "      <td>1183.500000</td>\n",
       "    </tr>\n",
       "    <tr>\n",
       "      <th>max</th>\n",
       "      <td>23181.000000</td>\n",
       "    </tr>\n",
       "  </tbody>\n",
       "</table>\n",
       "</div>"
      ],
      "text/plain": [
       "                  0\n",
       "count     56.000000\n",
       "mean    1249.517857\n",
       "std     3144.885192\n",
       "min       18.000000\n",
       "25%      199.750000\n",
       "50%      378.000000\n",
       "75%     1183.500000\n",
       "max    23181.000000"
      ]
     },
     "execution_count": 78,
     "metadata": {},
     "output_type": "execute_result"
    }
   ],
   "source": [
    "#create series of state counts\n",
    "state_counts = pd.Series(states_df.sum(axis=0)).reset_index()\n",
    "state_counts.describe()"
   ]
  },
  {
   "cell_type": "code",
   "execution_count": 79,
   "id": "e8a83563-2819-4409-8cd2-e2a0b7f5502c",
   "metadata": {},
   "outputs": [
    {
     "data": {
      "text/plain": [
       "index         WY\n",
       "0        23181.0\n",
       "dtype: object"
      ]
     },
     "execution_count": 79,
     "metadata": {},
     "output_type": "execute_result"
    }
   ],
   "source": [
    "print('State with most ad targeting')\n",
    "state_counts.max()"
   ]
  },
  {
   "cell_type": "code",
   "execution_count": 80,
   "id": "ce2d9abe-76dc-4533-bec9-17f759b62876",
   "metadata": {},
   "outputs": [
    {
     "name": "stdout",
     "output_type": "stream",
     "text": [
      "State with least ad targeting\n"
     ]
    },
    {
     "data": {
      "text/plain": [
       "index      AK\n",
       "0        18.0\n",
       "dtype: object"
      ]
     },
     "execution_count": 80,
     "metadata": {},
     "output_type": "execute_result"
    }
   ],
   "source": [
    "print('State with least ad targeting')\n",
    "state_counts.min()"
   ]
  },
  {
   "cell_type": "code",
   "execution_count": 8,
   "id": "f6ad2178-4ddf-4b36-b2f8-132a27a054d1",
   "metadata": {},
   "outputs": [],
   "source": [
    "#get list of predictor variables\n",
    "predictors = list(states_df.columns)\n",
    "predictors.remove('Party')\n",
    "#create logistic regression model\n",
    "log_model = LogisticRegression(max_iter=1000).fit(states_df[predictors].values, states_df['Party'])"
   ]
  },
  {
   "cell_type": "code",
   "execution_count": 9,
   "id": "79d16652-2c39-4c1a-9018-41e0155ebabd",
   "metadata": {},
   "outputs": [],
   "source": [
    "#create list of traditional swing states\n",
    "target_swing_states = np.zeros(55)\n",
    "swing_states = ['AZ', 'FL', 'GA', 'MI','NV', 'NC', 'OH', 'PA', 'WI']\n",
    "for p in predictors:\n",
    "    if p in swing_states:\n",
    "        index = states_df.columns.get_loc(p)\n",
    "        target_swing_states[index] = 1"
   ]
  },
  {
   "cell_type": "code",
   "execution_count": 10,
   "id": "bc7cd5b9-da30-4d3c-9bb9-552425bf6729",
   "metadata": {},
   "outputs": [
    {
     "data": {
      "text/plain": [
       "array([0., 0., 0., 0., 1., 0., 0., 0., 0., 0., 1., 1., 0., 0., 0., 0., 0.,\n",
       "       0., 0., 0., 0., 0., 0., 0., 1., 0., 0., 0., 0., 1., 0., 0., 0., 0.,\n",
       "       0., 1., 0., 1., 0., 0., 1., 0., 0., 0., 0., 0., 0., 0., 0., 0., 0.,\n",
       "       0., 1., 0., 0.])"
      ]
     },
     "execution_count": 10,
     "metadata": {},
     "output_type": "execute_result"
    }
   ],
   "source": [
    "target_swing_states"
   ]
  },
  {
   "cell_type": "code",
   "execution_count": 11,
   "id": "b1f1e4a1-b267-4c43-b613-f0e00949d6af",
   "metadata": {},
   "outputs": [
    {
     "name": "stdout",
     "output_type": "stream",
     "text": [
      "Republican: 0.025, Democrat: 0.975\n"
     ]
    }
   ],
   "source": [
    "#predict advertiser for swing state targeting\n",
    "probs_swing = log_model.predict_proba([target_swing_states])\n",
    "print('Republican: {:.3f}, Democrat: {:.3f}'.format(probs_swing[0][0], probs_swing[0][1]))"
   ]
  },
  {
   "cell_type": "code",
   "execution_count": 12,
   "id": "a0faf79f-4905-429d-bc39-d08e6bcd5196",
   "metadata": {},
   "outputs": [],
   "source": [
    "target_dem_states = np.zeros(55)\n",
    "dem_states = ['CA', 'NY', 'CT', 'HI', 'NJ']\n",
    "for p in predictors:\n",
    "    if p in dem_states:\n",
    "        index = states_df.columns.get_loc(p)\n",
    "        target_dem_states[index] = 1"
   ]
  },
  {
   "cell_type": "code",
   "execution_count": 13,
   "id": "101d2f3f-9e6c-4b36-b9a5-b1facbc5d0e6",
   "metadata": {},
   "outputs": [
    {
     "name": "stdout",
     "output_type": "stream",
     "text": [
      "Republican: 0.001, Democrat: 0.999\n"
     ]
    }
   ],
   "source": [
    "probs_dem = log_model.predict_proba([target_dem_states])\n",
    "print('Republican: {:.3f}, Democrat: {:.3f}'.format(probs_dem[0][0], probs_dem[0][1]))"
   ]
  },
  {
   "cell_type": "code",
   "execution_count": 14,
   "id": "0a91e4fc-b9d8-41f4-beac-2107d3e81d3d",
   "metadata": {},
   "outputs": [],
   "source": [
    "target_rep_states = np.zeros(55)\n",
    "rep_states = ['TX', 'WV', 'MS', 'MO', 'ND']\n",
    "for p in predictors:\n",
    "    if p in rep_states:\n",
    "        index = states_df.columns.get_loc(p)\n",
    "        target_rep_states[index] = 1"
   ]
  },
  {
   "cell_type": "code",
   "execution_count": 15,
   "id": "0de5d488-7a75-4b02-bbb1-56ff3134750a",
   "metadata": {},
   "outputs": [
    {
     "name": "stdout",
     "output_type": "stream",
     "text": [
      "Republican: 0.976, Democrat: 0.024\n"
     ]
    }
   ],
   "source": [
    "probs_rep = log_model.predict_proba([target_rep_states])\n",
    "print('Republican: {:.3f}, Democrat: {:.3f}'.format(probs_rep[0][0], probs_rep[0][1]))"
   ]
  },
  {
   "cell_type": "markdown",
   "id": "83012eb9-027f-459b-be81-466a59476c17",
   "metadata": {},
   "source": [
    "***"
   ]
  },
  {
   "cell_type": "markdown",
   "id": "e2b73a4b-981d-410d-921d-3701c9835a0d",
   "metadata": {},
   "source": [
    "#### Evaluating Significance"
   ]
  },
  {
   "cell_type": "code",
   "execution_count": 16,
   "id": "e3e94e52-30b4-408c-814a-b455cc724424",
   "metadata": {},
   "outputs": [
    {
     "data": {
      "text/plain": [
       "0.6728156139339537"
      ]
     },
     "execution_count": 16,
     "metadata": {},
     "output_type": "execute_result"
    }
   ],
   "source": [
    "log_model.score(states_df[predictors].values, states_df['Party'])"
   ]
  },
  {
   "cell_type": "markdown",
   "id": "62374036-9c62-4107-9cd9-84d568fedcb4",
   "metadata": {},
   "source": [
    "Find Baseline Score - 1 is Democrat, 0 is Republican. So, predict Democrat affiliated advertiser 100% of the time."
   ]
  },
  {
   "cell_type": "code",
   "execution_count": 8,
   "id": "8c576100-14c9-4ff9-bfc0-21df387b74a1",
   "metadata": {},
   "outputs": [
    {
     "name": "stdout",
     "output_type": "stream",
     "text": [
      "Baseline score: 0.64\n"
     ]
    }
   ],
   "source": [
    "print('Baseline score: {:.2f}'.format(states_df['Party'].sum()/len(states_df)))"
   ]
  },
  {
   "cell_type": "code",
   "execution_count": 90,
   "id": "b5e93fec-4f35-4427-8e01-a25c984c9fd3",
   "metadata": {},
   "outputs": [
    {
     "data": {
      "image/png": "[encoded data removed]",
      "text/plain": [
       "<Figure size 432x288 with 2 Axes>"
      ]
     },
     "metadata": {
      "needs_background": "light"
     },
     "output_type": "display_data"
    }
   ],
   "source": [
    "from sklearn.metrics import confusion_matrix, classification_report, ConfusionMatrixDisplay\n",
    "\n",
    "y_true = states_df['Party']\n",
    "y_pred = log_model.predict(states_df[predictors].values)\n",
    "disp = ConfusionMatrixDisplay(confusion_matrix(y_true, y_pred), display_labels=['Republican', 'Democrat']);\n",
    "disp.plot();"
   ]
  },
  {
   "cell_type": "code",
   "execution_count": 18,
   "id": "1b96a1f2-c6bf-42a4-96c1-e9d8a05af2ac",
   "metadata": {},
   "outputs": [
    {
     "name": "stdout",
     "output_type": "stream",
     "text": [
      "              precision    recall  f1-score   support\n",
      "\n",
      "         0.0       0.63      0.24      0.34     13248\n",
      "         1.0       0.68      0.92      0.78     23181\n",
      "\n",
      "    accuracy                           0.67     36429\n",
      "   macro avg       0.66      0.58      0.56     36429\n",
      "weighted avg       0.66      0.67      0.62     36429\n",
      "\n"
     ]
    }
   ],
   "source": [
    "print(classification_report(y_true, y_pred))"
   ]
  },
  {
   "cell_type": "markdown",
   "id": "dac0c8fa-6109-4111-b74c-d20c42c35707",
   "metadata": {},
   "source": [
    "Overall, there does seem to be a moderate amount of insight into political party that can be gained from what states advertisers target. The logistic regression model to predict party from state targeting had about a 67% accuracy which isn't terrible. However, the baseline accuracy of simply predicting Democrat 100% of the time (since the data has a majority Democratic advertisers), was 64%, so there is only a slight increase in accuracy between the model and a naive baseline guess. \n",
    "\n",
    "This leads to the largest limitation of this analysis — the imbalance between Democratic and Republican advertisers. First, the FEC political campaign spending data which we used to obtain political party affiliation was not perfectly matched with our Google dataset, so the merged data had only 36,429 entries as compared to the original 81,228. Out of those 36,429, 23,181 were Democrats and 13,248 were Republicans. This large discrepancy between parties led to the high baseline accuracy seen in this report. \n",
    "\n",
    "This difference is also shown in the precision and recall scores for the model. Precision scores were moderate for both parties, whereas recall was terrible for Republicans and great for Democrats. This is another reflection of the high number of false negatives when predicting Republican advertisers.\n",
    "\n",
    "Another limitation is the difference in ad targeting counts between states. The statistics from state counts show a large interquartile range. The least targeted state, Alaska, had only 18 ads targeted to it, whereras the most targeted state, Wyoming, had over 23,000. So, some states had much more information to train the logisitic model, whereas others had much smaller quanities of ads, some which may have been much more heavily skewed Democrat or Republican.\n",
    "\n",
    "Creating potential groupus of geographic targeting provided some interesting resultst. Using the model to predict the political party of an advertiser who targeted a group of swing states in 2020, it predicts that the advertiser is over 97% likely to be Democratic. Using a group of all heavily Democratic states resulted in an almost 100% likelihood of being Democratic. However when a group of heavily Republican states was passed to the model, it predicted a Republican advertiser with likelihood 97.6%. So, although the data was skewed heavily Democratic, thet model was still able to pick up on distinctions between party and geo targeting.\n",
    "\n",
    "Another limitation was the lack of cohesion between the FEC data and the Google data. Because the two were not able to be merged flawlessly, we lost a lot of data about political party affiliation that may have made the model much more accurate. \n",
    "\n",
    "<b>Big Picture:</b> \n",
    "Advertising is an essential part of running political campaigns. Choosing which locations to advertise to is based on many factors, one of those being state polling. And although those polls are calculated by much better data scientists than us, they are still wrong a lot of the time! It is interesting to look at what areas of the country seem heavily targeted, and it does appear at a glance to be areas with swing counties. \n",
    "    \n",
    "Just as our data became skewed towards Democratic advetisers due to the data we chose, the scope of advertising that an individual sees is highly dependent on their personal choices. Factors such as what tv channels one watches, what newspaper one reads, who ones friends are on Facebook, and what ads the Google algorithm reccomends are different from person to person. \n"
   ]
  },
  {
   "cell_type": "markdown",
   "id": "db029b28-2fc2-4d53-b685-dced447b3538",
   "metadata": {},
   "source": [
    "#### Mapping Geographic Targeting with Geopandas"
   ]
  },
  {
   "cell_type": "code",
   "execution_count": 36,
   "id": "5c1a2956-93ba-43ec-a5e1-90f2afd16224",
   "metadata": {},
   "outputs": [
    {
     "data": {
      "text/html": [
       "<div>\n",
       "<style scoped>\n",
       "    .dataframe tbody tr th:only-of-type {\n",
       "        vertical-align: middle;\n",
       "    }\n",
       "\n",
       "    .dataframe tbody tr th {\n",
       "        vertical-align: top;\n",
       "    }\n",
       "\n",
       "    .dataframe thead th {\n",
       "        text-align: right;\n",
       "    }\n",
       "</style>\n",
       "<table border=\"1\" class=\"dataframe\">\n",
       "  <thead>\n",
       "    <tr style=\"text-align: right;\">\n",
       "      <th></th>\n",
       "      <th>Geo_Targeting_Included</th>\n",
       "      <th>party</th>\n",
       "      <th>Party_Encoded</th>\n",
       "    </tr>\n",
       "  </thead>\n",
       "  <tbody>\n",
       "    <tr>\n",
       "      <th>0</th>\n",
       "      <td>United States</td>\n",
       "      <td>REP</td>\n",
       "      <td>0.0</td>\n",
       "    </tr>\n",
       "    <tr>\n",
       "      <th>1</th>\n",
       "      <td>United States</td>\n",
       "      <td>REP</td>\n",
       "      <td>0.0</td>\n",
       "    </tr>\n",
       "    <tr>\n",
       "      <th>2</th>\n",
       "      <td>NJ-2,New Jersey,United States</td>\n",
       "      <td>REP</td>\n",
       "      <td>0.0</td>\n",
       "    </tr>\n",
       "    <tr>\n",
       "      <th>3</th>\n",
       "      <td>NJ-2,New Jersey,United States</td>\n",
       "      <td>REP</td>\n",
       "      <td>0.0</td>\n",
       "    </tr>\n",
       "    <tr>\n",
       "      <th>4</th>\n",
       "      <td>NJ-2,New Jersey,United States</td>\n",
       "      <td>REP</td>\n",
       "      <td>0.0</td>\n",
       "    </tr>\n",
       "  </tbody>\n",
       "</table>\n",
       "</div>"
      ],
      "text/plain": [
       "          Geo_Targeting_Included party  Party_Encoded\n",
       "0                  United States   REP            0.0\n",
       "1                  United States   REP            0.0\n",
       "2  NJ-2,New Jersey,United States   REP            0.0\n",
       "3  NJ-2,New Jersey,United States   REP            0.0\n",
       "4  NJ-2,New Jersey,United States   REP            0.0"
      ]
     },
     "execution_count": 36,
     "metadata": {},
     "output_type": "execute_result"
    }
   ],
   "source": [
    "#mid party df is simply a dataframe saved at a midpoint of the party_dataframe cleaning process\n",
    "geo_df = pd.read_csv('mid_party_df.csv')\n",
    "geo_df.head()"
   ]
  },
  {
   "cell_type": "code",
   "execution_count": 37,
   "id": "14028be6-6ef3-4001-8263-6cb346199273",
   "metadata": {},
   "outputs": [
    {
     "data": {
      "text/html": [
       "<div>\n",
       "<style scoped>\n",
       "    .dataframe tbody tr th:only-of-type {\n",
       "        vertical-align: middle;\n",
       "    }\n",
       "\n",
       "    .dataframe tbody tr th {\n",
       "        vertical-align: top;\n",
       "    }\n",
       "\n",
       "    .dataframe thead th {\n",
       "        text-align: right;\n",
       "    }\n",
       "</style>\n",
       "<table border=\"1\" class=\"dataframe\">\n",
       "  <thead>\n",
       "    <tr style=\"text-align: right;\">\n",
       "      <th></th>\n",
       "      <th>Geo_Targeting_Included</th>\n",
       "      <th>party</th>\n",
       "      <th>Party_Encoded</th>\n",
       "    </tr>\n",
       "  </thead>\n",
       "  <tbody>\n",
       "    <tr>\n",
       "      <th>0</th>\n",
       "      <td>[United States]</td>\n",
       "      <td>REP</td>\n",
       "      <td>0.0</td>\n",
       "    </tr>\n",
       "    <tr>\n",
       "      <th>1</th>\n",
       "      <td>[United States]</td>\n",
       "      <td>REP</td>\n",
       "      <td>0.0</td>\n",
       "    </tr>\n",
       "    <tr>\n",
       "      <th>2</th>\n",
       "      <td>[NJ-2, New Jersey, United States]</td>\n",
       "      <td>REP</td>\n",
       "      <td>0.0</td>\n",
       "    </tr>\n",
       "    <tr>\n",
       "      <th>3</th>\n",
       "      <td>[NJ-2, New Jersey, United States]</td>\n",
       "      <td>REP</td>\n",
       "      <td>0.0</td>\n",
       "    </tr>\n",
       "    <tr>\n",
       "      <th>4</th>\n",
       "      <td>[NJ-2, New Jersey, United States]</td>\n",
       "      <td>REP</td>\n",
       "      <td>0.0</td>\n",
       "    </tr>\n",
       "  </tbody>\n",
       "</table>\n",
       "</div>"
      ],
      "text/plain": [
       "              Geo_Targeting_Included party  Party_Encoded\n",
       "0                    [United States]   REP            0.0\n",
       "1                    [United States]   REP            0.0\n",
       "2  [NJ-2, New Jersey, United States]   REP            0.0\n",
       "3  [NJ-2, New Jersey, United States]   REP            0.0\n",
       "4  [NJ-2, New Jersey, United States]   REP            0.0"
      ]
     },
     "execution_count": 37,
     "metadata": {},
     "output_type": "execute_result"
    }
   ],
   "source": [
    "#create list of geotargeting column\n",
    "geo_lists = [item.split(',') for item in geo_df['Geo_Targeting_Included']]\n",
    "geo_df['Geo_Targeting_Included'] = geo_lists\n",
    "geo_df.head()"
   ]
  },
  {
   "cell_type": "code",
   "execution_count": 38,
   "id": "62d785e0-ea3d-490a-851e-a6b8730d44d0",
   "metadata": {},
   "outputs": [
    {
     "data": {
      "text/html": [
       "<div>\n",
       "<style scoped>\n",
       "    .dataframe tbody tr th:only-of-type {\n",
       "        vertical-align: middle;\n",
       "    }\n",
       "\n",
       "    .dataframe tbody tr th {\n",
       "        vertical-align: top;\n",
       "    }\n",
       "\n",
       "    .dataframe thead th {\n",
       "        text-align: right;\n",
       "    }\n",
       "</style>\n",
       "<table border=\"1\" class=\"dataframe\">\n",
       "  <thead>\n",
       "    <tr style=\"text-align: right;\">\n",
       "      <th></th>\n",
       "      <th>ZCTA5CE10</th>\n",
       "      <th>AFFGEOID10</th>\n",
       "      <th>GEOID10</th>\n",
       "      <th>ALAND10</th>\n",
       "      <th>AWATER10</th>\n",
       "      <th>geometry</th>\n",
       "    </tr>\n",
       "  </thead>\n",
       "  <tbody>\n",
       "    <tr>\n",
       "      <th>0</th>\n",
       "      <td>36083</td>\n",
       "      <td>8600000US36083</td>\n",
       "      <td>36083</td>\n",
       "      <td>659750662</td>\n",
       "      <td>5522919</td>\n",
       "      <td>MULTIPOLYGON (((-85.63225 32.28098, -85.62439 ...</td>\n",
       "    </tr>\n",
       "    <tr>\n",
       "      <th>1</th>\n",
       "      <td>35441</td>\n",
       "      <td>8600000US35441</td>\n",
       "      <td>35441</td>\n",
       "      <td>172850429</td>\n",
       "      <td>8749105</td>\n",
       "      <td>MULTIPOLYGON (((-87.83287 32.84437, -87.83184 ...</td>\n",
       "    </tr>\n",
       "    <tr>\n",
       "      <th>2</th>\n",
       "      <td>35051</td>\n",
       "      <td>8600000US35051</td>\n",
       "      <td>35051</td>\n",
       "      <td>280236456</td>\n",
       "      <td>5427285</td>\n",
       "      <td>POLYGON ((-86.74384 33.25002, -86.73802 33.251...</td>\n",
       "    </tr>\n",
       "    <tr>\n",
       "      <th>3</th>\n",
       "      <td>35121</td>\n",
       "      <td>8600000US35121</td>\n",
       "      <td>35121</td>\n",
       "      <td>372736030</td>\n",
       "      <td>5349303</td>\n",
       "      <td>POLYGON ((-86.58527 33.94743, -86.58033 33.948...</td>\n",
       "    </tr>\n",
       "    <tr>\n",
       "      <th>4</th>\n",
       "      <td>35058</td>\n",
       "      <td>8600000US35058</td>\n",
       "      <td>35058</td>\n",
       "      <td>178039922</td>\n",
       "      <td>3109259</td>\n",
       "      <td>MULTIPOLYGON (((-86.87884 34.21196, -86.87649 ...</td>\n",
       "    </tr>\n",
       "  </tbody>\n",
       "</table>\n",
       "</div>"
      ],
      "text/plain": [
       "  ZCTA5CE10      AFFGEOID10 GEOID10    ALAND10  AWATER10  \\\n",
       "0     36083  8600000US36083   36083  659750662   5522919   \n",
       "1     35441  8600000US35441   35441  172850429   8749105   \n",
       "2     35051  8600000US35051   35051  280236456   5427285   \n",
       "3     35121  8600000US35121   35121  372736030   5349303   \n",
       "4     35058  8600000US35058   35058  178039922   3109259   \n",
       "\n",
       "                                            geometry  \n",
       "0  MULTIPOLYGON (((-85.63225 32.28098, -85.62439 ...  \n",
       "1  MULTIPOLYGON (((-87.83287 32.84437, -87.83184 ...  \n",
       "2  POLYGON ((-86.74384 33.25002, -86.73802 33.251...  \n",
       "3  POLYGON ((-86.58527 33.94743, -86.58033 33.948...  \n",
       "4  MULTIPOLYGON (((-86.87884 34.21196, -86.87649 ...  "
      ]
     },
     "execution_count": 38,
     "metadata": {},
     "output_type": "execute_result"
    }
   ],
   "source": [
    "df_zips = geopandas.read_file('cb_2018_us_zcta510_500k/cb_2018_us_zcta510_500k.shp')\n",
    "df_zips.head()"
   ]
  },
  {
   "cell_type": "code",
   "execution_count": 39,
   "id": "0548425d-ad42-4322-9a86-24541e0c070f",
   "metadata": {},
   "outputs": [
    {
     "data": {
      "text/html": [
       "<div>\n",
       "<style scoped>\n",
       "    .dataframe tbody tr th:only-of-type {\n",
       "        vertical-align: middle;\n",
       "    }\n",
       "\n",
       "    .dataframe tbody tr th {\n",
       "        vertical-align: top;\n",
       "    }\n",
       "\n",
       "    .dataframe thead th {\n",
       "        text-align: right;\n",
       "    }\n",
       "</style>\n",
       "<table border=\"1\" class=\"dataframe\">\n",
       "  <thead>\n",
       "    <tr style=\"text-align: right;\">\n",
       "      <th></th>\n",
       "      <th>Zip_Code</th>\n",
       "      <th>AFFGEOID10</th>\n",
       "      <th>GEOID10</th>\n",
       "      <th>ALAND10</th>\n",
       "      <th>AWATER10</th>\n",
       "      <th>geometry</th>\n",
       "    </tr>\n",
       "  </thead>\n",
       "  <tbody>\n",
       "    <tr>\n",
       "      <th>0</th>\n",
       "      <td>36083</td>\n",
       "      <td>8600000US36083</td>\n",
       "      <td>36083</td>\n",
       "      <td>659750662</td>\n",
       "      <td>5522919</td>\n",
       "      <td>MULTIPOLYGON (((-85.63225 32.28098, -85.62439 ...</td>\n",
       "    </tr>\n",
       "    <tr>\n",
       "      <th>1</th>\n",
       "      <td>35441</td>\n",
       "      <td>8600000US35441</td>\n",
       "      <td>35441</td>\n",
       "      <td>172850429</td>\n",
       "      <td>8749105</td>\n",
       "      <td>MULTIPOLYGON (((-87.83287 32.84437, -87.83184 ...</td>\n",
       "    </tr>\n",
       "    <tr>\n",
       "      <th>2</th>\n",
       "      <td>35051</td>\n",
       "      <td>8600000US35051</td>\n",
       "      <td>35051</td>\n",
       "      <td>280236456</td>\n",
       "      <td>5427285</td>\n",
       "      <td>POLYGON ((-86.74384 33.25002, -86.73802 33.251...</td>\n",
       "    </tr>\n",
       "    <tr>\n",
       "      <th>3</th>\n",
       "      <td>35121</td>\n",
       "      <td>8600000US35121</td>\n",
       "      <td>35121</td>\n",
       "      <td>372736030</td>\n",
       "      <td>5349303</td>\n",
       "      <td>POLYGON ((-86.58527 33.94743, -86.58033 33.948...</td>\n",
       "    </tr>\n",
       "    <tr>\n",
       "      <th>4</th>\n",
       "      <td>35058</td>\n",
       "      <td>8600000US35058</td>\n",
       "      <td>35058</td>\n",
       "      <td>178039922</td>\n",
       "      <td>3109259</td>\n",
       "      <td>MULTIPOLYGON (((-86.87884 34.21196, -86.87649 ...</td>\n",
       "    </tr>\n",
       "  </tbody>\n",
       "</table>\n",
       "</div>"
      ],
      "text/plain": [
       "   Zip_Code      AFFGEOID10 GEOID10    ALAND10  AWATER10  \\\n",
       "0     36083  8600000US36083   36083  659750662   5522919   \n",
       "1     35441  8600000US35441   35441  172850429   8749105   \n",
       "2     35051  8600000US35051   35051  280236456   5427285   \n",
       "3     35121  8600000US35121   35121  372736030   5349303   \n",
       "4     35058  8600000US35058   35058  178039922   3109259   \n",
       "\n",
       "                                            geometry  \n",
       "0  MULTIPOLYGON (((-85.63225 32.28098, -85.62439 ...  \n",
       "1  MULTIPOLYGON (((-87.83287 32.84437, -87.83184 ...  \n",
       "2  POLYGON ((-86.74384 33.25002, -86.73802 33.251...  \n",
       "3  POLYGON ((-86.58527 33.94743, -86.58033 33.948...  \n",
       "4  MULTIPOLYGON (((-86.87884 34.21196, -86.87649 ...  "
      ]
     },
     "execution_count": 39,
     "metadata": {},
     "output_type": "execute_result"
    }
   ],
   "source": [
    "#rename zip column\n",
    "df_zips.rename(columns={'ZCTA5CE10': 'Zip_Code'}, inplace = True)\n",
    "df_zips = df_zips.astype({'Zip_Code': 'int32'})\n",
    "df_zips.head()"
   ]
  },
  {
   "cell_type": "code",
   "execution_count": 40,
   "id": "aaada8a1-faa2-4dc8-bd97-d46e51c44a86",
   "metadata": {},
   "outputs": [
    {
     "data": {
      "text/html": [
       "<div>\n",
       "<style scoped>\n",
       "    .dataframe tbody tr th:only-of-type {\n",
       "        vertical-align: middle;\n",
       "    }\n",
       "\n",
       "    .dataframe tbody tr th {\n",
       "        vertical-align: top;\n",
       "    }\n",
       "\n",
       "    .dataframe thead th {\n",
       "        text-align: right;\n",
       "    }\n",
       "</style>\n",
       "<table border=\"1\" class=\"dataframe\">\n",
       "  <thead>\n",
       "    <tr style=\"text-align: right;\">\n",
       "      <th></th>\n",
       "      <th>STATEFP</th>\n",
       "      <th>STATENS</th>\n",
       "      <th>AFFGEOID</th>\n",
       "      <th>GEOID</th>\n",
       "      <th>STUSPS</th>\n",
       "      <th>NAME</th>\n",
       "      <th>LSAD</th>\n",
       "      <th>ALAND</th>\n",
       "      <th>AWATER</th>\n",
       "      <th>geometry</th>\n",
       "    </tr>\n",
       "  </thead>\n",
       "  <tbody>\n",
       "    <tr>\n",
       "      <th>0</th>\n",
       "      <td>28</td>\n",
       "      <td>01779790</td>\n",
       "      <td>0400000US28</td>\n",
       "      <td>28</td>\n",
       "      <td>MS</td>\n",
       "      <td>Mississippi</td>\n",
       "      <td>00</td>\n",
       "      <td>121533519481</td>\n",
       "      <td>3926919758</td>\n",
       "      <td>MULTIPOLYGON (((-88.50297 30.21523, -88.49176 ...</td>\n",
       "    </tr>\n",
       "    <tr>\n",
       "      <th>1</th>\n",
       "      <td>37</td>\n",
       "      <td>01027616</td>\n",
       "      <td>0400000US37</td>\n",
       "      <td>37</td>\n",
       "      <td>NC</td>\n",
       "      <td>North Carolina</td>\n",
       "      <td>00</td>\n",
       "      <td>125923656064</td>\n",
       "      <td>13466071395</td>\n",
       "      <td>MULTIPOLYGON (((-75.72681 35.93584, -75.71827 ...</td>\n",
       "    </tr>\n",
       "    <tr>\n",
       "      <th>2</th>\n",
       "      <td>40</td>\n",
       "      <td>01102857</td>\n",
       "      <td>0400000US40</td>\n",
       "      <td>40</td>\n",
       "      <td>OK</td>\n",
       "      <td>Oklahoma</td>\n",
       "      <td>00</td>\n",
       "      <td>177662925723</td>\n",
       "      <td>3374587997</td>\n",
       "      <td>POLYGON ((-103.00257 36.52659, -103.00219 36.6...</td>\n",
       "    </tr>\n",
       "    <tr>\n",
       "      <th>3</th>\n",
       "      <td>51</td>\n",
       "      <td>01779803</td>\n",
       "      <td>0400000US51</td>\n",
       "      <td>51</td>\n",
       "      <td>VA</td>\n",
       "      <td>Virginia</td>\n",
       "      <td>00</td>\n",
       "      <td>102257717110</td>\n",
       "      <td>8528531774</td>\n",
       "      <td>MULTIPOLYGON (((-75.74241 37.80835, -75.74151 ...</td>\n",
       "    </tr>\n",
       "    <tr>\n",
       "      <th>4</th>\n",
       "      <td>54</td>\n",
       "      <td>01779805</td>\n",
       "      <td>0400000US54</td>\n",
       "      <td>54</td>\n",
       "      <td>WV</td>\n",
       "      <td>West Virginia</td>\n",
       "      <td>00</td>\n",
       "      <td>62266474513</td>\n",
       "      <td>489028543</td>\n",
       "      <td>POLYGON ((-82.64320 38.16909, -82.64300 38.169...</td>\n",
       "    </tr>\n",
       "  </tbody>\n",
       "</table>\n",
       "</div>"
      ],
      "text/plain": [
       "  STATEFP   STATENS     AFFGEOID GEOID STUSPS            NAME LSAD  \\\n",
       "0      28  01779790  0400000US28    28     MS     Mississippi   00   \n",
       "1      37  01027616  0400000US37    37     NC  North Carolina   00   \n",
       "2      40  01102857  0400000US40    40     OK        Oklahoma   00   \n",
       "3      51  01779803  0400000US51    51     VA        Virginia   00   \n",
       "4      54  01779805  0400000US54    54     WV   West Virginia   00   \n",
       "\n",
       "          ALAND       AWATER  \\\n",
       "0  121533519481   3926919758   \n",
       "1  125923656064  13466071395   \n",
       "2  177662925723   3374587997   \n",
       "3  102257717110   8528531774   \n",
       "4   62266474513    489028543   \n",
       "\n",
       "                                            geometry  \n",
       "0  MULTIPOLYGON (((-88.50297 30.21523, -88.49176 ...  \n",
       "1  MULTIPOLYGON (((-75.72681 35.93584, -75.71827 ...  \n",
       "2  POLYGON ((-103.00257 36.52659, -103.00219 36.6...  \n",
       "3  MULTIPOLYGON (((-75.74241 37.80835, -75.74151 ...  \n",
       "4  POLYGON ((-82.64320 38.16909, -82.64300 38.169...  "
      ]
     },
     "execution_count": 40,
     "metadata": {},
     "output_type": "execute_result"
    }
   ],
   "source": [
    "#read state outline file and remove outlying states and territories\n",
    "df_us = geopandas.read_file('cb_2018_us_state_500k/cb_2018_us_state_500k.shp')\n",
    "df_us = df_us[~df_us.STUSPS.isin(['AK','HI', 'AA', 'AE','AP','PR','RI','VI'])]\n",
    "df_us.head()"
   ]
  },
  {
   "cell_type": "code",
   "execution_count": 41,
   "id": "0009ba7f-d340-49eb-b0ac-815f9e3b92fe",
   "metadata": {},
   "outputs": [],
   "source": [
    "#iterate to get zip code values \n",
    "numeric_df = pd.DataFrame(columns=['Zip_Code', 'Party_Encoded'])\n",
    "for index, row in geo_df.iterrows():\n",
    "    #go through list of geotargeting\n",
    "    for location in geo_df.iloc[index, 0]:\n",
    "        if location.isdigit():\n",
    "            loc_int = int(location)\n",
    "            party = geo_df.iloc[index, 2]\n",
    "            dict = {'Zip_Code': loc_int, 'Party_Encoded': party}\n",
    "            numeric_df = numeric_df.append(dict, ignore_index=True)\n"
   ]
  },
  {
   "cell_type": "code",
   "execution_count": 42,
   "id": "220555ea-cf2b-4440-9aff-77cc91fa4262",
   "metadata": {},
   "outputs": [
    {
     "data": {
      "text/html": [
       "<div>\n",
       "<style scoped>\n",
       "    .dataframe tbody tr th:only-of-type {\n",
       "        vertical-align: middle;\n",
       "    }\n",
       "\n",
       "    .dataframe tbody tr th {\n",
       "        vertical-align: top;\n",
       "    }\n",
       "\n",
       "    .dataframe thead th {\n",
       "        text-align: right;\n",
       "    }\n",
       "</style>\n",
       "<table border=\"1\" class=\"dataframe\">\n",
       "  <thead>\n",
       "    <tr style=\"text-align: right;\">\n",
       "      <th></th>\n",
       "      <th>Zip_Code</th>\n",
       "      <th>Party_Encoded</th>\n",
       "    </tr>\n",
       "  </thead>\n",
       "  <tbody>\n",
       "    <tr>\n",
       "      <th>0</th>\n",
       "      <td>15047.0</td>\n",
       "      <td>1.0</td>\n",
       "    </tr>\n",
       "    <tr>\n",
       "      <th>1</th>\n",
       "      <td>48075.0</td>\n",
       "      <td>1.0</td>\n",
       "    </tr>\n",
       "    <tr>\n",
       "      <th>2</th>\n",
       "      <td>32202.0</td>\n",
       "      <td>1.0</td>\n",
       "    </tr>\n",
       "    <tr>\n",
       "      <th>3</th>\n",
       "      <td>15047.0</td>\n",
       "      <td>1.0</td>\n",
       "    </tr>\n",
       "    <tr>\n",
       "      <th>4</th>\n",
       "      <td>48033.0</td>\n",
       "      <td>1.0</td>\n",
       "    </tr>\n",
       "  </tbody>\n",
       "</table>\n",
       "</div>"
      ],
      "text/plain": [
       "   Zip_Code  Party_Encoded\n",
       "0   15047.0            1.0\n",
       "1   48075.0            1.0\n",
       "2   32202.0            1.0\n",
       "3   15047.0            1.0\n",
       "4   48033.0            1.0"
      ]
     },
     "execution_count": 42,
     "metadata": {},
     "output_type": "execute_result"
    }
   ],
   "source": [
    "numeric_df.head()"
   ]
  },
  {
   "cell_type": "code",
   "execution_count": 43,
   "id": "fe0cd2a3-41bd-4e8b-b5cd-218a3e3d840f",
   "metadata": {},
   "outputs": [],
   "source": [
    "#change columns to type int\n",
    "numeric_df = numeric_df.astype('int32')"
   ]
  },
  {
   "cell_type": "code",
   "execution_count": 48,
   "id": "e816089b-4bf2-48df-b4e3-ad2dee8e1b98",
   "metadata": {},
   "outputs": [
    {
     "data": {
      "text/html": [
       "<div>\n",
       "<style scoped>\n",
       "    .dataframe tbody tr th:only-of-type {\n",
       "        vertical-align: middle;\n",
       "    }\n",
       "\n",
       "    .dataframe tbody tr th {\n",
       "        vertical-align: top;\n",
       "    }\n",
       "\n",
       "    .dataframe thead th {\n",
       "        text-align: right;\n",
       "    }\n",
       "</style>\n",
       "<table border=\"1\" class=\"dataframe\">\n",
       "  <thead>\n",
       "    <tr style=\"text-align: right;\">\n",
       "      <th></th>\n",
       "      <th>Zip_Code</th>\n",
       "      <th>AFFGEOID10</th>\n",
       "      <th>GEOID10</th>\n",
       "      <th>ALAND10</th>\n",
       "      <th>AWATER10</th>\n",
       "      <th>geometry</th>\n",
       "      <th>Party_Encoded</th>\n",
       "    </tr>\n",
       "  </thead>\n",
       "  <tbody>\n",
       "    <tr>\n",
       "      <th>0</th>\n",
       "      <td>4354</td>\n",
       "      <td>8600000US04354</td>\n",
       "      <td>04354</td>\n",
       "      <td>105047926</td>\n",
       "      <td>7796255</td>\n",
       "      <td>POLYGON ((-69.44550 44.46384, -69.39599 44.457...</td>\n",
       "      <td>1</td>\n",
       "    </tr>\n",
       "    <tr>\n",
       "      <th>1</th>\n",
       "      <td>4354</td>\n",
       "      <td>8600000US04354</td>\n",
       "      <td>04354</td>\n",
       "      <td>105047926</td>\n",
       "      <td>7796255</td>\n",
       "      <td>POLYGON ((-69.44550 44.46384, -69.39599 44.457...</td>\n",
       "      <td>1</td>\n",
       "    </tr>\n",
       "    <tr>\n",
       "      <th>2</th>\n",
       "      <td>98304</td>\n",
       "      <td>8600000US98304</td>\n",
       "      <td>98304</td>\n",
       "      <td>890510652</td>\n",
       "      <td>10512605</td>\n",
       "      <td>POLYGON ((-122.17145 46.82080, -122.17142 46.8...</td>\n",
       "      <td>0</td>\n",
       "    </tr>\n",
       "    <tr>\n",
       "      <th>3</th>\n",
       "      <td>98304</td>\n",
       "      <td>8600000US98304</td>\n",
       "      <td>98304</td>\n",
       "      <td>890510652</td>\n",
       "      <td>10512605</td>\n",
       "      <td>POLYGON ((-122.17145 46.82080, -122.17142 46.8...</td>\n",
       "      <td>1</td>\n",
       "    </tr>\n",
       "    <tr>\n",
       "      <th>4</th>\n",
       "      <td>98304</td>\n",
       "      <td>8600000US98304</td>\n",
       "      <td>98304</td>\n",
       "      <td>890510652</td>\n",
       "      <td>10512605</td>\n",
       "      <td>POLYGON ((-122.17145 46.82080, -122.17142 46.8...</td>\n",
       "      <td>1</td>\n",
       "    </tr>\n",
       "  </tbody>\n",
       "</table>\n",
       "</div>"
      ],
      "text/plain": [
       "   Zip_Code      AFFGEOID10 GEOID10    ALAND10  AWATER10  \\\n",
       "0      4354  8600000US04354   04354  105047926   7796255   \n",
       "1      4354  8600000US04354   04354  105047926   7796255   \n",
       "2     98304  8600000US98304   98304  890510652  10512605   \n",
       "3     98304  8600000US98304   98304  890510652  10512605   \n",
       "4     98304  8600000US98304   98304  890510652  10512605   \n",
       "\n",
       "                                            geometry  Party_Encoded  \n",
       "0  POLYGON ((-69.44550 44.46384, -69.39599 44.457...              1  \n",
       "1  POLYGON ((-69.44550 44.46384, -69.39599 44.457...              1  \n",
       "2  POLYGON ((-122.17145 46.82080, -122.17142 46.8...              0  \n",
       "3  POLYGON ((-122.17145 46.82080, -122.17142 46.8...              1  \n",
       "4  POLYGON ((-122.17145 46.82080, -122.17142 46.8...              1  "
      ]
     },
     "execution_count": 48,
     "metadata": {},
     "output_type": "execute_result"
    }
   ],
   "source": [
    "#merge shape file with zip code and party dataframe\n",
    "merged = df_zips.merge(numeric_df, on = 'Zip_Code')\n",
    "merged.head()"
   ]
  },
  {
   "cell_type": "code",
   "execution_count": 45,
   "id": "6b6be94b-d4fa-41f9-82d9-33e49bdf7047",
   "metadata": {},
   "outputs": [],
   "source": [
    "from matplotlib.colors import LinearSegmentedColormap\n",
    "cmap = LinearSegmentedColormap.from_list(\n",
    "    'mycmap', [(0, 'red'), (1, 'blue')])"
   ]
  },
  {
   "cell_type": "code",
   "execution_count": 50,
   "id": "19b855a9-1559-4833-be63-0eb1a57e0387",
   "metadata": {},
   "outputs": [
    {
     "data": {
      "image/png": "[encoded data removed]",
      "text/plain": [
       "<Figure size 432x288 with 1 Axes>"
      ]
     },
     "metadata": {
      "needs_background": "light"
     },
     "output_type": "display_data"
    }
   ],
   "source": [
    "fig, ax = plt.subplots();\n",
    "df_us.plot(ax=ax, alpha=0.1);\n",
    "ax.set_xlim([-130, -60]);\n",
    "ax.set_ylim([20, 55]);\n",
    "merged.plot(column='Party_Encoded', cmap=cmap, linewidth=10, ax=ax);\n",
    "plt.title('Geotargeting by Zip Code for Republican and Democratic Advertisers');"
   ]
  },
  {
   "cell_type": "markdown",
   "id": "ce53f2db-981c-4143-bfa9-00199419c1d5",
   "metadata": {},
   "source": [
    "This map shows zip code areas where ads in our data are targeted, and by which political party. At a glance, there are clearly large areas of the country that were not targeted, perhaps some of those were left out in the merge with the FEC data. There do seem to be significant blocks of targeting in areas of Texas, Georgia, Arizona, Florida, and the Midwest, all areas where we saw particular interest during the 2020 election. "
   ]
  },
  {
   "cell_type": "markdown",
   "id": "844e84fe-1b1c-4e6b-964d-e9448ed79fd2",
   "metadata": {},
   "source": [
    "***"
   ]
  },
  {
   "cell_type": "markdown",
   "id": "e70a3886-50a7-47b8-8ca0-5f168ab793d5",
   "metadata": {},
   "source": [
    "# Analysis 2: Examining Age Targeting and Ad Impressions\n",
    "<b>Preregisration Statement:</b>We will look into the relationship between two variables: age targeting and impressions of the ads. The relationship between age targeting and ad impressions is important because it can provide information about which age groups need to be targeted more in present and future campaigns. We will determine this relationship by creating a linear regression model for the variables, with categorical variables being represented by numerical values. The linear regression model allows for predictions to be made about future data, making it an important method to use to determine the relationship between age-targeting in ads and their impressions. These analysis will help answer one of our research questions regarding how different targeting attributes (e.g. age, gender, geo-targeting) affect ad type and ad exposure. Our hypotheses are that there is a statistically significant relationship between age-targeting in ads and ad impressions, and that ads targeted towards older generations will have more impressions because research has shown that older age groups are more likely to vote. If the second hypothesis is correct, it will tell us that younger generations should be targeted more by ad campaigns to increase voter turnout in that demographic. Even if the first hypothesis is incorrect and there is no significant relationship between age-targeting and ad impressions, this information could still be useful. Knowing this would allow politicians to focus their ads on relationships that are potentially more significant, for example, socioeconomic status and ad impressions."
   ]
  },
  {
   "cell_type": "code",
   "execution_count": 52,
   "id": "3f95df70-a497-4e01-a086-03cecd92ff4b",
   "metadata": {},
   "outputs": [
    {
     "data": {
      "text/html": [
       "<div>\n",
       "<style scoped>\n",
       "    .dataframe tbody tr th:only-of-type {\n",
       "        vertical-align: middle;\n",
       "    }\n",
       "\n",
       "    .dataframe tbody tr th {\n",
       "        vertical-align: top;\n",
       "    }\n",
       "\n",
       "    .dataframe thead th {\n",
       "        text-align: right;\n",
       "    }\n",
       "</style>\n",
       "<table border=\"1\" class=\"dataframe\">\n",
       "  <thead>\n",
       "    <tr style=\"text-align: right;\">\n",
       "      <th></th>\n",
       "      <th>Ad_Type</th>\n",
       "      <th>Regions</th>\n",
       "      <th>Advertiser_Name</th>\n",
       "      <th>Date_Range_Start</th>\n",
       "      <th>Date_Range_End</th>\n",
       "      <th>Num_of_Days</th>\n",
       "      <th>Impressions</th>\n",
       "      <th>Spend_USD</th>\n",
       "      <th>Age_Targeting</th>\n",
       "      <th>Gender_Targeting</th>\n",
       "      <th>Geo_Targeting_Included</th>\n",
       "      <th>Geo_Targeting_Excluded</th>\n",
       "      <th>Spend_Range_Min_USD</th>\n",
       "      <th>Spend_Range_Max_USD</th>\n",
       "      <th>Areas_Targeted</th>\n",
       "      <th>Ad_Type_Code</th>\n",
       "      <th>Impression_Type</th>\n",
       "    </tr>\n",
       "  </thead>\n",
       "  <tbody>\n",
       "    <tr>\n",
       "      <th>0</th>\n",
       "      <td>Text</td>\n",
       "      <td>US</td>\n",
       "      <td>ALEX FOR AZ</td>\n",
       "      <td>2020-07-08</td>\n",
       "      <td>2020-08-04</td>\n",
       "      <td>28.0</td>\n",
       "      <td>≤ 10k</td>\n",
       "      <td>1k-50k</td>\n",
       "      <td>Not targeted</td>\n",
       "      <td>Not targeted</td>\n",
       "      <td>85054, 85207, 85215, 85250, 85251, 85253, 8525...</td>\n",
       "      <td>Not targeted</td>\n",
       "      <td>1000.0</td>\n",
       "      <td>50000.0</td>\n",
       "      <td>{'Cave creek', 'Phoenix', 'Fort mcdowell', 'Sc...</td>\n",
       "      <td>2</td>\n",
       "      <td>1</td>\n",
       "    </tr>\n",
       "    <tr>\n",
       "      <th>1</th>\n",
       "      <td>Text</td>\n",
       "      <td>US</td>\n",
       "      <td>ALEX FOR AZ</td>\n",
       "      <td>2020-07-07</td>\n",
       "      <td>2020-08-04</td>\n",
       "      <td>29.0</td>\n",
       "      <td>≤ 10k</td>\n",
       "      <td>1k-50k</td>\n",
       "      <td>Not targeted</td>\n",
       "      <td>Not targeted</td>\n",
       "      <td>85054, 85207, 85215, 85250, 85251, 85253, 8525...</td>\n",
       "      <td>Not targeted</td>\n",
       "      <td>1000.0</td>\n",
       "      <td>50000.0</td>\n",
       "      <td>{'Cave creek', 'Phoenix', 'Fort mcdowell', 'Sc...</td>\n",
       "      <td>2</td>\n",
       "      <td>1</td>\n",
       "    </tr>\n",
       "    <tr>\n",
       "      <th>2</th>\n",
       "      <td>Text</td>\n",
       "      <td>US</td>\n",
       "      <td>PETE FOR AMERICA, INC.</td>\n",
       "      <td>2020-02-22</td>\n",
       "      <td>2020-02-22</td>\n",
       "      <td>1.0</td>\n",
       "      <td>≤ 10k</td>\n",
       "      <td>1k-50k</td>\n",
       "      <td>Not targeted</td>\n",
       "      <td>Not targeted</td>\n",
       "      <td>Nevada</td>\n",
       "      <td>Not targeted</td>\n",
       "      <td>1000.0</td>\n",
       "      <td>50000.0</td>\n",
       "      <td>{'Nevada'}</td>\n",
       "      <td>2</td>\n",
       "      <td>1</td>\n",
       "    </tr>\n",
       "    <tr>\n",
       "      <th>3</th>\n",
       "      <td>Text</td>\n",
       "      <td>US</td>\n",
       "      <td>PETE FOR AMERICA, INC.</td>\n",
       "      <td>2019-08-14</td>\n",
       "      <td>2019-10-15</td>\n",
       "      <td>62.0</td>\n",
       "      <td>≤ 10k</td>\n",
       "      <td>1k-50k</td>\n",
       "      <td>Not targeted</td>\n",
       "      <td>Not targeted</td>\n",
       "      <td>New Hampshire</td>\n",
       "      <td>Not targeted</td>\n",
       "      <td>1000.0</td>\n",
       "      <td>50000.0</td>\n",
       "      <td>{'New Hampshire'}</td>\n",
       "      <td>2</td>\n",
       "      <td>1</td>\n",
       "    </tr>\n",
       "    <tr>\n",
       "      <th>4</th>\n",
       "      <td>Text</td>\n",
       "      <td>US</td>\n",
       "      <td>PETE FOR AMERICA, INC.</td>\n",
       "      <td>2020-02-27</td>\n",
       "      <td>2020-02-29</td>\n",
       "      <td>3.0</td>\n",
       "      <td>≤ 10k</td>\n",
       "      <td>1k-50k</td>\n",
       "      <td>Not targeted</td>\n",
       "      <td>Not targeted</td>\n",
       "      <td>South Carolina</td>\n",
       "      <td>Not targeted</td>\n",
       "      <td>1000.0</td>\n",
       "      <td>50000.0</td>\n",
       "      <td>{'South Carolina'}</td>\n",
       "      <td>2</td>\n",
       "      <td>1</td>\n",
       "    </tr>\n",
       "  </tbody>\n",
       "</table>\n",
       "</div>"
      ],
      "text/plain": [
       "  Ad_Type Regions         Advertiser_Name Date_Range_Start Date_Range_End  \\\n",
       "0    Text      US             ALEX FOR AZ       2020-07-08     2020-08-04   \n",
       "1    Text      US             ALEX FOR AZ       2020-07-07     2020-08-04   \n",
       "2    Text      US  PETE FOR AMERICA, INC.       2020-02-22     2020-02-22   \n",
       "3    Text      US  PETE FOR AMERICA, INC.       2019-08-14     2019-10-15   \n",
       "4    Text      US  PETE FOR AMERICA, INC.       2020-02-27     2020-02-29   \n",
       "\n",
       "   Num_of_Days Impressions Spend_USD Age_Targeting Gender_Targeting  \\\n",
       "0         28.0       ≤ 10k    1k-50k  Not targeted     Not targeted   \n",
       "1         29.0       ≤ 10k    1k-50k  Not targeted     Not targeted   \n",
       "2          1.0       ≤ 10k    1k-50k  Not targeted     Not targeted   \n",
       "3         62.0       ≤ 10k    1k-50k  Not targeted     Not targeted   \n",
       "4          3.0       ≤ 10k    1k-50k  Not targeted     Not targeted   \n",
       "\n",
       "                              Geo_Targeting_Included Geo_Targeting_Excluded  \\\n",
       "0  85054, 85207, 85215, 85250, 85251, 85253, 8525...           Not targeted   \n",
       "1  85054, 85207, 85215, 85250, 85251, 85253, 8525...           Not targeted   \n",
       "2                                             Nevada           Not targeted   \n",
       "3                                      New Hampshire           Not targeted   \n",
       "4                                     South Carolina           Not targeted   \n",
       "\n",
       "   Spend_Range_Min_USD  Spend_Range_Max_USD  \\\n",
       "0               1000.0              50000.0   \n",
       "1               1000.0              50000.0   \n",
       "2               1000.0              50000.0   \n",
       "3               1000.0              50000.0   \n",
       "4               1000.0              50000.0   \n",
       "\n",
       "                                      Areas_Targeted  Ad_Type_Code  \\\n",
       "0  {'Cave creek', 'Phoenix', 'Fort mcdowell', 'Sc...             2   \n",
       "1  {'Cave creek', 'Phoenix', 'Fort mcdowell', 'Sc...             2   \n",
       "2                                         {'Nevada'}             2   \n",
       "3                                  {'New Hampshire'}             2   \n",
       "4                                 {'South Carolina'}             2   \n",
       "\n",
       "   Impression_Type  \n",
       "0                1  \n",
       "1                1  \n",
       "2                1  \n",
       "3                1  \n",
       "4                1  "
      ]
     },
     "execution_count": 52,
     "metadata": {},
     "output_type": "execute_result"
    }
   ],
   "source": [
    "data = pd.read_csv('final_dataframe.csv')\n",
    "data.head()"
   ]
  },
  {
   "cell_type": "code",
   "execution_count": 53,
   "id": "52dcf0b7-d0f3-4547-a568-fcd281ed4173",
   "metadata": {},
   "outputs": [
    {
     "data": {
      "text/html": [
       "<div>\n",
       "<style scoped>\n",
       "    .dataframe tbody tr th:only-of-type {\n",
       "        vertical-align: middle;\n",
       "    }\n",
       "\n",
       "    .dataframe tbody tr th {\n",
       "        vertical-align: top;\n",
       "    }\n",
       "\n",
       "    .dataframe thead th {\n",
       "        text-align: right;\n",
       "    }\n",
       "</style>\n",
       "<table border=\"1\" class=\"dataframe\">\n",
       "  <thead>\n",
       "    <tr style=\"text-align: right;\">\n",
       "      <th></th>\n",
       "      <th>Age_Targeting</th>\n",
       "      <th>Impressions</th>\n",
       "      <th>Impression_Type</th>\n",
       "    </tr>\n",
       "  </thead>\n",
       "  <tbody>\n",
       "    <tr>\n",
       "      <th>0</th>\n",
       "      <td>18-24, 25-34, 35-44, 45-54, 55-64, ≥65, Unknow...</td>\n",
       "      <td>≤ 10k</td>\n",
       "      <td>1</td>\n",
       "    </tr>\n",
       "    <tr>\n",
       "      <th>1</th>\n",
       "      <td>18-24, 25-34, 35-44, 45-54, 55-64, ≥65, Unknow...</td>\n",
       "      <td>≤ 10k</td>\n",
       "      <td>1</td>\n",
       "    </tr>\n",
       "    <tr>\n",
       "      <th>2</th>\n",
       "      <td>18-24, 25-34, 35-44, 45-54, 55-64, ≥65, Unknow...</td>\n",
       "      <td>≤ 10k</td>\n",
       "      <td>1</td>\n",
       "    </tr>\n",
       "    <tr>\n",
       "      <th>3</th>\n",
       "      <td>18-24, 25-34, 35-44, 45-54, 55-64, ≥65, Unknow...</td>\n",
       "      <td>≤ 10k</td>\n",
       "      <td>1</td>\n",
       "    </tr>\n",
       "    <tr>\n",
       "      <th>4</th>\n",
       "      <td>18-24, 25-34, 35-44, 45-54, 55-64, ≥65, Unknow...</td>\n",
       "      <td>≤ 10k</td>\n",
       "      <td>1</td>\n",
       "    </tr>\n",
       "    <tr>\n",
       "      <th>...</th>\n",
       "      <td>...</td>\n",
       "      <td>...</td>\n",
       "      <td>...</td>\n",
       "    </tr>\n",
       "    <tr>\n",
       "      <th>44988</th>\n",
       "      <td>18-24, 25-34, 35-44, 45-54, 55-64, ≥65, Unknow...</td>\n",
       "      <td>&gt; 10M</td>\n",
       "      <td>5</td>\n",
       "    </tr>\n",
       "    <tr>\n",
       "      <th>44989</th>\n",
       "      <td>18-24, 25-34, 35-44, 45-54, 55-64, ≥65, Unknow...</td>\n",
       "      <td>&gt; 10M</td>\n",
       "      <td>5</td>\n",
       "    </tr>\n",
       "    <tr>\n",
       "      <th>44990</th>\n",
       "      <td>18-24, 25-34, 35-44, 45-54, 55-64, ≥65, Unknow...</td>\n",
       "      <td>&gt; 10M</td>\n",
       "      <td>5</td>\n",
       "    </tr>\n",
       "    <tr>\n",
       "      <th>44991</th>\n",
       "      <td>18-24, 25-34, 35-44, 45-54, 55-64, ≥65, Unknow...</td>\n",
       "      <td>&gt; 10M</td>\n",
       "      <td>5</td>\n",
       "    </tr>\n",
       "    <tr>\n",
       "      <th>44992</th>\n",
       "      <td>18-24, 25-34, 35-44, 45-54, 55-64, ≥65, Unknow...</td>\n",
       "      <td>&gt; 10M</td>\n",
       "      <td>5</td>\n",
       "    </tr>\n",
       "  </tbody>\n",
       "</table>\n",
       "<p>44993 rows × 3 columns</p>\n",
       "</div>"
      ],
      "text/plain": [
       "                                           Age_Targeting Impressions  \\\n",
       "0      18-24, 25-34, 35-44, 45-54, 55-64, ≥65, Unknow...       ≤ 10k   \n",
       "1      18-24, 25-34, 35-44, 45-54, 55-64, ≥65, Unknow...       ≤ 10k   \n",
       "2      18-24, 25-34, 35-44, 45-54, 55-64, ≥65, Unknow...       ≤ 10k   \n",
       "3      18-24, 25-34, 35-44, 45-54, 55-64, ≥65, Unknow...       ≤ 10k   \n",
       "4      18-24, 25-34, 35-44, 45-54, 55-64, ≥65, Unknow...       ≤ 10k   \n",
       "...                                                  ...         ...   \n",
       "44988  18-24, 25-34, 35-44, 45-54, 55-64, ≥65, Unknow...       > 10M   \n",
       "44989  18-24, 25-34, 35-44, 45-54, 55-64, ≥65, Unknow...       > 10M   \n",
       "44990  18-24, 25-34, 35-44, 45-54, 55-64, ≥65, Unknow...       > 10M   \n",
       "44991  18-24, 25-34, 35-44, 45-54, 55-64, ≥65, Unknow...       > 10M   \n",
       "44992  18-24, 25-34, 35-44, 45-54, 55-64, ≥65, Unknow...       > 10M   \n",
       "\n",
       "       Impression_Type  \n",
       "0                    1  \n",
       "1                    1  \n",
       "2                    1  \n",
       "3                    1  \n",
       "4                    1  \n",
       "...                ...  \n",
       "44988                5  \n",
       "44989                5  \n",
       "44990                5  \n",
       "44991                5  \n",
       "44992                5  \n",
       "\n",
       "[44993 rows x 3 columns]"
      ]
     },
     "execution_count": 53,
     "metadata": {},
     "output_type": "execute_result"
    }
   ],
   "source": [
    "#reducing to only necessary columns, getting rid of ads that aren't age targeted\n",
    "age_df = data[['Age_Targeting', 'Impressions', 'Impression_Type']]\n",
    "age_df = age_df.loc[data['Age_Targeting'] != 'Not targeted']\n",
    "age_df.reset_index(drop = True)"
   ]
  },
  {
   "cell_type": "code",
   "execution_count": 54,
   "id": "81f2fa65-c5d1-4d7b-9d13-441f0205c8f0",
   "metadata": {},
   "outputs": [],
   "source": [
    "#make age targeting column into list\n",
    "age_list = [x.split(', ') for x in age_df['Age_Targeting']]"
   ]
  },
  {
   "cell_type": "code",
   "execution_count": 55,
   "id": "6ddec788-ba51-4472-a5f1-e74705155a8a",
   "metadata": {},
   "outputs": [],
   "source": [
    "age_df['Age_Targeting_List'] = age_list"
   ]
  },
  {
   "cell_type": "code",
   "execution_count": 56,
   "id": "8963fdef-9532-4343-af24-29b4b5daeb3e",
   "metadata": {},
   "outputs": [
    {
     "name": "stderr",
     "output_type": "stream",
     "text": [
      "/var/folders/ng/n22ngf7s1rb1986lmpbmtnh40000gn/T/ipykernel_31411/1774886150.py:2: FutureWarning: Using the level keyword in DataFrame and Series aggregations is deprecated and will be removed in a future version. Use groupby instead. df.sum(level=1) should use df.groupby(level=1).sum().\n",
      "  age_dummies = pd.get_dummies(age_df['Age_Targeting_List'].explode()).sum(level=0)\n"
     ]
    },
    {
     "data": {
      "text/html": [
       "<div>\n",
       "<style scoped>\n",
       "    .dataframe tbody tr th:only-of-type {\n",
       "        vertical-align: middle;\n",
       "    }\n",
       "\n",
       "    .dataframe tbody tr th {\n",
       "        vertical-align: top;\n",
       "    }\n",
       "\n",
       "    .dataframe thead th {\n",
       "        text-align: right;\n",
       "    }\n",
       "</style>\n",
       "<table border=\"1\" class=\"dataframe\">\n",
       "  <thead>\n",
       "    <tr style=\"text-align: right;\">\n",
       "      <th></th>\n",
       "      <th>18-24</th>\n",
       "      <th>25-34</th>\n",
       "      <th>35-44</th>\n",
       "      <th>45-54</th>\n",
       "      <th>55-64</th>\n",
       "      <th>Unknown age</th>\n",
       "      <th>≤18</th>\n",
       "      <th>≥65</th>\n",
       "      <th>Impression_Type</th>\n",
       "    </tr>\n",
       "  </thead>\n",
       "  <tbody>\n",
       "    <tr>\n",
       "      <th>77</th>\n",
       "      <td>1</td>\n",
       "      <td>1</td>\n",
       "      <td>1</td>\n",
       "      <td>1</td>\n",
       "      <td>1</td>\n",
       "      <td>1</td>\n",
       "      <td>1</td>\n",
       "      <td>1</td>\n",
       "      <td>1</td>\n",
       "    </tr>\n",
       "    <tr>\n",
       "      <th>94</th>\n",
       "      <td>1</td>\n",
       "      <td>1</td>\n",
       "      <td>1</td>\n",
       "      <td>1</td>\n",
       "      <td>1</td>\n",
       "      <td>1</td>\n",
       "      <td>0</td>\n",
       "      <td>1</td>\n",
       "      <td>1</td>\n",
       "    </tr>\n",
       "    <tr>\n",
       "      <th>96</th>\n",
       "      <td>1</td>\n",
       "      <td>1</td>\n",
       "      <td>1</td>\n",
       "      <td>1</td>\n",
       "      <td>1</td>\n",
       "      <td>1</td>\n",
       "      <td>0</td>\n",
       "      <td>1</td>\n",
       "      <td>1</td>\n",
       "    </tr>\n",
       "    <tr>\n",
       "      <th>97</th>\n",
       "      <td>1</td>\n",
       "      <td>1</td>\n",
       "      <td>1</td>\n",
       "      <td>1</td>\n",
       "      <td>1</td>\n",
       "      <td>1</td>\n",
       "      <td>0</td>\n",
       "      <td>1</td>\n",
       "      <td>1</td>\n",
       "    </tr>\n",
       "    <tr>\n",
       "      <th>98</th>\n",
       "      <td>1</td>\n",
       "      <td>1</td>\n",
       "      <td>1</td>\n",
       "      <td>1</td>\n",
       "      <td>1</td>\n",
       "      <td>1</td>\n",
       "      <td>0</td>\n",
       "      <td>1</td>\n",
       "      <td>1</td>\n",
       "    </tr>\n",
       "  </tbody>\n",
       "</table>\n",
       "</div>"
      ],
      "text/plain": [
       "    18-24  25-34  35-44  45-54  55-64  Unknown age  ≤18  ≥65  Impression_Type\n",
       "77      1      1      1      1      1            1    1    1                1\n",
       "94      1      1      1      1      1            1    0    1                1\n",
       "96      1      1      1      1      1            1    0    1                1\n",
       "97      1      1      1      1      1            1    0    1                1\n",
       "98      1      1      1      1      1            1    0    1                1"
      ]
     },
     "execution_count": 56,
     "metadata": {},
     "output_type": "execute_result"
    }
   ],
   "source": [
    "#create dummy variables for each age range\n",
    "age_dummies = pd.get_dummies(age_df['Age_Targeting_List'].explode()).sum(level=0)\n",
    "age_dummies['Impression_Type'] = age_df['Impression_Type']\n",
    "age_dummies.reset_index(drop = True)\n",
    "age_dummies.head()"
   ]
  },
  {
   "cell_type": "code",
   "execution_count": 57,
   "id": "01944b30-96bc-44a5-9030-2604ad869e93",
   "metadata": {},
   "outputs": [],
   "source": [
    "#delete unknown age\n",
    "age_dummies.drop(columns = ['Unknown age'], inplace = True)"
   ]
  },
  {
   "cell_type": "code",
   "execution_count": 58,
   "id": "5dd81233-4adf-4a44-8197-49262c7fa115",
   "metadata": {},
   "outputs": [
    {
     "name": "stdout",
     "output_type": "stream",
     "text": [
      "18-24    42673\n",
      "25-34    42994\n",
      "35-44    44151\n",
      "45-54    44210\n",
      "55-64    44055\n",
      "≤18      19333\n",
      "≥65      43991\n",
      "dtype: int64\n"
     ]
    }
   ],
   "source": [
    "#create series of column sums\n",
    "arr = age_dummies.drop(columns = ['Impression_Type']).sum(axis = 0)\n",
    "print(arr)"
   ]
  },
  {
   "cell_type": "code",
   "execution_count": 59,
   "id": "275cfe10-396f-4a83-86bb-8549676eac90",
   "metadata": {},
   "outputs": [
    {
     "data": {
      "image/png": "[encoded data removed]",
      "text/plain": [
       "<Figure size 432x288 with 1 Axes>"
      ]
     },
     "metadata": {
      "needs_background": "light"
     },
     "output_type": "display_data"
    }
   ],
   "source": [
    "#plot column sums\n",
    "arr.plot(kind = 'bar');\n",
    "plt.xlabel('Age Targeting Bracket');\n",
    "plt.ylabel('Number of Ads Targeted');"
   ]
  },
  {
   "cell_type": "markdown",
   "id": "aef56f2a-ddb2-486a-a21b-bcd8f933a058",
   "metadata": {},
   "source": [
    "All age brackets seem to have a pretty uniform distribution, except for <18 which makes sense because that age bracket can't vote!"
   ]
  },
  {
   "cell_type": "code",
   "execution_count": 60,
   "id": "eec85f6c-4e43-4926-99e4-0cfefb05c6b2",
   "metadata": {},
   "outputs": [],
   "source": [
    "predictors_ages = list(age_dummies.columns)\n",
    "predictors_ages.remove('Impression_Type')\n",
    "#create linear regression model\n",
    "lin_model = LinearRegression().fit(age_dummies[predictors_ages], age_dummies['Impression_Type'])"
   ]
  },
  {
   "cell_type": "code",
   "execution_count": 61,
   "id": "4ff7a235-7a75-481f-8674-0bc1f34bc164",
   "metadata": {},
   "outputs": [
    {
     "data": {
      "text/plain": [
       "0.0009268657310729234"
      ]
     },
     "execution_count": 61,
     "metadata": {},
     "output_type": "execute_result"
    }
   ],
   "source": [
    "lin_model.score(age_dummies[predictors_ages], age_dummies['Impression_Type'])"
   ]
  },
  {
   "cell_type": "markdown",
   "id": "bb1270d6-3621-44f8-bbec-3b2f184e2efc",
   "metadata": {},
   "source": [
    "So, this is clearly a terrible model, age targeting is not particuarly indicative of how many impressions an ad will recieve"
   ]
  },
  {
   "cell_type": "code",
   "execution_count": 62,
   "id": "426ed4a9-d563-4f6d-9578-60e39ba60010",
   "metadata": {},
   "outputs": [
    {
     "name": "stdout",
     "output_type": "stream",
     "text": [
      "18-24    4901\n",
      "25-34    4913\n",
      "35-44    5026\n",
      "45-54    5040\n",
      "55-64    5051\n",
      "≤18      2353\n",
      "≥65      5047\n",
      "dtype: int64\n"
     ]
    }
   ],
   "source": [
    "#try filtering by impressions over 1 million -- impression type 4 or 5\n",
    "impressions_filtered = age_dummies.loc[(age_dummies['Impression_Type'] == 4) | (age_dummies['Impression_Type'] == 5)]\n",
    "#create sum array again\n",
    "arr_filtered = impressions_filtered.drop(columns = ['Impression_Type']).sum(axis = 0)\n",
    "print(arr_filtered)"
   ]
  },
  {
   "cell_type": "code",
   "execution_count": 63,
   "id": "d854f4d6-b6d2-47db-8069-cb5ccfb56c19",
   "metadata": {},
   "outputs": [
    {
     "data": {
      "image/png": "[encoded data removed]",
      "text/plain": [
       "<Figure size 432x288 with 1 Axes>"
      ]
     },
     "metadata": {
      "needs_background": "light"
     },
     "output_type": "display_data"
    }
   ],
   "source": [
    "arr_filtered.plot(kind = 'bar');\n",
    "plt.xlabel('Age Targeting Bracket');\n",
    "plt.ylabel('Number of Ads Targeted with over 1 million impressions');"
   ]
  },
  {
   "cell_type": "markdown",
   "id": "d479ea4c-88c1-4b1d-b2e9-8cc39ab1bffc",
   "metadata": {},
   "source": [
    "It appears that our original preregistered hypothesis was rejected; there is no indication that age group targeting has a impact on the number of impressions the advertisement recieves. The linear regression model proved to be a poor measure of prediction, likely because of the discrete nature of both the predictor and response variables. Additionally, bar plots of the number of ads targed to each age group have a pretty uniform distribution, with one exception. The age group of <18 was targeted at a much lower rate, which makes sense becasue they are unable to vote and are thus less important to political interests. Even when the data was filtered to just include ads with over a million impressions, there was still a pretty uniform distribtion (except for <18, again.)\n",
    "\n",
    "Based on thte way the Google dataset was formatted, many advertisements target all or many age groups. Because there is not breakdown between how many impressions there were for each age group in these cases, we lost out on a lot of potential insight. Additionally, because impressions were binned to large intervals, the linear regression model was less successful. It is still possible that age targeting leads to different amounts of ad impressions; maybe younger age groups lead to more impressions because they spend more time on Google. However, based on teh data available to us, we were unable to find a correlation.\n",
    "\n",
    "<b>Big Picture:</b> Google advertisements are only one portion of all political advertising. Age is an important factor that political groups must take into consideration as some age blocs vote at higher rates or are more important in certain areas. The location in which ads are placed on Google is an outside influence on number of Impressions, a variable based on many factors. So, although we did not find that age targeting was an indictor of number of impressions, it is likely a very complex mechanism. Our barplots show an even distribution across ages except for the <18 bracket. Although this difference makes sense, there were still thousands of advertisents targeted to people who are unable to vote. Further analysis and research could look into what ads targeting the <18 bracket look like and what political groups are hoping to accomplish by targeting them."
   ]
  },
  {
   "cell_type": "markdown",
   "id": "776e859d-a1f9-470e-a7a2-4dfadaad4924",
   "metadata": {},
   "source": [
    "***"
   ]
  },
  {
   "cell_type": "markdown",
   "id": "7bd13f0b-14e9-425c-91aa-1edc49fd7eaf",
   "metadata": {},
   "source": [
    "#  Analysis 3: Examining Ad Spending and Impressions\n",
    "<b>Preregistration Statement: </b>We recognize that dealing with wide-ranging data in certain columns as it stands is tricky, so we’re opting to keep the recorded ranges (e.g. for “impressions”, we’ll go with the bins of <10K, 10K-100K, etc.) as long as these reveal significant differences between the bins, which our Histogram of Ad Spending Counts implies. In addition, we will aim to take a deeper dive into one of the bins (e.g. for Histogram of Ad Spending) and use a bootstrapping test to see if impressions are statistically different between spending bins. For example, we will identify possible variations of data that occur in the 100K-1M “impressions” bin where an impression is the metric used to quantify the number of digital views or engagements that a certain political ad experiences. Using the “impressions” variable in  this analysis is important, because it’s among the key variables for which the Transparency Report’s data is segmented into wide-ranging bins. Exploring variations in “impressions” bins will help us zoom in to discern insightful trends on the count of different impression ranges and corresponding spend range minimums. In terms of our hypothesis for this preregistered analysis, I expect that the greatest count of impressions will fall within the 100K-1M range. These hypothetical results will contribute to our overall project by clarifying significant differences between “impressions” bins."
   ]
  },
  {
   "cell_type": "code",
   "execution_count": 67,
   "id": "2d526ff9-650a-4508-8910-aa48adb8dc1d",
   "metadata": {},
   "outputs": [
    {
     "data": {
      "image/png": "[encoded data removed]",
      "text/plain": [
       "<Figure size 432x288 with 1 Axes>"
      ]
     },
     "metadata": {
      "needs_background": "light"
     },
     "output_type": "display_data"
    }
   ],
   "source": [
    "#filter data to just those with impressions over a million\n",
    "clean_data = data.loc[(data['Impressions']=='1M-10M') | (data['Impressions']=='> 10M')]\n",
    "sns.histplot(x = 'Spend_Range_Min_USD', hue = 'Impressions', data = clean_data, multiple = 'stack')\n",
    "plt.xlabel('Spend Range Minimum');\n",
    "plt.title('Histogram of Ad Spending Counts');"
   ]
  },
  {
   "cell_type": "code",
   "execution_count": 68,
   "id": "dc326907-5ee1-42de-be1a-766049e95457",
   "metadata": {},
   "outputs": [
    {
     "data": {
      "text/html": [
       "<div>\n",
       "<style scoped>\n",
       "    .dataframe tbody tr th:only-of-type {\n",
       "        vertical-align: middle;\n",
       "    }\n",
       "\n",
       "    .dataframe tbody tr th {\n",
       "        vertical-align: top;\n",
       "    }\n",
       "\n",
       "    .dataframe thead th {\n",
       "        text-align: right;\n",
       "    }\n",
       "</style>\n",
       "<table border=\"1\" class=\"dataframe\">\n",
       "  <thead>\n",
       "    <tr style=\"text-align: right;\">\n",
       "      <th></th>\n",
       "      <th>Impressions</th>\n",
       "      <th>Spend_USD</th>\n",
       "    </tr>\n",
       "  </thead>\n",
       "  <tbody>\n",
       "    <tr>\n",
       "      <th>count</th>\n",
       "      <td>9744</td>\n",
       "      <td>9744</td>\n",
       "    </tr>\n",
       "    <tr>\n",
       "      <th>unique</th>\n",
       "      <td>2</td>\n",
       "      <td>3</td>\n",
       "    </tr>\n",
       "    <tr>\n",
       "      <th>top</th>\n",
       "      <td>1M-10M</td>\n",
       "      <td>1k-50k</td>\n",
       "    </tr>\n",
       "    <tr>\n",
       "      <th>freq</th>\n",
       "      <td>8754</td>\n",
       "      <td>8168</td>\n",
       "    </tr>\n",
       "  </tbody>\n",
       "</table>\n",
       "</div>"
      ],
      "text/plain": [
       "       Impressions Spend_USD\n",
       "count         9744      9744\n",
       "unique           2         3\n",
       "top         1M-10M    1k-50k\n",
       "freq          8754      8168"
      ]
     },
     "execution_count": 68,
     "metadata": {},
     "output_type": "execute_result"
    }
   ],
   "source": [
    "#summary stats\n",
    "clean_data[['Impressions', 'Spend_USD']].describe()"
   ]
  },
  {
   "cell_type": "code",
   "execution_count": 69,
   "id": "1ecc9dfa-514b-4681-8f78-725d9c01872b",
   "metadata": {},
   "outputs": [
    {
     "data": {
      "text/html": [
       "<div>\n",
       "<style scoped>\n",
       "    .dataframe tbody tr th:only-of-type {\n",
       "        vertical-align: middle;\n",
       "    }\n",
       "\n",
       "    .dataframe tbody tr th {\n",
       "        vertical-align: top;\n",
       "    }\n",
       "\n",
       "    .dataframe thead th {\n",
       "        text-align: right;\n",
       "    }\n",
       "</style>\n",
       "<table border=\"1\" class=\"dataframe\">\n",
       "  <thead>\n",
       "    <tr style=\"text-align: right;\">\n",
       "      <th></th>\n",
       "      <th>Impressions</th>\n",
       "      <th>Spend_USD</th>\n",
       "    </tr>\n",
       "  </thead>\n",
       "  <tbody>\n",
       "    <tr>\n",
       "      <th>0</th>\n",
       "      <td>1M-10M</td>\n",
       "      <td>1k-50k</td>\n",
       "    </tr>\n",
       "  </tbody>\n",
       "</table>\n",
       "</div>"
      ],
      "text/plain": [
       "  Impressions Spend_USD\n",
       "0      1M-10M    1k-50k"
      ]
     },
     "execution_count": 69,
     "metadata": {},
     "output_type": "execute_result"
    }
   ],
   "source": [
    "clean_data[['Impressions', 'Spend_USD']].mode()"
   ]
  },
  {
   "cell_type": "markdown",
   "id": "38fbbbaa-ac9d-4f30-b3ab-b00d5493a7c5",
   "metadata": {},
   "source": [
    "The **\"Histogram of Ad Spend Counts\"** provides several key insights: \n",
    "\n",
    "1. Foremost, the majority of ads (7,500) that fall under the '1M-10M' impressions bucket have a spend range minimum that's between \\\\$0-10k. About 833 ads in the same bucket have a spend range minimum that's between \\\\$40-60k. Lastly, about 333 ads in the '1M-1M' impressions bucket have a spend range minimum that's almost \\\\$100k.\n",
    "\n",
    "**Big picture:** overall, even the ads generating the second highest number of impressions (1M-10M) are produced pretty economically. Only about 13\\% of the ads have a spend range minimum of \\\\$40-60k or 100k.\n",
    "\n",
    "2. About 500 ads in the '> 10M' bucket have a spend range minimum that's between \\\\$0-10k. About 167 ads have a spend range minimum that's between \\\\$40-60k. Lastly, about 333 ads in the '> 10M' impressions bucket have a spend range minimum that's almost \\\\$100k.\n",
    "\n",
    "**Big picture:** Half of all ads generating the highest number of impressions (> 10M) are produced pretty economically. The fraction of items that have a larger spend range minimum of \\\\$40-60k or \\\\$100k is, however, significantly greater (50\\%) than it is for the '1M-10M' bucket. This suggests that advertising committees are, on average, more willing to invest greater sums of money to produce > 10M impressions, which makes sense. They will be willing to spend more to achieve greater return on investment.\n",
    "***"
   ]
  },
  {
   "cell_type": "markdown",
   "id": "8d83b5a8-a402-4ae9-897c-67ec5cf954aa",
   "metadata": {},
   "source": [
    "**Big picture:**  Our **summary stats** lend the following insights:\n",
    "\n",
    "1. 'Impressions' and 'Spend_USD' are assessed for a total of 81,228 ads.\n",
    "2. The dataframe contains 5 unique values for 'Impressions' and 3 unique values for 'Spend_USD'.\n",
    "3. The highest range of values for 'Impressions' is 100k-1M; the highest range of values for 'Spend_USD' is 1k-50k.\n",
    "4. For 'Impressions', the value that occurs with the greatest frequency occurs in 42,633 ads. For 'Spend_USD', the value that occurs with the greatest frequency occurs in 79,110 ads. \n",
    "\n",
    "Finally, DF.mode() results indicate that the **mode for the variables**, 'Impressions' and 'Spend_USD', is 100k-1M and 1k-50k respectively."
   ]
  },
  {
   "cell_type": "markdown",
   "id": "83d0ba9b-c44d-473a-926f-67fcfe93bb11",
   "metadata": {},
   "source": [
    "# Overall Limitations"
   ]
  },
  {
   "cell_type": "markdown",
   "id": "88fbb9e9-6667-46a4-b56c-11b58cc704d2",
   "metadata": {},
   "source": [
    "There are a few different aspects of the data set that areproblematic. In some of the columns (Impressions and Spend_USD) the data is given in very wide ranges. For example, one advertisement is reported to have reached between one hundred thousand and one million people. Having such wide ranges can negatively affect accuracy of data and make it more difficult to make predictions based on the data, since we don’t know how many impressions were made by the ads with more specificity. Additionally, according to the Transparency Report, data was collected by requesting that people use a browser extension that records political ads that they view. This method of data collection excludes individuals who opted out of using the extension, and since we don’t know how many people that was, we may not be getting the most accurate data results.\n",
    "\n",
    "Geographic Targeting is also grouped in an inconvenient manner. In cleaning the data, I used zip code data to add a new column with city names instead of zip codes where applicable. However, the geographic targeting column still includes a mix of zip codes, states, and counties, which are obviously not the same measurements or types. I was able to work around this by filtering by states when analyzing geographic targeting, but this still misses a decent amount of information.\n",
    "***"
   ]
  },
  {
   "cell_type": "markdown",
   "id": "51bc3a97-a316-4b01-b76d-2fac2339d231",
   "metadata": {},
   "source": [
    "# Source code\n",
    "Cornell Box where cleaned dataframe and other datasets are housed: https://cornell.box.com/s/xbblomg4twic8bin1vzm6wks5fc6f6us\n",
    "\n",
    "Github Repository: https://github.com/esalamon17/Info-2950-Project\n",
    "\n",
    "Code for cleaning the data is found in the data_cleaning.ipynb file on Github\n"
   ]
  },
  {
   "cell_type": "markdown",
   "id": "6dc315a0-4516-442e-932f-c8d6f36298c2",
   "metadata": {},
   "source": [
    "# Acknowledgments\n",
    "Throughout the process of this project, we have gained important and helpful insight from several sources. First, we’d like to acknowledge the 2950 teaching assistants, who have given us feedback and advice on how to best proceed and be successful in our assignments. We would also like to recognize the Gebru et al. article that we used as a resource for our data descriptions. Last, but not least, we would like to acknowledge the source of our project data, a Google Transparency Report on political advertisements in the United States. Other sources, such as zip code data, US census bureau, and FEC data were also necessary to perform our analyses. This data was gathered from the following sources:\n",
    "\n",
    "Google Transparency Report: https://transparencyreport.google.com/political-ads/region/US\n",
    "\n",
    "Zip Code Data: http://federalgovernmentzipcodes.us/\n",
    "\n",
    "US Census Bureau Cartographic Files: https://www.census.gov/geographies/mapping-files/time-series/geo/cartographic-boundary.html\n",
    "\n",
    "FEC Political Committees: https://www.fec.gov/data/browse-data/?tab=committees\n",
    "\n"
   ]
  },
  {
   "cell_type": "markdown",
   "id": "4f6fa005-f456-46ae-84a7-706bdae5bd4f",
   "metadata": {},
   "source": [
    "##### We also found the following links to be helpful in completing our project:  \n",
    "\n",
    "Resources with tutorials on geopandas and mapping cartographic data:\n",
    "\n",
    "https://towardsdatascience.com/redlining-mapping-inequality-in-peer-2-peer-lending-using-geopandas-part-2-9d8af584df0b\n",
    "\n",
    "https://towardsdatascience.com/lets-make-a-map-using-geopandas-pandas-and-matplotlib-to-make-a-chloropleth-map-dddc31c1983d\n",
    "\n",
    "Stack overflow page with information on the explode method:\n",
    "https://stackoverflow.com/questions/29034928/pandas-convert-a-column-of-list-to-dummies"
   ]
  },
  {
   "cell_type": "markdown",
   "id": "1f406149-5f00-4dd2-a573-714a8ff5a4f7",
   "metadata": {},
   "source": [
    "# Questions for Reviewers"
   ]
  },
  {
   "cell_type": "markdown",
   "id": "3487a139-ef1b-45be-b436-340956738c02",
   "metadata": {},
   "source": [
    "- Do you have suggested content for the optional “other appendices”? \n",
    "- In the acknowledgements, should we be mentioning our original data set source or should we just include other resources we used?\n",
    "- For our third analysis looking at differences in impressions vs spending, how can we extend our analysis in the final project in order to see if there are significant differences between spending brackets in impressions? What kind of statistical test/python modules should we use?\n"
   ]
  },
  {
   "cell_type": "code",
   "execution_count": null,
   "id": "ba844216-2793-419e-8baa-c4c874b46984",
   "metadata": {},
   "outputs": [],
   "source": []
  }
 ],
 "metadata": {
  "kernelspec": {
   "display_name": "Python 3 (ipykernel)",
   "language": "python",
   "name": "python3"
  },
  "language_info": {
   "codemirror_mode": {
    "name": "ipython",
    "version": 3
   },
   "file_extension": ".py",
   "mimetype": "text/x-python",
   "name": "python",
   "nbconvert_exporter": "python",
   "pygments_lexer": "ipython3",
   "version": "3.8.2"
  }
 },
 "nbformat": 4,
 "nbformat_minor": 5
}
